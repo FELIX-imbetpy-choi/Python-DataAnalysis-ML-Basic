{
 "cells": [
  {
   "cell_type": "markdown",
   "metadata": {},
   "source": [
    "# KONLPY \n",
    "### 한글언어를 사용하면 자동으로 명사 형용사 등 문법을 구분하여 준다.\n",
    "\n",
    "- pip install konlpy 설치   \n",
    "JPype1-0.6.3-cp37-cp37m-win_amd64 파일 컴퓨터 내에 설치(https://www.lfd.uci.edu/~gohlke/pythonlibs/#jpype)     \n",
    "cmd에서 python -m pip install C:\\Users\\GSCHOI\\Downloads\\JPype1-0.6.3-cp37-cp37m-win_amd64.whl    \n",
    "cmd에서 pip install konlpy     \n",
    "참고 (http://excelsior-cjh.tistory.com/54)  "
   ]
  },
  {
   "cell_type": "markdown",
   "metadata": {},
   "source": [
    "### 각 형태소 분리 시스템이 있는 나라들은 이러한 분류 툴을 가지고 있음 (대부분의 선진국들이 가지고 있다)\n",
    "### 이러한 툴이 없다면 일일히 다 구분하여 주는 작업을 매번 해야한다."
   ]
  },
  {
   "cell_type": "markdown",
   "metadata": {},
   "source": [
    "# Kkma"
   ]
  },
  {
   "cell_type": "code",
   "execution_count": 2,
   "metadata": {},
   "outputs": [],
   "source": [
    "from konlpy.tag import Kkma # kkmma module\n",
    "\n",
    "\n",
    "\n"
   ]
  },
  {
   "cell_type": "code",
   "execution_count": 3,
   "metadata": {},
   "outputs": [],
   "source": [
    "kkma = Kkma()\n",
    "\n",
    "\n",
    "\n"
   ]
  },
  {
   "cell_type": "code",
   "execution_count": 4,
   "metadata": {},
   "outputs": [
    {
     "data": {
      "text/plain": [
       "['나는 자랑스러운 태극기 앞에 자유롭고 정의로운 대한민국의 무궁한 영광을 위하여 충성을 다 할 것을 굳게 다짐합니다.']"
      ]
     },
     "execution_count": 4,
     "metadata": {},
     "output_type": "execute_result"
    }
   ],
   "source": [
    "# sentences 는 문장을 만들어준다.\n",
    "kkma.sentences('나는 자랑스러운 태극기 앞에 자유롭고 정의로운 대한민국의 \\\n",
    "            무궁한 영광을 위하여 충성을 다 할 것을 굳게 다짐합니다.')\n",
    "\n",
    "\n",
    "\n"
   ]
  },
  {
   "cell_type": "code",
   "execution_count": 13,
   "metadata": {},
   "outputs": [
    {
     "data": {
      "text/plain": [
       "['나', '자랑', '태극기', '앞', '자유', '정의', '대한', '대한민국', '민국', '무궁', '영광', '충성', '다짐']"
      ]
     },
     "execution_count": 13,
     "metadata": {},
     "output_type": "execute_result"
    }
   ],
   "source": [
    "# 명사만 뽑아서 보여준다.\n",
    "kn=kkma.nouns('나는 자랑스러운 태극기 앞에 자유롭고 정의로운 대한민국의 \\\n",
    "            무궁한 영광을 위하여 충성을 다 할 것을 굳게 다짐합니다.')\n",
    "kn\n",
    "\n",
    "\n",
    "\n"
   ]
  },
  {
   "cell_type": "code",
   "execution_count": 6,
   "metadata": {},
   "outputs": [
    {
     "data": {
      "text/plain": [
       "[('나', 'NP'),\n",
       " ('는', 'JX'),\n",
       " ('자랑', 'NNG'),\n",
       " ('스럽', 'XSA'),\n",
       " ('ㄴ', 'ETD'),\n",
       " ('태극기', 'NNG'),\n",
       " ('앞', 'NNG'),\n",
       " ('에', 'JKM'),\n",
       " ('자유', 'NNG'),\n",
       " ('롭', 'XSA'),\n",
       " ('고', 'ECE'),\n",
       " ('정의', 'NNG'),\n",
       " ('롭', 'XSA'),\n",
       " ('ㄴ', 'ETD'),\n",
       " ('대한민국', 'NNG'),\n",
       " ('의', 'JKG'),\n",
       " ('무궁', 'NNG'),\n",
       " ('하', 'XSV'),\n",
       " ('ㄴ', 'ETD'),\n",
       " ('영광', 'NNG'),\n",
       " ('을', 'JKO'),\n",
       " ('위하', 'VV'),\n",
       " ('여', 'ECS'),\n",
       " ('충성', 'NNG'),\n",
       " ('을', 'JKO'),\n",
       " ('다', 'MAG'),\n",
       " ('하', 'VV'),\n",
       " ('ㄹ', 'ETD'),\n",
       " ('것', 'NNB'),\n",
       " ('을', 'JKO'),\n",
       " ('굳', 'VA'),\n",
       " ('게', 'ECD'),\n",
       " ('다짐', 'NNG'),\n",
       " ('하', 'XSV'),\n",
       " ('ㅂ니다', 'EFN'),\n",
       " ('.', 'SF')]"
      ]
     },
     "execution_count": 6,
     "metadata": {},
     "output_type": "execute_result"
    }
   ],
   "source": [
    "# pos는 각 문법명을 명시해 준다.\n",
    "kkma.pos('나는 자랑스러운 태극기 앞에 자유롭고 정의로운 대한민국의 \\\n",
    "            무궁한 영광을 위하여 충성을 다 할 것을 굳게 다짐합니다.')\n",
    "\n",
    "\n",
    "\n"
   ]
  },
  {
   "cell_type": "code",
   "execution_count": 9,
   "metadata": {},
   "outputs": [
    {
     "data": {
      "text/plain": [
       "'나'"
      ]
     },
     "execution_count": 9,
     "metadata": {},
     "output_type": "execute_result"
    }
   ],
   "source": [
    "#  명사 중 1번째것을 \n",
    "kn[0]\n",
    "\n",
    "\n",
    "\n"
   ]
  },
  {
   "cell_type": "code",
   "execution_count": 10,
   "metadata": {},
   "outputs": [
    {
     "name": "stdout",
     "output_type": "stream",
     "text": [
      "나\n",
      "자랑\n",
      "태극기\n",
      "앞\n",
      "자유\n",
      "정의\n",
      "대한\n",
      "대한민국\n",
      "민국\n",
      "무궁\n",
      "영광\n",
      "충성\n",
      "다짐\n"
     ]
    }
   ],
   "source": [
    "for i in kn:\n",
    "    print(i)\n",
    "\n",
    "\n",
    "\n"
   ]
  },
  {
   "cell_type": "markdown",
   "metadata": {},
   "source": [
    "# Hannanum"
   ]
  },
  {
   "cell_type": "code",
   "execution_count": 11,
   "metadata": {},
   "outputs": [],
   "source": [
    "from konlpy.tag import Hannanum # Hannanum\n",
    "hananum = Hannanum()\n",
    "\n",
    "\n",
    "\n"
   ]
  },
  {
   "cell_type": "code",
   "execution_count": 14,
   "metadata": {},
   "outputs": [
    {
     "data": {
      "text/plain": [
       "['나', '자랑', '태극기', '앞', '자유', '정의로운', '대한민국', '무궁한', '영광', '충성', '것', '다짐']"
      ]
     },
     "execution_count": 14,
     "metadata": {},
     "output_type": "execute_result"
    }
   ],
   "source": [
    "# Kkma 와는 약간 다르게 명사를 인식해 보여준다.\n",
    "hananum.nouns('나는 자랑스러운 태극기 앞에 자유롭고 정의로운 대한민국의 \\\n",
    "            무궁한 영광을 위하여 충성을 다 할 것을 굳게 다짐합니다.')\n",
    "\n",
    "\n",
    "\n"
   ]
  },
  {
   "cell_type": "code",
   "execution_count": 15,
   "metadata": {},
   "outputs": [
    {
     "data": {
      "text/plain": [
       "[('나', 'N'),\n",
       " ('는', 'J'),\n",
       " ('자랑', 'N'),\n",
       " ('스럽', 'X'),\n",
       " ('은', 'E'),\n",
       " ('태극기', 'N'),\n",
       " ('앞', 'N'),\n",
       " ('에', 'J'),\n",
       " ('자유', 'N'),\n",
       " ('롭', 'X'),\n",
       " ('고', 'E'),\n",
       " ('정의로운', 'N'),\n",
       " ('대한민국', 'N'),\n",
       " ('의', 'J'),\n",
       " ('무궁한', 'N'),\n",
       " ('영광', 'N'),\n",
       " ('을', 'J'),\n",
       " ('위하', 'P'),\n",
       " ('어', 'E'),\n",
       " ('충성', 'N'),\n",
       " ('을', 'J'),\n",
       " ('다', 'M'),\n",
       " ('하', 'P'),\n",
       " ('ㄹ', 'E'),\n",
       " ('것', 'N'),\n",
       " ('을', 'J'),\n",
       " ('굳', 'P'),\n",
       " ('게', 'E'),\n",
       " ('다짐', 'N'),\n",
       " ('하', 'X'),\n",
       " ('ㅂ니다', 'E'),\n",
       " ('.', 'S')]"
      ]
     },
     "execution_count": 15,
     "metadata": {},
     "output_type": "execute_result"
    }
   ],
   "source": [
    "# pos\n",
    "hananum.pos('나는 자랑스러운 태극기 앞에 자유롭고 정의로운 대한민국의 \\\n",
    "            무궁한 영광을 위하여 충성을 다 할 것을 굳게 다짐합니다.')\n",
    "\n",
    "\n",
    "\n"
   ]
  },
  {
   "cell_type": "markdown",
   "metadata": {},
   "source": [
    "# Okt"
   ]
  },
  {
   "cell_type": "code",
   "execution_count": 16,
   "metadata": {},
   "outputs": [],
   "source": [
    "from konlpy.tag import Okt # Okt\n",
    "t = Okt()\n",
    "\n",
    "\n",
    "\n"
   ]
  },
  {
   "cell_type": "code",
   "execution_count": 17,
   "metadata": {},
   "outputs": [
    {
     "data": {
      "text/plain": [
       "['나', '태극기', '앞', '자유', '정의', '대한민국', '무궁', '영광', '위', '충성', '것', '다짐']"
      ]
     },
     "execution_count": 17,
     "metadata": {},
     "output_type": "execute_result"
    }
   ],
   "source": [
    "t.nouns('나는 자랑스러운 태극기 앞에 자유롭고 정의로운 대한민국의 \\\n",
    "            무궁한 영광을 위하여 충성을 다 할 것을 굳게 다짐합니다.')\n",
    "\n",
    "\n",
    "\n"
   ]
  },
  {
   "cell_type": "code",
   "execution_count": null,
   "metadata": {},
   "outputs": [],
   "source": []
  }
 ],
 "metadata": {
  "kernelspec": {
   "display_name": "Python 3",
   "language": "python",
   "name": "python3"
  },
  "language_info": {
   "codemirror_mode": {
    "name": "ipython",
    "version": 3
   },
   "file_extension": ".py",
   "mimetype": "text/x-python",
   "name": "python",
   "nbconvert_exporter": "python",
   "pygments_lexer": "ipython3",
   "version": "3.7.1"
  }
 },
 "nbformat": 4,
 "nbformat_minor": 2
}
