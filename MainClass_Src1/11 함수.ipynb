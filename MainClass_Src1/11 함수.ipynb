{
 "cells": [
  {
   "cell_type": "markdown",
   "metadata": {},
   "source": [
    "# 함수\n",
    "함수의 필요성\n",
    "- 똑같은 내용을 반복하여 작성하는 경우\n",
    "- 프로그램 유지보수시 프로그램의 흐름을 한번에 확인할 수 있다.\n",
    "함수구조:\n",
    "    def 함수명(dlstn,...):\n",
    "        문장1\n",
    "        문장2\n",
    "        return 결과값"
   ]
  },
  {
   "cell_type": "code",
   "execution_count": 1,
   "metadata": {},
   "outputs": [],
   "source": [
    "def sum(a,b):\n",
    "    return a+b\n",
    "\n",
    "\n",
    "\n",
    "\n"
   ]
  },
  {
   "cell_type": "code",
   "execution_count": 2,
   "metadata": {},
   "outputs": [
    {
     "data": {
      "text/plain": [
       "7"
      ]
     },
     "execution_count": 2,
     "metadata": {},
     "output_type": "execute_result"
    }
   ],
   "source": [
    "a = 3\n",
    "b = 4\n",
    "c = sum(a,b)\n",
    "c\n",
    "\n",
    "\n",
    "\n",
    "\n"
   ]
  },
  {
   "cell_type": "code",
   "execution_count": 3,
   "metadata": {},
   "outputs": [],
   "source": [
    "def hi():\n",
    "    return 'HI'\n",
    "\n",
    "\n",
    "\n",
    "\n"
   ]
  },
  {
   "cell_type": "code",
   "execution_count": 4,
   "metadata": {},
   "outputs": [],
   "source": [
    "def hi2():\n",
    "    print('HI2')\n",
    "    \n",
    "\n",
    "\n",
    "\n"
   ]
  },
  {
   "cell_type": "code",
   "execution_count": 5,
   "metadata": {},
   "outputs": [
    {
     "name": "stdout",
     "output_type": "stream",
     "text": [
      "HI\n"
     ]
    }
   ],
   "source": [
    "a = hi()\n",
    "print(a)\n",
    "\n",
    "\n",
    "\n",
    "\n"
   ]
  },
  {
   "cell_type": "code",
   "execution_count": 6,
   "metadata": {},
   "outputs": [
    {
     "name": "stdout",
     "output_type": "stream",
     "text": [
      "HI2\n",
      "None\n"
     ]
    }
   ],
   "source": [
    "a = hi2() # 첫째줄에서 HI2가 찍히고 리턴이 없으니 값이 없고 값이 없으니 NONE이 뜬다. 리턴문 쓰는게 편하다?\n",
    "print(a)\n",
    "\n",
    "\n",
    "\n",
    "\n"
   ]
  },
  {
   "cell_type": "code",
   "execution_count": 7,
   "metadata": {},
   "outputs": [],
   "source": [
    "# 여러개의 숫자를 받아 덧셈하는 함수 - 여러개의 입력값을 받으려면 * 사용\n",
    "def sumMany(*inputValue):\n",
    "    sum=0\n",
    "    for i in inputValue:\n",
    "        sum+=i\n",
    "    return sum\n",
    "\n",
    "\n",
    "\n",
    "\n"
   ]
  },
  {
   "cell_type": "code",
   "execution_count": 8,
   "metadata": {},
   "outputs": [
    {
     "data": {
      "text/plain": [
       "45"
      ]
     },
     "execution_count": 8,
     "metadata": {},
     "output_type": "execute_result"
    }
   ],
   "source": [
    "sumMany(1,2,3,4,5,6,7,8,9)\n",
    "\n",
    "\n",
    "\n",
    "\n"
   ]
  },
  {
   "cell_type": "code",
   "execution_count": 9,
   "metadata": {},
   "outputs": [],
   "source": [
    "#def aaa(a)\n",
    "#def aaa(a,b)\n",
    "#def aaa(a,b,c)\n",
    "#여러개의 숫자를 받아 덧셈하는 힘수?? - 변수가 몇개던지 상관 없이!\n",
    "def sum_mul(a,*inputValue):\n",
    "    sum = 0\n",
    "    mul = 1\n",
    "    if(a == 'sum'):\n",
    "        for i in inputValue:\n",
    "            sum = sum + i\n",
    "        return sum\n",
    "    elif(a == 'mul'):\n",
    "        for k in inputValue:\n",
    "            mul = mul * k\n",
    "        return mul\n",
    "    else:\n",
    "        print('what are you doing now?')\n",
    "        \n",
    "\n",
    "\n",
    "\n"
   ]
  },
  {
   "cell_type": "code",
   "execution_count": 10,
   "metadata": {},
   "outputs": [
    {
     "name": "stdout",
     "output_type": "stream",
     "text": [
      "what are you doing now?\n"
     ]
    }
   ],
   "source": [
    "sum_mul('sum',2,3,4,5)\n",
    "sum_mul('mul',1,2,3,4,5)\n",
    "sum_mul('kkk')\n",
    "\n",
    "\n",
    "\n",
    "\n"
   ]
  },
  {
   "cell_type": "code",
   "execution_count": 11,
   "metadata": {},
   "outputs": [],
   "source": [
    "#def aaa(a)\n",
    "#def aaa(a,b)\n",
    "#def aaa(a,b,c)\n",
    "#여러개의 숫자를 받아 덧셈하는 힘수?? - 변수가 몇개던지 상관 없이!\n",
    "def sum_mul(a,*inputValue):\n",
    "    sum = 0\n",
    "    mul = 1\n",
    "    if(a == 'sum'):\n",
    "        for i in inputValue:\n",
    "            sum = sum + i\n",
    "        result = sum\n",
    "    elif(a == 'mul'):\n",
    "        for k in inputValue:\n",
    "            mul = mul * k\n",
    "        result = mul\n",
    "    else:\n",
    "        result = 'what are you doing now?'\n",
    "    \n",
    "    return result #리턴문은 여러개 있어도 한개만 실행된다. \n",
    "\n",
    "\n",
    "\n",
    "\n",
    "\n",
    "\n",
    "\n",
    "\n"
   ]
  },
  {
   "cell_type": "code",
   "execution_count": 12,
   "metadata": {},
   "outputs": [
    {
     "data": {
      "text/plain": [
       "0"
      ]
     },
     "execution_count": 12,
     "metadata": {},
     "output_type": "execute_result"
    }
   ],
   "source": [
    "sum_mul('sum')\n",
    "\n",
    "\n",
    "\n",
    "\n"
   ]
  },
  {
   "cell_type": "code",
   "execution_count": 13,
   "metadata": {},
   "outputs": [],
   "source": [
    "def sumNmul(a,b):\n",
    "    return a+b,a*b\n",
    "\n",
    "\n",
    "\n",
    "\n"
   ]
  },
  {
   "cell_type": "code",
   "execution_count": 14,
   "metadata": {},
   "outputs": [
    {
     "data": {
      "text/plain": [
       "7"
      ]
     },
     "execution_count": 14,
     "metadata": {},
     "output_type": "execute_result"
    }
   ],
   "source": [
    "sumNmul(3,4)\n",
    "sumNmul(3,4)[0]\n",
    "\n",
    "\n",
    "\n",
    "\n"
   ]
  },
  {
   "cell_type": "code",
   "execution_count": 15,
   "metadata": {},
   "outputs": [
    {
     "name": "stdout",
     "output_type": "stream",
     "text": [
      "7\n",
      "12\n"
     ]
    }
   ],
   "source": [
    "Rsum, Rmul = sumNmul(3,4) #값을 두개로 받아서 쓸 수도 있다.\n",
    "print(Rsum)\n",
    "print(Rmul)\n",
    "\n",
    "\n",
    "\n",
    "\n"
   ]
  },
  {
   "cell_type": "code",
   "execution_count": 17,
   "metadata": {},
   "outputs": [],
   "source": [
    "def say_nick(a):\n",
    "    if(a == '바보'):\n",
    "        return                    # 그냥 리턴하게 되면 아무 값도 나오지 않게됨!!\n",
    "    else:\n",
    "        print('나의 별명은 %s 입니다'%a)\n",
    "        \n",
    "\n",
    "\n",
    "\n",
    "\n",
    "        \n",
    "        "
   ]
  },
  {
   "cell_type": "code",
   "execution_count": 20,
   "metadata": {},
   "outputs": [
    {
     "name": "stdout",
     "output_type": "stream",
     "text": [
      "나의 별명은 바보똥개 입니다\n"
     ]
    }
   ],
   "source": [
    "say_nick('바보똥개')\n",
    "\n",
    "\n",
    "\n",
    "\n"
   ]
  },
  {
   "cell_type": "code",
   "execution_count": null,
   "metadata": {},
   "outputs": [],
   "source": [
    "def sumpro(a,b):\n",
    "    pro = a + b\n",
    "    return pro\n",
    "\n",
    "\n",
    "\n",
    "\n"
   ]
  },
  {
   "cell_type": "code",
   "execution_count": null,
   "metadata": {},
   "outputs": [],
   "source": [
    "sumpro(1,2)\n",
    "\n",
    "\n",
    "\n",
    "\n"
   ]
  },
  {
   "cell_type": "code",
   "execution_count": 21,
   "metadata": {},
   "outputs": [
    {
     "name": "stdout",
     "output_type": "stream",
     "text": [
      "첫번째 숫자를 입력하세요(정수) : 1\n",
      "두번째 숫자를 입력하세요(정수) : 3\n",
      "두숫자의 합은 4 입니다\n"
     ]
    }
   ],
   "source": [
    "# 입력받기\n",
    "no1 = int(input(\"첫번째 숫자를 입력하세요(정수) : \"))\n",
    "no2 = int(input(\"두번째 숫자를 입력하세요(정수) : \"))\n",
    "\n",
    "def sumpro(no1,no2):\n",
    "    return no1+no2\n",
    "\n",
    "d = sumpro(no1,no2)\n",
    "print('두숫자의 합은 %d 입니다'%d)\n",
    "\n",
    "\n",
    "\n",
    "\n",
    "\n",
    "\n",
    "\n"
   ]
  },
  {
   "cell_type": "code",
   "execution_count": 22,
   "metadata": {},
   "outputs": [],
   "source": [
    "# 함수의 초기값 설정하기\n",
    "def say_myself(name,old,gender = True):\n",
    "    print('나의 이름은 %s 입니다'%name)\n",
    "    print('나이는 %d 입니다'%old)\n",
    "    if gender:\n",
    "        print('남자입니다')\n",
    "    else:\n",
    "        print('여자입니다.')\n",
    "        \n",
    "\n",
    "\n",
    "\n",
    "\n",
    "        \n",
    "        "
   ]
  },
  {
   "cell_type": "code",
   "execution_count": 23,
   "metadata": {},
   "outputs": [
    {
     "name": "stdout",
     "output_type": "stream",
     "text": [
      "나의 이름은 홍길동 입니다\n",
      "나이는 30 입니다\n",
      "남자입니다\n"
     ]
    }
   ],
   "source": [
    "say_myself('홍길동',30) # 젠더란에 아무것도 적지 않아도 적용시킬 수 있다.\n",
    "\n",
    "\n",
    "\n",
    "\n"
   ]
  },
  {
   "cell_type": "code",
   "execution_count": 24,
   "metadata": {},
   "outputs": [
    {
     "name": "stdout",
     "output_type": "stream",
     "text": [
      "나의 이름은 홍길순 입니다\n",
      "나이는 20 입니다\n",
      "여자입니다.\n"
     ]
    }
   ],
   "source": [
    "say_myself('홍길순', 20, False)   #기본값을 변경하면 다른 값을 출력할 수 있다.\n",
    "\n",
    "\n",
    "\n",
    "\n"
   ]
  }
 ],
 "metadata": {
  "kernelspec": {
   "display_name": "Python 3",
   "language": "python",
   "name": "python3"
  },
  "language_info": {
   "codemirror_mode": {
    "name": "ipython",
    "version": 3
   },
   "file_extension": ".py",
   "mimetype": "text/x-python",
   "name": "python",
   "nbconvert_exporter": "python",
   "pygments_lexer": "ipython3",
   "version": "3.7.1"
  }
 },
 "nbformat": 4,
 "nbformat_minor": 2
}
