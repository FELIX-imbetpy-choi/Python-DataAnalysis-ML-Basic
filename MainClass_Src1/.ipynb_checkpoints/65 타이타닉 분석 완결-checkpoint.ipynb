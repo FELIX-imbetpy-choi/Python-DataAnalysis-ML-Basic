{
 "cells": [
  {
   "cell_type": "markdown",
   "metadata": {},
   "source": [
    "# 성별, 티켓등급, 탑승항구의 데이터를 이용한\n",
    "# 타이타닉 데이터를 활용하여 생존자의 생존여부 예측"
   ]
  },
  {
   "cell_type": "code",
   "execution_count": 1,
   "metadata": {},
   "outputs": [],
   "source": [
    "import pandas as pd\n",
    "import numpy as np\n",
    "\n",
    "\n",
    "\n"
   ]
  },
  {
   "cell_type": "code",
   "execution_count": 4,
   "metadata": {},
   "outputs": [
    {
     "data": {
      "text/html": [
       "<div>\n",
       "<style scoped>\n",
       "    .dataframe tbody tr th:only-of-type {\n",
       "        vertical-align: middle;\n",
       "    }\n",
       "\n",
       "    .dataframe tbody tr th {\n",
       "        vertical-align: top;\n",
       "    }\n",
       "\n",
       "    .dataframe thead th {\n",
       "        text-align: right;\n",
       "    }\n",
       "</style>\n",
       "<table border=\"1\" class=\"dataframe\">\n",
       "  <thead>\n",
       "    <tr style=\"text-align: right;\">\n",
       "      <th></th>\n",
       "      <th>Survived</th>\n",
       "      <th>Pclass</th>\n",
       "      <th>Name</th>\n",
       "      <th>Sex</th>\n",
       "      <th>Age</th>\n",
       "      <th>SibSp</th>\n",
       "      <th>Parch</th>\n",
       "      <th>Ticket</th>\n",
       "      <th>Fare</th>\n",
       "      <th>Cabin</th>\n",
       "      <th>Embarked</th>\n",
       "    </tr>\n",
       "    <tr>\n",
       "      <th>PassengerId</th>\n",
       "      <th></th>\n",
       "      <th></th>\n",
       "      <th></th>\n",
       "      <th></th>\n",
       "      <th></th>\n",
       "      <th></th>\n",
       "      <th></th>\n",
       "      <th></th>\n",
       "      <th></th>\n",
       "      <th></th>\n",
       "      <th></th>\n",
       "    </tr>\n",
       "  </thead>\n",
       "  <tbody>\n",
       "    <tr>\n",
       "      <th>1</th>\n",
       "      <td>0</td>\n",
       "      <td>3</td>\n",
       "      <td>Braund, Mr. Owen Harris</td>\n",
       "      <td>male</td>\n",
       "      <td>22.0</td>\n",
       "      <td>1</td>\n",
       "      <td>0</td>\n",
       "      <td>A/5 21171</td>\n",
       "      <td>7.2500</td>\n",
       "      <td>NaN</td>\n",
       "      <td>S</td>\n",
       "    </tr>\n",
       "    <tr>\n",
       "      <th>2</th>\n",
       "      <td>1</td>\n",
       "      <td>1</td>\n",
       "      <td>Cumings, Mrs. John Bradley (Florence Briggs Th...</td>\n",
       "      <td>female</td>\n",
       "      <td>38.0</td>\n",
       "      <td>1</td>\n",
       "      <td>0</td>\n",
       "      <td>PC 17599</td>\n",
       "      <td>71.2833</td>\n",
       "      <td>C85</td>\n",
       "      <td>C</td>\n",
       "    </tr>\n",
       "    <tr>\n",
       "      <th>3</th>\n",
       "      <td>1</td>\n",
       "      <td>3</td>\n",
       "      <td>Heikkinen, Miss. Laina</td>\n",
       "      <td>female</td>\n",
       "      <td>26.0</td>\n",
       "      <td>0</td>\n",
       "      <td>0</td>\n",
       "      <td>STON/O2. 3101282</td>\n",
       "      <td>7.9250</td>\n",
       "      <td>NaN</td>\n",
       "      <td>S</td>\n",
       "    </tr>\n",
       "    <tr>\n",
       "      <th>4</th>\n",
       "      <td>1</td>\n",
       "      <td>1</td>\n",
       "      <td>Futrelle, Mrs. Jacques Heath (Lily May Peel)</td>\n",
       "      <td>female</td>\n",
       "      <td>35.0</td>\n",
       "      <td>1</td>\n",
       "      <td>0</td>\n",
       "      <td>113803</td>\n",
       "      <td>53.1000</td>\n",
       "      <td>C123</td>\n",
       "      <td>S</td>\n",
       "    </tr>\n",
       "    <tr>\n",
       "      <th>5</th>\n",
       "      <td>0</td>\n",
       "      <td>3</td>\n",
       "      <td>Allen, Mr. William Henry</td>\n",
       "      <td>male</td>\n",
       "      <td>35.0</td>\n",
       "      <td>0</td>\n",
       "      <td>0</td>\n",
       "      <td>373450</td>\n",
       "      <td>8.0500</td>\n",
       "      <td>NaN</td>\n",
       "      <td>S</td>\n",
       "    </tr>\n",
       "  </tbody>\n",
       "</table>\n",
       "</div>"
      ],
      "text/plain": [
       "             Survived  Pclass  \\\n",
       "PassengerId                     \n",
       "1                   0       3   \n",
       "2                   1       1   \n",
       "3                   1       3   \n",
       "4                   1       1   \n",
       "5                   0       3   \n",
       "\n",
       "                                                          Name     Sex   Age  \\\n",
       "PassengerId                                                                    \n",
       "1                                      Braund, Mr. Owen Harris    male  22.0   \n",
       "2            Cumings, Mrs. John Bradley (Florence Briggs Th...  female  38.0   \n",
       "3                                       Heikkinen, Miss. Laina  female  26.0   \n",
       "4                 Futrelle, Mrs. Jacques Heath (Lily May Peel)  female  35.0   \n",
       "5                                     Allen, Mr. William Henry    male  35.0   \n",
       "\n",
       "             SibSp  Parch            Ticket     Fare Cabin Embarked  \n",
       "PassengerId                                                          \n",
       "1                1      0         A/5 21171   7.2500   NaN        S  \n",
       "2                1      0          PC 17599  71.2833   C85        C  \n",
       "3                0      0  STON/O2. 3101282   7.9250   NaN        S  \n",
       "4                1      0            113803  53.1000  C123        S  \n",
       "5                0      0            373450   8.0500   NaN        S  "
      ]
     },
     "execution_count": 4,
     "metadata": {},
     "output_type": "execute_result"
    }
   ],
   "source": [
    "train_df = pd.read_csv('./data/train.csv',index_col='PassengerId')\n",
    "train_df.head()\n",
    "\n",
    "\n",
    "\n"
   ]
  },
  {
   "cell_type": "code",
   "execution_count": 6,
   "metadata": {},
   "outputs": [
    {
     "data": {
      "text/html": [
       "<div>\n",
       "<style scoped>\n",
       "    .dataframe tbody tr th:only-of-type {\n",
       "        vertical-align: middle;\n",
       "    }\n",
       "\n",
       "    .dataframe tbody tr th {\n",
       "        vertical-align: top;\n",
       "    }\n",
       "\n",
       "    .dataframe thead th {\n",
       "        text-align: right;\n",
       "    }\n",
       "</style>\n",
       "<table border=\"1\" class=\"dataframe\">\n",
       "  <thead>\n",
       "    <tr style=\"text-align: right;\">\n",
       "      <th></th>\n",
       "      <th>Survived</th>\n",
       "      <th>Pclass</th>\n",
       "      <th>Name</th>\n",
       "      <th>Sex</th>\n",
       "      <th>Age</th>\n",
       "      <th>SibSp</th>\n",
       "      <th>Parch</th>\n",
       "      <th>Ticket</th>\n",
       "      <th>Fare</th>\n",
       "      <th>Cabin</th>\n",
       "      <th>Embarked</th>\n",
       "    </tr>\n",
       "    <tr>\n",
       "      <th>PassengerId</th>\n",
       "      <th></th>\n",
       "      <th></th>\n",
       "      <th></th>\n",
       "      <th></th>\n",
       "      <th></th>\n",
       "      <th></th>\n",
       "      <th></th>\n",
       "      <th></th>\n",
       "      <th></th>\n",
       "      <th></th>\n",
       "      <th></th>\n",
       "    </tr>\n",
       "  </thead>\n",
       "  <tbody>\n",
       "    <tr>\n",
       "      <th>1</th>\n",
       "      <td>0</td>\n",
       "      <td>3</td>\n",
       "      <td>Braund, Mr. Owen Harris</td>\n",
       "      <td>male</td>\n",
       "      <td>22.0</td>\n",
       "      <td>1</td>\n",
       "      <td>0</td>\n",
       "      <td>A/5 21171</td>\n",
       "      <td>7.2500</td>\n",
       "      <td>NaN</td>\n",
       "      <td>S</td>\n",
       "    </tr>\n",
       "    <tr>\n",
       "      <th>2</th>\n",
       "      <td>1</td>\n",
       "      <td>1</td>\n",
       "      <td>Cumings, Mrs. John Bradley (Florence Briggs Th...</td>\n",
       "      <td>female</td>\n",
       "      <td>38.0</td>\n",
       "      <td>1</td>\n",
       "      <td>0</td>\n",
       "      <td>PC 17599</td>\n",
       "      <td>71.2833</td>\n",
       "      <td>C85</td>\n",
       "      <td>C</td>\n",
       "    </tr>\n",
       "    <tr>\n",
       "      <th>3</th>\n",
       "      <td>1</td>\n",
       "      <td>3</td>\n",
       "      <td>Heikkinen, Miss. Laina</td>\n",
       "      <td>female</td>\n",
       "      <td>26.0</td>\n",
       "      <td>0</td>\n",
       "      <td>0</td>\n",
       "      <td>STON/O2. 3101282</td>\n",
       "      <td>7.9250</td>\n",
       "      <td>NaN</td>\n",
       "      <td>S</td>\n",
       "    </tr>\n",
       "    <tr>\n",
       "      <th>4</th>\n",
       "      <td>1</td>\n",
       "      <td>1</td>\n",
       "      <td>Futrelle, Mrs. Jacques Heath (Lily May Peel)</td>\n",
       "      <td>female</td>\n",
       "      <td>35.0</td>\n",
       "      <td>1</td>\n",
       "      <td>0</td>\n",
       "      <td>113803</td>\n",
       "      <td>53.1000</td>\n",
       "      <td>C123</td>\n",
       "      <td>S</td>\n",
       "    </tr>\n",
       "    <tr>\n",
       "      <th>5</th>\n",
       "      <td>0</td>\n",
       "      <td>3</td>\n",
       "      <td>Allen, Mr. William Henry</td>\n",
       "      <td>male</td>\n",
       "      <td>35.0</td>\n",
       "      <td>0</td>\n",
       "      <td>0</td>\n",
       "      <td>373450</td>\n",
       "      <td>8.0500</td>\n",
       "      <td>NaN</td>\n",
       "      <td>S</td>\n",
       "    </tr>\n",
       "  </tbody>\n",
       "</table>\n",
       "</div>"
      ],
      "text/plain": [
       "             Survived  Pclass  \\\n",
       "PassengerId                     \n",
       "1                   0       3   \n",
       "2                   1       1   \n",
       "3                   1       3   \n",
       "4                   1       1   \n",
       "5                   0       3   \n",
       "\n",
       "                                                          Name     Sex   Age  \\\n",
       "PassengerId                                                                    \n",
       "1                                      Braund, Mr. Owen Harris    male  22.0   \n",
       "2            Cumings, Mrs. John Bradley (Florence Briggs Th...  female  38.0   \n",
       "3                                       Heikkinen, Miss. Laina  female  26.0   \n",
       "4                 Futrelle, Mrs. Jacques Heath (Lily May Peel)  female  35.0   \n",
       "5                                     Allen, Mr. William Henry    male  35.0   \n",
       "\n",
       "             SibSp  Parch            Ticket     Fare Cabin Embarked  \n",
       "PassengerId                                                          \n",
       "1                1      0         A/5 21171   7.2500   NaN        S  \n",
       "2                1      0          PC 17599  71.2833   C85        C  \n",
       "3                0      0  STON/O2. 3101282   7.9250   NaN        S  \n",
       "4                1      0            113803  53.1000  C123        S  \n",
       "5                0      0            373450   8.0500   NaN        S  "
      ]
     },
     "execution_count": 6,
     "metadata": {},
     "output_type": "execute_result"
    }
   ],
   "source": [
    "# passengerID 가 있으므로 이를 index로 사용하기 위해 현재 index제거\n",
    "train_df.head()\n",
    "\n",
    "\n",
    "\n"
   ]
  },
  {
   "cell_type": "markdown",
   "metadata": {},
   "source": [
    "# 시각화를 통한 현황분석\n",
    "탑승객의 생존 비율"
   ]
  },
  {
   "cell_type": "code",
   "execution_count": 7,
   "metadata": {},
   "outputs": [],
   "source": [
    "# 한글 폰트 문제 해결\n",
    "# %matplotlib 은 한글 폰트를 지원하지 않는다.\n",
    "# os 정보\n",
    "import platform\n",
    "import seaborn as sns\n",
    "#font_manager : 폰트 관리 모듈\n",
    "# rc : 폰트 변경 모듈\n",
    "from matplotlib import font_manager, rc\n",
    "# 시각화 도구\n",
    "from matplotlib import pyplot as plt\n",
    "%matplotlib inline \n",
    "\n",
    "# unicode 설정\n",
    "plt.rcParams['axes.unicode_minus'] = False\n",
    "\n",
    "if platform.system() == 'Darwin':\n",
    "    rc('font',family='AppleGothic') # os가 macos\n",
    "elif platform.system() == 'Windows':\n",
    "    path = 'C:/Windows/Fonts/malgun.ttf' \n",
    "    font_name = font_manager.FontProperties(fname=path).get_name()\n",
    "    rc('font',family=font_name)\n",
    "else:\n",
    "    print(\"Unkown System\")\n",
    "\n",
    "\n",
    "\n",
    "\n",
    "\n",
    "\n",
    "\n",
    "\n",
    "\n",
    "\n",
    "\n"
   ]
  },
  {
   "cell_type": "code",
   "execution_count": 12,
   "metadata": {},
   "outputs": [
    {
     "data": {
      "image/png": "[encoded data removed]",
      "text/plain": [
       "<Figure size 864x360 with 2 Axes>"
      ]
     },
     "metadata": {
      "needs_background": "light"
     },
     "output_type": "display_data"
    }
   ],
   "source": [
    "# 한 figure에 같이 보기\n",
    "plt.figure(figsize=(12,5))\n",
    "plt.subplot(1,2,1)\n",
    "plt.pie(train_df['Survived'].value_counts(), explode=[0,0.1], autopct='%1.1f%%',\n",
    "       shadow=True, startangle=90, labels=train_df['Survived'].unique()) # explode 차트를 쪼개서 볼건가? autopct 는 소수점 몇째까지 보여주나\n",
    "plt.title('Survivied')\n",
    "# labels=train_df['Survived'].unique() 생존값을 뜻함. ['사망','생존'] 으로 줄 수도\n",
    "\n",
    "#-------------------------------------------------\n",
    "plt.subplot(1,2,2,)\n",
    "sns.countplot('Survived',data=train_df)\n",
    "plt.title('Survived')\n",
    "plt.show()\n",
    "\n",
    "\n",
    "\n",
    "\n",
    "\n",
    "\n",
    "\n"
   ]
  },
  {
   "cell_type": "markdown",
   "metadata": {},
   "source": [
    "탑승객의 60% 이상은 사망했다.\n"
   ]
  },
  {
   "cell_type": "markdown",
   "metadata": {},
   "source": [
    "------------------\n",
    "# 남녀의 생존 비율 확인"
   ]
  },
  {
   "cell_type": "code",
   "execution_count": 18,
   "metadata": {},
   "outputs": [
    {
     "name": "stdout",
     "output_type": "stream",
     "text": [
      "Female Counts :  314\n",
      "male Counts :  577\n"
     ]
    }
   ],
   "source": [
    "# 여성과 남성의 전체 인원\n",
    "femaleCount = len(train_df[train_df['Sex'] == 'female'])\n",
    "maleCount = len(train_df[train_df['Sex'] == 'male'])\n",
    "print(\"Female Counts : \",femaleCount)\n",
    "print(\"male Counts : \",maleCount)\n",
    "\n",
    "\n",
    "\n"
   ]
  },
  {
   "cell_type": "code",
   "execution_count": 20,
   "metadata": {},
   "outputs": [
    {
     "name": "stdout",
     "output_type": "stream",
     "text": [
      "Female Survival :  233\n",
      "Female Death :  81\n"
     ]
    }
   ],
   "source": [
    "# 여성의 생존과 사망인원\n",
    "femaleSurvival = len(train_df[(train_df['Survived']==1)&(train_df['Sex']=='female')])\n",
    "femaleDeath = len(train_df[(train_df['Survived']==0)&(train_df['Sex']=='female')])\n",
    "print('Female Survival : ',femaleSurvival)\n",
    "print('Female Death : ',femaleDeath)\n",
    "\n",
    "\n",
    "\n"
   ]
  },
  {
   "cell_type": "code",
   "execution_count": 22,
   "metadata": {},
   "outputs": [
    {
     "name": "stdout",
     "output_type": "stream",
     "text": [
      "maleSurvival :  109\n",
      "maleDeath :  468\n"
     ]
    }
   ],
   "source": [
    "# 남성의 생존과 사망인원\n",
    "maleSurvival = len(train_df[(train_df['Survived']==1)&(train_df['Sex']=='male')])\n",
    "maleDeath = len(train_df[(train_df['Survived']==0)&(train_df['Sex']=='male')])\n",
    "print('maleSurvival : ',maleSurvival)\n",
    "print('maleDeath : ',maleDeath)\n",
    "\n",
    "\n",
    "\n"
   ]
  },
  {
   "cell_type": "code",
   "execution_count": 24,
   "metadata": {},
   "outputs": [
    {
     "name": "stdout",
     "output_type": "stream",
     "text": [
      "Female Survival Ratio :  74.20382165605095\n",
      "Female Death Ratio :  25.796178343949045\n"
     ]
    }
   ],
   "source": [
    "# 여성의 생존율과 사망율\n",
    "print(\"Female Survival Ratio : \", femaleSurvival / femaleCount * 100)\n",
    "print(\"Female Death Ratio : \", femaleDeath / femaleCount * 100)\n",
    "\n",
    "\n",
    "\n"
   ]
  },
  {
   "cell_type": "code",
   "execution_count": 23,
   "metadata": {},
   "outputs": [
    {
     "name": "stdout",
     "output_type": "stream",
     "text": [
      "male Survival Ratio :  18.890814558058924\n",
      "male Death Ratio :  81.10918544194108\n"
     ]
    }
   ],
   "source": [
    "# 남성의 생존율과 사망율\n",
    "print(\"male Survival Ratio : \", maleSurvival / maleCount * 100)\n",
    "print(\"male Death Ratio : \", maleDeath / maleCount * 100)\n",
    "\n",
    "\n",
    "\n"
   ]
  },
  {
   "cell_type": "code",
   "execution_count": 40,
   "metadata": {},
   "outputs": [
    {
     "data": {
      "image/png": "[encoded data removed]",
      "text/plain": [
       "<Figure size 1152x360 with 3 Axes>"
      ]
     },
     "metadata": {
      "needs_background": "light"
     },
     "output_type": "display_data"
    }
   ],
   "source": [
    "# char 로 그리기\n",
    "# 남자 생존 비율\n",
    "plt.figure(figsize=(16,5))\n",
    "plt.subplot(1,3,1)\n",
    "label = ['사망','생존']\n",
    "male_df = train_df['Survived'][train_df['Sex']=='male'] # 남성에 대한 사망생존\n",
    "male_df1=male_df.sort_values()\n",
    "plt.pie(male_df1.value_counts(),explode=(0,0.05), autopct='%1.2f%%',\n",
    "       shadow=True, startangle=90, labels=label)\n",
    "plt.title('남자 생존 비율')\n",
    "#--------------------------------\n",
    "# 여자 생존 비율\n",
    "plt.subplot(1,3,2)\n",
    "label = ['생존','사망']\n",
    "female_df = train_df['Survived'][train_df['Sex']=='female'] # 여자는 생존 1 부터 시작해서 라벨을 생존 먼저 해줘야\n",
    "female_df1=female_df.sort_values()\n",
    "plt.pie(female_df1.value_counts(),explode=(0,0.05), autopct='%1.2f%%', \n",
    "       shadow=True, startangle=90, labels=label)\n",
    "plt.title('여자 생존 비율')\n",
    "#---------------------------------------------------\n",
    "plt.subplot(1,3,3)\n",
    "sns.countplot('Sex',data=train_df)\n",
    "plt.title('성별구분')\n",
    "\n",
    "plt.show()\n",
    "\n",
    "\n",
    "\n",
    "\n",
    "\n",
    "\n",
    "\n",
    "\n",
    "\n",
    "\n",
    "\n",
    "\n",
    "\n",
    "\n",
    "\n"
   ]
  },
  {
   "cell_type": "code",
   "execution_count": 44,
   "metadata": {},
   "outputs": [
    {
     "data": {
      "text/html": [
       "<style  type=\"text/css\" >\n",
       "    #T_f21a0b52_f9f1_11e8_a174_00c2c6a16c0arow0_col0 {\n",
       "            background-color:  #ffff00;\n",
       "        }    #T_f21a0b52_f9f1_11e8_a174_00c2c6a16c0arow0_col1 {\n",
       "            background-color:  #ffff00;\n",
       "        }    #T_f21a0b52_f9f1_11e8_a174_00c2c6a16c0arow0_col2 {\n",
       "            background-color:  #fff100;\n",
       "        }    #T_f21a0b52_f9f1_11e8_a174_00c2c6a16c0arow0_col3 {\n",
       "            background-color:  #ffff00;\n",
       "        }    #T_f21a0b52_f9f1_11e8_a174_00c2c6a16c0arow1_col0 {\n",
       "            background-color:  #ff9600;\n",
       "        }    #T_f21a0b52_f9f1_11e8_a174_00c2c6a16c0arow1_col1 {\n",
       "            background-color:  #ffa300;\n",
       "        }    #T_f21a0b52_f9f1_11e8_a174_00c2c6a16c0arow1_col2 {\n",
       "            background-color:  #fff100;\n",
       "        }    #T_f21a0b52_f9f1_11e8_a174_00c2c6a16c0arow1_col3 {\n",
       "            background-color:  #ffcf00;\n",
       "        }    #T_f21a0b52_f9f1_11e8_a174_00c2c6a16c0arow2_col0 {\n",
       "            background-color:  #ffa700;\n",
       "        }    #T_f21a0b52_f9f1_11e8_a174_00c2c6a16c0arow2_col1 {\n",
       "            background-color:  #ff8500;\n",
       "        }    #T_f21a0b52_f9f1_11e8_a174_00c2c6a16c0arow2_col2 {\n",
       "            background-color:  #ff6e00;\n",
       "        }    #T_f21a0b52_f9f1_11e8_a174_00c2c6a16c0arow2_col3 {\n",
       "            background-color:  #ff8500;\n",
       "        }    #T_f21a0b52_f9f1_11e8_a174_00c2c6a16c0arow3_col0 {\n",
       "            background-color:  #ffcd00;\n",
       "        }    #T_f21a0b52_f9f1_11e8_a174_00c2c6a16c0arow3_col1 {\n",
       "            background-color:  #fff000;\n",
       "        }    #T_f21a0b52_f9f1_11e8_a174_00c2c6a16c0arow3_col2 {\n",
       "            background-color:  #ffff00;\n",
       "        }    #T_f21a0b52_f9f1_11e8_a174_00c2c6a16c0arow3_col3 {\n",
       "            background-color:  #fff700;\n",
       "        }    #T_f21a0b52_f9f1_11e8_a174_00c2c6a16c0arow4_col0 {\n",
       "            background-color:  #ff0000;\n",
       "        }    #T_f21a0b52_f9f1_11e8_a174_00c2c6a16c0arow4_col1 {\n",
       "            background-color:  #ff0000;\n",
       "        }    #T_f21a0b52_f9f1_11e8_a174_00c2c6a16c0arow4_col2 {\n",
       "            background-color:  #ff0000;\n",
       "        }    #T_f21a0b52_f9f1_11e8_a174_00c2c6a16c0arow4_col3 {\n",
       "            background-color:  #ff0000;\n",
       "        }</style>  \n",
       "<table id=\"T_f21a0b52_f9f1_11e8_a174_00c2c6a16c0a\" > \n",
       "<thead>    <tr> \n",
       "        <th class=\"blank\" ></th> \n",
       "        <th class=\"index_name level0\" >Pclass</th> \n",
       "        <th class=\"col_heading level0 col0\" >1</th> \n",
       "        <th class=\"col_heading level0 col1\" >2</th> \n",
       "        <th class=\"col_heading level0 col2\" >3</th> \n",
       "        <th class=\"col_heading level0 col3\" >All</th> \n",
       "    </tr>    <tr> \n",
       "        <th class=\"index_name level0\" >Sex</th> \n",
       "        <th class=\"index_name level1\" >Survived</th> \n",
       "        <th class=\"blank\" ></th> \n",
       "        <th class=\"blank\" ></th> \n",
       "        <th class=\"blank\" ></th> \n",
       "        <th class=\"blank\" ></th> \n",
       "    </tr></thead> \n",
       "<tbody>    <tr> \n",
       "        <th id=\"T_f21a0b52_f9f1_11e8_a174_00c2c6a16c0alevel0_row0\" class=\"row_heading level0 row0\" rowspan=2>female</th> \n",
       "        <th id=\"T_f21a0b52_f9f1_11e8_a174_00c2c6a16c0alevel1_row0\" class=\"row_heading level1 row0\" >0</th> \n",
       "        <td id=\"T_f21a0b52_f9f1_11e8_a174_00c2c6a16c0arow0_col0\" class=\"data row0 col0\" >3</td> \n",
       "        <td id=\"T_f21a0b52_f9f1_11e8_a174_00c2c6a16c0arow0_col1\" class=\"data row0 col1\" >6</td> \n",
       "        <td id=\"T_f21a0b52_f9f1_11e8_a174_00c2c6a16c0arow0_col2\" class=\"data row0 col2\" >72</td> \n",
       "        <td id=\"T_f21a0b52_f9f1_11e8_a174_00c2c6a16c0arow0_col3\" class=\"data row0 col3\" >81</td> \n",
       "    </tr>    <tr> \n",
       "        <th id=\"T_f21a0b52_f9f1_11e8_a174_00c2c6a16c0alevel1_row1\" class=\"row_heading level1 row1\" >1</th> \n",
       "        <td id=\"T_f21a0b52_f9f1_11e8_a174_00c2c6a16c0arow1_col0\" class=\"data row1 col0\" >91</td> \n",
       "        <td id=\"T_f21a0b52_f9f1_11e8_a174_00c2c6a16c0arow1_col1\" class=\"data row1 col1\" >70</td> \n",
       "        <td id=\"T_f21a0b52_f9f1_11e8_a174_00c2c6a16c0arow1_col2\" class=\"data row1 col2\" >72</td> \n",
       "        <td id=\"T_f21a0b52_f9f1_11e8_a174_00c2c6a16c0arow1_col3\" class=\"data row1 col3\" >233</td> \n",
       "    </tr>    <tr> \n",
       "        <th id=\"T_f21a0b52_f9f1_11e8_a174_00c2c6a16c0alevel0_row2\" class=\"row_heading level0 row2\" rowspan=2>male</th> \n",
       "        <th id=\"T_f21a0b52_f9f1_11e8_a174_00c2c6a16c0alevel1_row2\" class=\"row_heading level1 row2\" >0</th> \n",
       "        <td id=\"T_f21a0b52_f9f1_11e8_a174_00c2c6a16c0arow2_col0\" class=\"data row2 col0\" >77</td> \n",
       "        <td id=\"T_f21a0b52_f9f1_11e8_a174_00c2c6a16c0arow2_col1\" class=\"data row2 col1\" >91</td> \n",
       "        <td id=\"T_f21a0b52_f9f1_11e8_a174_00c2c6a16c0arow2_col2\" class=\"data row2 col2\" >300</td> \n",
       "        <td id=\"T_f21a0b52_f9f1_11e8_a174_00c2c6a16c0arow2_col3\" class=\"data row2 col3\" >468</td> \n",
       "    </tr>    <tr> \n",
       "        <th id=\"T_f21a0b52_f9f1_11e8_a174_00c2c6a16c0alevel1_row3\" class=\"row_heading level1 row3\" >1</th> \n",
       "        <td id=\"T_f21a0b52_f9f1_11e8_a174_00c2c6a16c0arow3_col0\" class=\"data row3 col0\" >45</td> \n",
       "        <td id=\"T_f21a0b52_f9f1_11e8_a174_00c2c6a16c0arow3_col1\" class=\"data row3 col1\" >17</td> \n",
       "        <td id=\"T_f21a0b52_f9f1_11e8_a174_00c2c6a16c0arow3_col2\" class=\"data row3 col2\" >47</td> \n",
       "        <td id=\"T_f21a0b52_f9f1_11e8_a174_00c2c6a16c0arow3_col3\" class=\"data row3 col3\" >109</td> \n",
       "    </tr>    <tr> \n",
       "        <th id=\"T_f21a0b52_f9f1_11e8_a174_00c2c6a16c0alevel0_row4\" class=\"row_heading level0 row4\" >All</th> \n",
       "        <th id=\"T_f21a0b52_f9f1_11e8_a174_00c2c6a16c0alevel1_row4\" class=\"row_heading level1 row4\" ></th> \n",
       "        <td id=\"T_f21a0b52_f9f1_11e8_a174_00c2c6a16c0arow4_col0\" class=\"data row4 col0\" >216</td> \n",
       "        <td id=\"T_f21a0b52_f9f1_11e8_a174_00c2c6a16c0arow4_col1\" class=\"data row4 col1\" >184</td> \n",
       "        <td id=\"T_f21a0b52_f9f1_11e8_a174_00c2c6a16c0arow4_col2\" class=\"data row4 col2\" >491</td> \n",
       "        <td id=\"T_f21a0b52_f9f1_11e8_a174_00c2c6a16c0arow4_col3\" class=\"data row4 col3\" >891</td> \n",
       "    </tr></tbody> \n",
       "</table> "
      ],
      "text/plain": [
       "<pandas.io.formats.style.Styler at 0x1e658e25f60>"
      ]
     },
     "execution_count": 44,
     "metadata": {},
     "output_type": "execute_result"
    }
   ],
   "source": [
    "# 객실 등급별 남녀 생존수 Crosstab 한번에 볼 수 있음\n",
    "pd.crosstab([train_df['Sex'],train_df['Survived']],train_df['Pclass'],margins=True).style.background_gradient(cmap='autumn_r')\n",
    "\n",
    "\n",
    "\n",
    "\n"
   ]
  },
  {
   "cell_type": "markdown",
   "metadata": {},
   "source": [
    "높은 등급 객실의 생존율이 높다."
   ]
  },
  {
   "cell_type": "markdown",
   "metadata": {},
   "source": [
    "# Embarked(항구의 위치)와의 연관성 확인"
   ]
  },
  {
   "cell_type": "code",
   "execution_count": 49,
   "metadata": {},
   "outputs": [
    {
     "data": {
      "text/plain": [
       "<matplotlib.axes._subplots.AxesSubplot at 0x1e6590a0a20>"
      ]
     },
     "execution_count": 49,
     "metadata": {},
     "output_type": "execute_result"
    },
    {
     "data": {
      "image/png": "[encoded data removed]",
      "text/plain": [
       "<Figure size 864x864 with 4 Axes>"
      ]
     },
     "metadata": {
      "needs_background": "light"
     },
     "output_type": "display_data"
    }
   ],
   "source": [
    "plt.figure(figsize=(12,12))\n",
    "#항구별 탑승인원\n",
    "plt.subplot(2,2,1)\n",
    "plt.title('항구별 탑승인원')\n",
    "sns.countplot('Embarked',data=train_df)\n",
    "\n",
    "#항구별 성별 탑승인원\n",
    "plt.subplot(2,2,2)\n",
    "plt.title('항구별 성별 탑승인원')\n",
    "sns.countplot('Embarked', hue='Sex',data=train_df)\n",
    "\n",
    "#항구별 성별 탑승인원\n",
    "plt.subplot(2,2,3)\n",
    "plt.title('항구별 생존 인원')\n",
    "sns.countplot('Embarked', hue='Survived',data=train_df)\n",
    "\n",
    "#항구별 객실등급별 \n",
    "plt.subplot(2,2,4)\n",
    "plt.title('항구별 객실등급별')\n",
    "sns.countplot('Embarked', hue='Pclass',data=train_df)\n",
    "\n",
    "\n",
    "\n",
    "\n",
    "\n",
    "\n",
    "\n"
   ]
  },
  {
   "cell_type": "markdown",
   "metadata": {},
   "source": [
    "절반 이상의 승객이 southampton에서 배를 탔으며   \n",
    "여기에서 탑승한 승객의 70퍼센트가 남성이었으며   \n",
    "남성의 사망율이 여성보다 훨씬 높았으므로 southampton의 사망률이 높게 나왔다.   \n",
    "southampton에서 탑승한 승객의 60퍼센트 이상이 3등급 객실을 사용했다.   \n",
    "cherbourg(짤츠부르크)에서 탑승한 승객들은 1등 객실 승객의 비중 및 생존율이 높은것으로 보아    \n",
    "이 동네는 부자 동네이다.   "
   ]
  },
  {
   "cell_type": "code",
   "execution_count": 50,
   "metadata": {},
   "outputs": [
    {
     "data": {
      "text/plain": [
       "array([[ 1.        , -0.33848104],\n",
       "       [-0.33848104,  1.        ]])"
      ]
     },
     "execution_count": 50,
     "metadata": {},
     "output_type": "execute_result"
    }
   ],
   "source": [
    "# 생존과 티켓 등급의 상관계수\n",
    "np.corrcoef(train_df['Survived'],train_df['Pclass'])\n",
    "\n",
    "\n",
    "\n",
    "\n",
    "\n",
    "\n",
    "\n"
   ]
  },
  {
   "cell_type": "markdown",
   "metadata": {},
   "source": [
    "티켓이 비쌀수록 생존 확률이 높다."
   ]
  },
  {
   "cell_type": "markdown",
   "metadata": {},
   "source": [
    "# 결과 도출을 위한 전처리(Preprocessing)\n",
    "성별, 객실등급, 탑승항구의 3가지 정보로 생존률을 비교하는 로직을 구성   \n",
    "대부분의 분석 시간중 전처리 과정이 80% 이상의 시간이 소요   \n",
    "위의 데이터 분석결과를 보면 여성+1등급 = 생존 이라는 예측이 가능.    \n",
    "위읭 성별, 객실등급, 탑승항구의 정보를 사용하여 예측을 할 경우    \n",
    "각 항목의 데이터 값이 있어야 합니다.   \n",
    "따라서 분석전에 각 항목의 데이터가 모두 채워졌는지를 확인하며   \n",
    "데이터가 비어 있는 경우 이를 해결하는 과정이 전처리 과정입니다.   \n",
    "예측을 위한 머신러닝을 사용할 경우 모든 데이터가 숫자로 변경되어 있어야 합니다.   "
   ]
  },
  {
   "cell_type": "code",
   "execution_count": 52,
   "metadata": {},
   "outputs": [
    {
     "data": {
      "text/plain": [
       "Survived      0\n",
       "Pclass        0\n",
       "Name          0\n",
       "Sex           0\n",
       "Age         177\n",
       "SibSp         0\n",
       "Parch         0\n",
       "Ticket        0\n",
       "Fare          0\n",
       "Cabin       687\n",
       "Embarked      2\n",
       "dtype: int64"
      ]
     },
     "execution_count": 52,
     "metadata": {},
     "output_type": "execute_result"
    }
   ],
   "source": [
    "# 결측치(Na ,Nan, Null) 확인\n",
    "# 각 항목(컬럼)의 결측치의 합계를 출력\n",
    "train_df.isnull().sum()\n",
    "\n",
    "\n",
    "\n"
   ]
  },
  {
   "cell_type": "markdown",
   "metadata": {},
   "source": [
    "사용할 정보 중 Embarked 항목에 2개의 결측치가 있다는 것을 확인   \n",
    "결측치를 사용할 경우에는 회귀분석이나 기본 통계량으로 처리하는 방법등 여러가지가 있지만    \n",
    "Embarked중 S에서 탑승한 인원이 제일 많으므로 이 결측값을 S로 대체한다."
   ]
  },
  {
   "cell_type": "code",
   "execution_count": 54,
   "metadata": {},
   "outputs": [
    {
     "data": {
      "text/plain": [
       "Survived      0\n",
       "Pclass        0\n",
       "Name          0\n",
       "Sex           0\n",
       "Age         177\n",
       "SibSp         0\n",
       "Parch         0\n",
       "Ticket        0\n",
       "Fare          0\n",
       "Cabin       687\n",
       "Embarked      0\n",
       "dtype: int64"
      ]
     },
     "execution_count": 54,
     "metadata": {},
     "output_type": "execute_result"
    }
   ],
   "source": [
    "train_df['Embarked'].fillna('S',inplace=True)\n",
    "train_df.isnull().sum()\n",
    "\n",
    "\n",
    "\n"
   ]
  },
  {
   "cell_type": "code",
   "execution_count": 55,
   "metadata": {},
   "outputs": [],
   "source": [
    "# 예측 모델 생성\n",
    "from sklearn.tree import DecisionTreeClassifier\n",
    "from sklearn.model_selection import train_test_split\n",
    "from sklearn import metrics\n",
    "\n",
    "\n",
    "\n"
   ]
  },
  {
   "cell_type": "code",
   "execution_count": 56,
   "metadata": {},
   "outputs": [],
   "source": [
    "# scikit-learn을 사용하기 위해 컬럼을 수치화\n",
    "# 원본은 두고 복사본 생성\n",
    "train_df_T = train_df.copy()\n",
    "\n",
    "\n",
    "\n"
   ]
  },
  {
   "cell_type": "code",
   "execution_count": 57,
   "metadata": {},
   "outputs": [
    {
     "data": {
      "text/html": [
       "<div>\n",
       "<style scoped>\n",
       "    .dataframe tbody tr th:only-of-type {\n",
       "        vertical-align: middle;\n",
       "    }\n",
       "\n",
       "    .dataframe tbody tr th {\n",
       "        vertical-align: top;\n",
       "    }\n",
       "\n",
       "    .dataframe thead th {\n",
       "        text-align: right;\n",
       "    }\n",
       "</style>\n",
       "<table border=\"1\" class=\"dataframe\">\n",
       "  <thead>\n",
       "    <tr style=\"text-align: right;\">\n",
       "      <th></th>\n",
       "      <th>Pclass</th>\n",
       "      <th>Sex</th>\n",
       "      <th>Embarked</th>\n",
       "    </tr>\n",
       "    <tr>\n",
       "      <th>PassengerId</th>\n",
       "      <th></th>\n",
       "      <th></th>\n",
       "      <th></th>\n",
       "    </tr>\n",
       "  </thead>\n",
       "  <tbody>\n",
       "    <tr>\n",
       "      <th>1</th>\n",
       "      <td>3</td>\n",
       "      <td>male</td>\n",
       "      <td>S</td>\n",
       "    </tr>\n",
       "    <tr>\n",
       "      <th>2</th>\n",
       "      <td>1</td>\n",
       "      <td>female</td>\n",
       "      <td>C</td>\n",
       "    </tr>\n",
       "    <tr>\n",
       "      <th>3</th>\n",
       "      <td>3</td>\n",
       "      <td>female</td>\n",
       "      <td>S</td>\n",
       "    </tr>\n",
       "    <tr>\n",
       "      <th>4</th>\n",
       "      <td>1</td>\n",
       "      <td>female</td>\n",
       "      <td>S</td>\n",
       "    </tr>\n",
       "    <tr>\n",
       "      <th>5</th>\n",
       "      <td>3</td>\n",
       "      <td>male</td>\n",
       "      <td>S</td>\n",
       "    </tr>\n",
       "  </tbody>\n",
       "</table>\n",
       "</div>"
      ],
      "text/plain": [
       "             Pclass     Sex Embarked\n",
       "PassengerId                         \n",
       "1                 3    male        S\n",
       "2                 1  female        C\n",
       "3                 3  female        S\n",
       "4                 1  female        S\n",
       "5                 3    male        S"
      ]
     },
     "execution_count": 57,
     "metadata": {},
     "output_type": "execute_result"
    }
   ],
   "source": [
    "# 예측을 위한 컬럼 확인\n",
    "target_col = ['Pclass','Sex','Embarked']\n",
    "train_df_T[target_col].head()\n",
    "\n",
    "\n",
    "\n"
   ]
  },
  {
   "cell_type": "code",
   "execution_count": 58,
   "metadata": {},
   "outputs": [
    {
     "data": {
      "text/html": [
       "<div>\n",
       "<style scoped>\n",
       "    .dataframe tbody tr th:only-of-type {\n",
       "        vertical-align: middle;\n",
       "    }\n",
       "\n",
       "    .dataframe tbody tr th {\n",
       "        vertical-align: top;\n",
       "    }\n",
       "\n",
       "    .dataframe thead th {\n",
       "        text-align: right;\n",
       "    }\n",
       "</style>\n",
       "<table border=\"1\" class=\"dataframe\">\n",
       "  <thead>\n",
       "    <tr style=\"text-align: right;\">\n",
       "      <th></th>\n",
       "      <th>Pclass</th>\n",
       "      <th>Sex</th>\n",
       "      <th>Embarked</th>\n",
       "    </tr>\n",
       "    <tr>\n",
       "      <th>PassengerId</th>\n",
       "      <th></th>\n",
       "      <th></th>\n",
       "      <th></th>\n",
       "    </tr>\n",
       "  </thead>\n",
       "  <tbody>\n",
       "    <tr>\n",
       "      <th>1</th>\n",
       "      <td>3</td>\n",
       "      <td>0</td>\n",
       "      <td>S</td>\n",
       "    </tr>\n",
       "    <tr>\n",
       "      <th>2</th>\n",
       "      <td>1</td>\n",
       "      <td>1</td>\n",
       "      <td>C</td>\n",
       "    </tr>\n",
       "    <tr>\n",
       "      <th>3</th>\n",
       "      <td>3</td>\n",
       "      <td>1</td>\n",
       "      <td>S</td>\n",
       "    </tr>\n",
       "    <tr>\n",
       "      <th>4</th>\n",
       "      <td>1</td>\n",
       "      <td>1</td>\n",
       "      <td>S</td>\n",
       "    </tr>\n",
       "    <tr>\n",
       "      <th>5</th>\n",
       "      <td>3</td>\n",
       "      <td>0</td>\n",
       "      <td>S</td>\n",
       "    </tr>\n",
       "  </tbody>\n",
       "</table>\n",
       "</div>"
      ],
      "text/plain": [
       "             Pclass  Sex Embarked\n",
       "PassengerId                      \n",
       "1                 3    0        S\n",
       "2                 1    1        C\n",
       "3                 3    1        S\n",
       "4                 1    1        S\n",
       "5                 3    0        S"
      ]
     },
     "execution_count": 58,
     "metadata": {},
     "output_type": "execute_result"
    }
   ],
   "source": [
    "# 성별을 숫자로 전환\n",
    "train_df_T.loc[train_df_T['Sex']=='male','Sex']=0\n",
    "train_df_T.loc[train_df_T['Sex']=='female','Sex']=1\n",
    "train_df_T[target_col].head()\n",
    "\n",
    "\n",
    "\n"
   ]
  },
  {
   "cell_type": "markdown",
   "metadata": {},
   "source": [
    "### Embarked를 숫자로 전환\n",
    "C=0,S=1,Q=2 로 숫자를 지정하면 숫자 2가 애매해 진다. 0과 1은 대소분류가 가능하지만 2가 들어가면 애매\n",
    "\n",
    "One-hot Encoding을 활용 - 더미테이블\n",
    "C = [1,0,0]\n",
    "S = [0,1,0]\n",
    "Q = [1,0,1]"
   ]
  },
  {
   "cell_type": "code",
   "execution_count": 59,
   "metadata": {},
   "outputs": [
    {
     "data": {
      "text/html": [
       "<div>\n",
       "<style scoped>\n",
       "    .dataframe tbody tr th:only-of-type {\n",
       "        vertical-align: middle;\n",
       "    }\n",
       "\n",
       "    .dataframe tbody tr th {\n",
       "        vertical-align: top;\n",
       "    }\n",
       "\n",
       "    .dataframe thead th {\n",
       "        text-align: right;\n",
       "    }\n",
       "</style>\n",
       "<table border=\"1\" class=\"dataframe\">\n",
       "  <thead>\n",
       "    <tr style=\"text-align: right;\">\n",
       "      <th></th>\n",
       "      <th>Embarked</th>\n",
       "      <th>Embarked_C</th>\n",
       "      <th>Embarked_S</th>\n",
       "      <th>Embarked_Q</th>\n",
       "    </tr>\n",
       "    <tr>\n",
       "      <th>PassengerId</th>\n",
       "      <th></th>\n",
       "      <th></th>\n",
       "      <th></th>\n",
       "      <th></th>\n",
       "    </tr>\n",
       "  </thead>\n",
       "  <tbody>\n",
       "    <tr>\n",
       "      <th>1</th>\n",
       "      <td>S</td>\n",
       "      <td>False</td>\n",
       "      <td>True</td>\n",
       "      <td>False</td>\n",
       "    </tr>\n",
       "    <tr>\n",
       "      <th>2</th>\n",
       "      <td>C</td>\n",
       "      <td>True</td>\n",
       "      <td>False</td>\n",
       "      <td>False</td>\n",
       "    </tr>\n",
       "    <tr>\n",
       "      <th>3</th>\n",
       "      <td>S</td>\n",
       "      <td>False</td>\n",
       "      <td>True</td>\n",
       "      <td>False</td>\n",
       "    </tr>\n",
       "    <tr>\n",
       "      <th>4</th>\n",
       "      <td>S</td>\n",
       "      <td>False</td>\n",
       "      <td>True</td>\n",
       "      <td>False</td>\n",
       "    </tr>\n",
       "    <tr>\n",
       "      <th>5</th>\n",
       "      <td>S</td>\n",
       "      <td>False</td>\n",
       "      <td>True</td>\n",
       "      <td>False</td>\n",
       "    </tr>\n",
       "  </tbody>\n",
       "</table>\n",
       "</div>"
      ],
      "text/plain": [
       "            Embarked  Embarked_C  Embarked_S  Embarked_Q\n",
       "PassengerId                                             \n",
       "1                  S       False        True       False\n",
       "2                  C        True       False       False\n",
       "3                  S       False        True       False\n",
       "4                  S       False        True       False\n",
       "5                  S       False        True       False"
      ]
     },
     "execution_count": 59,
     "metadata": {},
     "output_type": "execute_result"
    }
   ],
   "source": [
    "train_df_T['Embarked_C']=train_df_T['Embarked'] == 'C'\n",
    "train_df_T['Embarked_S']=train_df_T['Embarked'] == 'S'\n",
    "train_df_T['Embarked_Q']=train_df_T['Embarked'] == 'Q'\n",
    "train_df_T[['Embarked','Embarked_C','Embarked_S','Embarked_Q']].head()\n",
    "\n",
    "\n",
    "\n"
   ]
  },
  {
   "cell_type": "code",
   "execution_count": 60,
   "metadata": {},
   "outputs": [
    {
     "data": {
      "text/html": [
       "<div>\n",
       "<style scoped>\n",
       "    .dataframe tbody tr th:only-of-type {\n",
       "        vertical-align: middle;\n",
       "    }\n",
       "\n",
       "    .dataframe tbody tr th {\n",
       "        vertical-align: top;\n",
       "    }\n",
       "\n",
       "    .dataframe thead th {\n",
       "        text-align: right;\n",
       "    }\n",
       "</style>\n",
       "<table border=\"1\" class=\"dataframe\">\n",
       "  <thead>\n",
       "    <tr style=\"text-align: right;\">\n",
       "      <th></th>\n",
       "      <th>Pclass</th>\n",
       "      <th>Sex</th>\n",
       "      <th>Embarked_C</th>\n",
       "      <th>Embarked_S</th>\n",
       "      <th>Embarked_Q</th>\n",
       "    </tr>\n",
       "    <tr>\n",
       "      <th>PassengerId</th>\n",
       "      <th></th>\n",
       "      <th></th>\n",
       "      <th></th>\n",
       "      <th></th>\n",
       "      <th></th>\n",
       "    </tr>\n",
       "  </thead>\n",
       "  <tbody>\n",
       "    <tr>\n",
       "      <th>1</th>\n",
       "      <td>3</td>\n",
       "      <td>0</td>\n",
       "      <td>False</td>\n",
       "      <td>True</td>\n",
       "      <td>False</td>\n",
       "    </tr>\n",
       "    <tr>\n",
       "      <th>2</th>\n",
       "      <td>1</td>\n",
       "      <td>1</td>\n",
       "      <td>True</td>\n",
       "      <td>False</td>\n",
       "      <td>False</td>\n",
       "    </tr>\n",
       "    <tr>\n",
       "      <th>3</th>\n",
       "      <td>3</td>\n",
       "      <td>1</td>\n",
       "      <td>False</td>\n",
       "      <td>True</td>\n",
       "      <td>False</td>\n",
       "    </tr>\n",
       "    <tr>\n",
       "      <th>4</th>\n",
       "      <td>1</td>\n",
       "      <td>1</td>\n",
       "      <td>False</td>\n",
       "      <td>True</td>\n",
       "      <td>False</td>\n",
       "    </tr>\n",
       "    <tr>\n",
       "      <th>5</th>\n",
       "      <td>3</td>\n",
       "      <td>0</td>\n",
       "      <td>False</td>\n",
       "      <td>True</td>\n",
       "      <td>False</td>\n",
       "    </tr>\n",
       "  </tbody>\n",
       "</table>\n",
       "</div>"
      ],
      "text/plain": [
       "             Pclass  Sex  Embarked_C  Embarked_S  Embarked_Q\n",
       "PassengerId                                                 \n",
       "1                 3    0       False        True       False\n",
       "2                 1    1        True       False       False\n",
       "3                 3    1       False        True       False\n",
       "4                 1    1       False        True       False\n",
       "5                 3    0       False        True       False"
      ]
     },
     "execution_count": 60,
     "metadata": {},
     "output_type": "execute_result"
    }
   ],
   "source": [
    "# true flase는 머신러닝에서 자동으로 0과 1으로 들어간다.\n",
    "target_col = ['Pclass','Sex','Embarked_C','Embarked_S','Embarked_Q']\n",
    "train_df_T[target_col].head()\n",
    "\n",
    "\n",
    "\n"
   ]
  },
  {
   "cell_type": "code",
   "execution_count": 61,
   "metadata": {},
   "outputs": [],
   "source": [
    "# train 과 test의 비율조정(7:3비율)\n",
    "train, test = train_test_split(train_df_T,test_size=0.3, random_state=0)\n",
    "\n",
    "\n",
    "\n"
   ]
  },
  {
   "cell_type": "code",
   "execution_count": 73,
   "metadata": {},
   "outputs": [],
   "source": [
    "# train data 구성\n",
    "# 모델 제작용 컬럼과 정답 컬럼을 구분\n",
    "train_X = train[target_col]\n",
    "train_Y = train['Survived']\n",
    "\n",
    "\n",
    "\n"
   ]
  },
  {
   "cell_type": "code",
   "execution_count": 75,
   "metadata": {},
   "outputs": [],
   "source": [
    "# 테스트 데이터 만들기\n",
    "test_X = test[target_col]\n",
    "test_Y = test['Survived']\n",
    "\n",
    "\n",
    "\n"
   ]
  },
  {
   "cell_type": "code",
   "execution_count": 64,
   "metadata": {},
   "outputs": [
    {
     "data": {
      "text/html": [
       "<div>\n",
       "<style scoped>\n",
       "    .dataframe tbody tr th:only-of-type {\n",
       "        vertical-align: middle;\n",
       "    }\n",
       "\n",
       "    .dataframe tbody tr th {\n",
       "        vertical-align: top;\n",
       "    }\n",
       "\n",
       "    .dataframe thead th {\n",
       "        text-align: right;\n",
       "    }\n",
       "</style>\n",
       "<table border=\"1\" class=\"dataframe\">\n",
       "  <thead>\n",
       "    <tr style=\"text-align: right;\">\n",
       "      <th></th>\n",
       "      <th>Pclass</th>\n",
       "      <th>Sex</th>\n",
       "      <th>Embarked_C</th>\n",
       "      <th>Embarked_S</th>\n",
       "      <th>Embarked_Q</th>\n",
       "    </tr>\n",
       "    <tr>\n",
       "      <th>PassengerId</th>\n",
       "      <th></th>\n",
       "      <th></th>\n",
       "      <th></th>\n",
       "      <th></th>\n",
       "      <th></th>\n",
       "    </tr>\n",
       "  </thead>\n",
       "  <tbody>\n",
       "    <tr>\n",
       "      <th>858</th>\n",
       "      <td>1</td>\n",
       "      <td>0</td>\n",
       "      <td>False</td>\n",
       "      <td>True</td>\n",
       "      <td>False</td>\n",
       "    </tr>\n",
       "    <tr>\n",
       "      <th>53</th>\n",
       "      <td>1</td>\n",
       "      <td>1</td>\n",
       "      <td>True</td>\n",
       "      <td>False</td>\n",
       "      <td>False</td>\n",
       "    </tr>\n",
       "    <tr>\n",
       "      <th>387</th>\n",
       "      <td>3</td>\n",
       "      <td>0</td>\n",
       "      <td>False</td>\n",
       "      <td>True</td>\n",
       "      <td>False</td>\n",
       "    </tr>\n",
       "    <tr>\n",
       "      <th>125</th>\n",
       "      <td>1</td>\n",
       "      <td>0</td>\n",
       "      <td>False</td>\n",
       "      <td>True</td>\n",
       "      <td>False</td>\n",
       "    </tr>\n",
       "    <tr>\n",
       "      <th>579</th>\n",
       "      <td>3</td>\n",
       "      <td>1</td>\n",
       "      <td>True</td>\n",
       "      <td>False</td>\n",
       "      <td>False</td>\n",
       "    </tr>\n",
       "  </tbody>\n",
       "</table>\n",
       "</div>"
      ],
      "text/plain": [
       "             Pclass  Sex  Embarked_C  Embarked_S  Embarked_Q\n",
       "PassengerId                                                 \n",
       "858               1    0       False        True       False\n",
       "53                1    1        True       False       False\n",
       "387               3    0       False        True       False\n",
       "125               1    0       False        True       False\n",
       "579               3    1        True       False       False"
      ]
     },
     "execution_count": 64,
     "metadata": {},
     "output_type": "execute_result"
    }
   ],
   "source": [
    "# 훈련시킬 문제\n",
    "train_X.head()\n",
    "\n",
    "\n",
    "\n"
   ]
  },
  {
   "cell_type": "code",
   "execution_count": 66,
   "metadata": {},
   "outputs": [
    {
     "data": {
      "text/plain": [
       "PassengerId\n",
       "858    1\n",
       "53     1\n",
       "387    0\n",
       "125    0\n",
       "579    0\n",
       "Name: Survived, dtype: int64"
      ]
     },
     "execution_count": 66,
     "metadata": {},
     "output_type": "execute_result"
    }
   ],
   "source": [
    "# 훈련시킬 답\n",
    "train_Y.head()\n",
    "\n",
    "\n",
    "\n"
   ]
  },
  {
   "cell_type": "code",
   "execution_count": 67,
   "metadata": {},
   "outputs": [],
   "source": [
    "feature_one = train_X.values\n",
    "target = train_Y.values\n",
    "\n",
    "\n",
    "\n"
   ]
  },
  {
   "cell_type": "code",
   "execution_count": 69,
   "metadata": {},
   "outputs": [],
   "source": [
    "# model 생성\n",
    "tree_model=DecisionTreeClassifier(max_depth=5)\n",
    "\n",
    "\n",
    "\n"
   ]
  },
  {
   "cell_type": "code",
   "execution_count": 70,
   "metadata": {},
   "outputs": [
    {
     "data": {
      "text/plain": [
       "DecisionTreeClassifier(class_weight=None, criterion='gini', max_depth=5,\n",
       "            max_features=None, max_leaf_nodes=None,\n",
       "            min_impurity_decrease=0.0, min_impurity_split=None,\n",
       "            min_samples_leaf=1, min_samples_split=2,\n",
       "            min_weight_fraction_leaf=0.0, presort=False, random_state=None,\n",
       "            splitter='best')"
      ]
     },
     "execution_count": 70,
     "metadata": {},
     "output_type": "execute_result"
    }
   ],
   "source": [
    "# model 적용\n",
    "tree_model.fit(feature_one,target)\n",
    "\n",
    "\n",
    "\n"
   ]
  },
  {
   "cell_type": "code",
   "execution_count": 76,
   "metadata": {},
   "outputs": [],
   "source": [
    "# test Data로 예측모델 구현\n",
    "pre = tree_model.predict(test_X)\n",
    "\n",
    "\n",
    "\n"
   ]
  },
  {
   "cell_type": "code",
   "execution_count": 77,
   "metadata": {},
   "outputs": [
    {
     "name": "stdout",
     "output_type": "stream",
     "text": [
      "타이타닉 예측력 : 0.8097014925373134\n"
     ]
    }
   ],
   "source": [
    "# test Data의 예측력 확인\n",
    "print('타이타닉 예측력 :',metrics.accuracy_score(pre,test_Y))\n",
    "\n",
    "\n",
    "\n"
   ]
  },
  {
   "cell_type": "code",
   "execution_count": 80,
   "metadata": {},
   "outputs": [],
   "source": [
    "pre = tree_model.predict([[1,0,0,1,0]])\n",
    "\n",
    "\n",
    "\n"
   ]
  },
  {
   "cell_type": "code",
   "execution_count": 81,
   "metadata": {},
   "outputs": [
    {
     "name": "stdout",
     "output_type": "stream",
     "text": [
      "[0]\n"
     ]
    }
   ],
   "source": [
    "print(pre)\n",
    "\n",
    "\n",
    "\n"
   ]
  },
  {
   "cell_type": "code",
   "execution_count": null,
   "metadata": {},
   "outputs": [],
   "source": [
    "# 성별 티켓등급 탑승항구 운임의 데이터를 이용한 타이타닉 데이터를 활용하여 생존자의 생사여부 예측\n",
    "\n",
    "\n",
    "\n"
   ]
  },
  {
   "cell_type": "code",
   "execution_count": null,
   "metadata": {},
   "outputs": [],
   "source": [
    "# 넘파이가 중요?? 16x16의 점들이 있을때 형태를 만들어내고 답을 학습시키는 것이 지문 얼굴 등 머신러닝\n",
    "\n",
    "\n",
    "\n"
   ]
  },
  {
   "cell_type": "code",
   "execution_count": null,
   "metadata": {},
   "outputs": [],
   "source": []
  }
 ],
 "metadata": {
  "kernelspec": {
   "display_name": "Python 3",
   "language": "python",
   "name": "python3"
  },
  "language_info": {
   "codemirror_mode": {
    "name": "ipython",
    "version": 3
   },
   "file_extension": ".py",
   "mimetype": "text/x-python",
   "name": "python",
   "nbconvert_exporter": "python",
   "pygments_lexer": "ipython3",
   "version": "3.7.1"
  }
 },
 "nbformat": 4,
 "nbformat_minor": 2
}
