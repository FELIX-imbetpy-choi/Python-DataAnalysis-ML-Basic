{
 "cells": [
  {
   "cell_type": "code",
   "execution_count": 9,
   "metadata": {},
   "outputs": [],
   "source": [
    "from selenium import webdriver\n",
    "import time\n",
    "\n",
    "\n",
    "\n"
   ]
  },
  {
   "cell_type": "code",
   "execution_count": 10,
   "metadata": {},
   "outputs": [],
   "source": [
    "driver = webdriver.Chrome('./chromedriver.exe')\n",
    "#driver.get('https://www.daum.net') -  값이 안나와\n",
    "# https://logins.daum.net/accounts/login.do\n",
    "driver.get('https://search.daum.net/search?nil_suggest=btn&w=tot&DA=SBC&q=')\n",
    "\n",
    "\n",
    "\n"
   ]
  },
  {
   "cell_type": "code",
   "execution_count": 11,
   "metadata": {},
   "outputs": [
    {
     "data": {
      "text/html": [
       "<div>\n",
       "<style scoped>\n",
       "    .dataframe tbody tr th:only-of-type {\n",
       "        vertical-align: middle;\n",
       "    }\n",
       "\n",
       "    .dataframe tbody tr th {\n",
       "        vertical-align: top;\n",
       "    }\n",
       "\n",
       "    .dataframe thead th {\n",
       "        text-align: right;\n",
       "    }\n",
       "</style>\n",
       "<table border=\"1\" class=\"dataframe\">\n",
       "  <thead>\n",
       "    <tr style=\"text-align: right;\">\n",
       "      <th></th>\n",
       "      <th>영화명</th>\n",
       "      <th>평점</th>\n",
       "      <th>런닝타임,시간</th>\n",
       "      <th>배우</th>\n",
       "    </tr>\n",
       "  </thead>\n",
       "  <tbody>\n",
       "    <tr>\n",
       "      <th>0</th>\n",
       "      <td>명량 (2014)</td>\n",
       "      <td>7.8</td>\n",
       "      <td>128분, 15세이상관람가</td>\n",
       "      <td>최민식,류승룡,조진웅</td>\n",
       "    </tr>\n",
       "    <tr>\n",
       "      <th>1</th>\n",
       "      <td>신과함께-죄와 벌 (2017)</td>\n",
       "      <td>7.0</td>\n",
       "      <td>139분, 12세이상관람가</td>\n",
       "      <td>하정우,차태현,주지훈,김향기,김동욱,마동석</td>\n",
       "    </tr>\n",
       "    <tr>\n",
       "      <th>2</th>\n",
       "      <td>국제시장 (2014)</td>\n",
       "      <td>7.1</td>\n",
       "      <td>126분, 12세이상관람가</td>\n",
       "      <td>황정민,김윤진,오달수</td>\n",
       "    </tr>\n",
       "    <tr>\n",
       "      <th>3</th>\n",
       "      <td>베테랑 (2014)</td>\n",
       "      <td>8.4</td>\n",
       "      <td>123분, 15세이상관람가</td>\n",
       "      <td>황정민,유아인</td>\n",
       "    </tr>\n",
       "    <tr>\n",
       "      <th>4</th>\n",
       "      <td>도둑들 (2012)</td>\n",
       "      <td>7.9</td>\n",
       "      <td>135분, 15세이상관람가</td>\n",
       "      <td>김윤석,이정재,김혜수,전지현,임달화,김해숙,오달수,김수현,증국상</td>\n",
       "    </tr>\n",
       "  </tbody>\n",
       "</table>\n",
       "</div>"
      ],
      "text/plain": [
       "                영화명   평점          런닝타임,시간  \\\n",
       "0         명량 (2014)  7.8  128분, 15세이상관람가    \n",
       "1  신과함께-죄와 벌 (2017)  7.0  139분, 12세이상관람가    \n",
       "2       국제시장 (2014)  7.1  126분, 12세이상관람가    \n",
       "3        베테랑 (2014)  8.4  123분, 15세이상관람가    \n",
       "4        도둑들 (2012)  7.9  135분, 15세이상관람가    \n",
       "\n",
       "                                     배우  \n",
       "0                          최민식,류승룡,조진웅   \n",
       "1              하정우,차태현,주지훈,김향기,김동욱,마동석   \n",
       "2                          황정민,김윤진,오달수   \n",
       "3                              황정민,유아인   \n",
       "4  김윤석,이정재,김혜수,전지현,임달화,김해숙,오달수,김수현,증국상   "
      ]
     },
     "execution_count": 11,
     "metadata": {},
     "output_type": "execute_result"
    }
   ],
   "source": [
    "import pandas as pd\n",
    "import numpy as np\n",
    "\n",
    "# 데이터 불러오기\n",
    "movie300 = pd.read_csv('./data/moive_list_1-300.csv')\n",
    "movie300.head()"
   ]
  },
  {
   "cell_type": "code",
   "execution_count": 12,
   "metadata": {},
   "outputs": [
    {
     "data": {
      "text/plain": [
       "0                      명량 (2014)\n",
       "1               신과함께-죄와 벌 (2017)\n",
       "2                    국제시장 (2014)\n",
       "3                     베테랑 (2014)\n",
       "4                     도둑들 (2012)\n",
       "5                 7번방의 선물 (2012)\n",
       "6                      암살 (2015)\n",
       "7             광해, 왕이 된 남자 (2012)\n",
       "8               신과함께-인과 연 (2018)\n",
       "9                   택시운전사 (2017)\n",
       "10                    부산행 (2016)\n",
       "11                    변호인 (2013)\n",
       "12           어벤져스: 인피니티 워 (2018)\n",
       "13      어벤져스 : 에이지 오브 울트론 (2015)\n",
       "14                   겨울왕국 (2013)\n",
       "15                  인터스텔라 (2014)\n",
       "16                   검사외전 (2015)\n",
       "17                     관상 (2013)\n",
       "18                 아이언맨 3 (2013)\n",
       "19                   설국열차 (2013)\n",
       "20          캡틴 아메리카: 시빌 워 (2016)\n",
       "21                 수상한 그녀 (2013)\n",
       "22          해적 : 바다로 간 산적 (2014)\n",
       "23                     공조 (2016)\n",
       "24                   히말라야 (2015)\n",
       "25                     밀정 (2016)\n",
       "26            스파이더맨 : 홈커밍 (2017)\n",
       "27                   1987 (2017)\n",
       "28                    베를린 (2012)\n",
       "29                    마스터 (2016)\n",
       "                 ...            \n",
       "270                 차이나타운 (2014)\n",
       "271                   부라더 (2017)\n",
       "272                    해무 (2014)\n",
       "273            새미의 어드벤쳐 2 (2012)\n",
       "274               위대한 개츠비 (2013)\n",
       "275                  인간중독 (2014)\n",
       "276      다이하드 : 굿 데이 투 다이 (2013)\n",
       "277        탐정 홍길동: 사라진 마을 (2015)\n",
       "278                   런닝맨 (2013)\n",
       "279                위대한 쇼맨 (2017)\n",
       "280                    벤허 (2016)\n",
       "281                 말레피센트 (2014)\n",
       "282                 기억의 밤 (2017)\n",
       "283                 골든슬럼버 (2017)\n",
       "284                  램페이지 (2018)\n",
       "285               해피 데스데이 (2017)\n",
       "286            폼페이: 최후의 날 (2014)\n",
       "287                 브이아이피 (2016)\n",
       "288                  특별시민 (2016)\n",
       "289                    퓨리 (2014)\n",
       "290                   차형사 (2012)\n",
       "291                    은교 (2012)\n",
       "292                    궁합 (2018)\n",
       "293                  오션스8 (2018)\n",
       "294                 미스터 고 (2013)\n",
       "295                 굿 다이노 (2015)\n",
       "296          드라큘라: 전설의 시작 (2014)\n",
       "297                 사라진 밤 (2017)\n",
       "298    가디언즈 오브 갤럭시 VOL. 2 (2017)\n",
       "299                    간첩 (2012)\n",
       "Name: 영화명, Length: 300, dtype: object"
      ]
     },
     "execution_count": 12,
     "metadata": {},
     "output_type": "execute_result"
    }
   ],
   "source": [
    "movie300['영화명']"
   ]
  },
  {
   "cell_type": "code",
   "execution_count": 13,
   "metadata": {},
   "outputs": [
    {
     "ename": "KeyboardInterrupt",
     "evalue": "",
     "output_type": "error",
     "traceback": [
      "\u001b[1;31m---------------------------------------------------------------------------\u001b[0m",
      "\u001b[1;31mKeyboardInterrupt\u001b[0m                         Traceback (most recent call last)",
      "\u001b[1;32m<ipython-input-13-827593ccc626>\u001b[0m in \u001b[0;36m<module>\u001b[1;34m\u001b[0m\n\u001b[0;32m      8\u001b[0m     \u001b[0mxpath\u001b[0m \u001b[1;33m=\u001b[0m \u001b[1;34m'//*[@id=\"q\"]'\u001b[0m\u001b[1;33m\u001b[0m\u001b[1;33m\u001b[0m\u001b[0m\n\u001b[0;32m      9\u001b[0m     \u001b[0mdriver\u001b[0m\u001b[1;33m.\u001b[0m\u001b[0mfind_element_by_xpath\u001b[0m\u001b[1;33m(\u001b[0m\u001b[0mxpath\u001b[0m\u001b[1;33m)\u001b[0m\u001b[1;33m.\u001b[0m\u001b[0mclear\u001b[0m\u001b[1;33m(\u001b[0m\u001b[1;33m)\u001b[0m\u001b[1;33m\u001b[0m\u001b[1;33m\u001b[0m\u001b[0m\n\u001b[1;32m---> 10\u001b[1;33m     \u001b[0mtime\u001b[0m\u001b[1;33m.\u001b[0m\u001b[0msleep\u001b[0m\u001b[1;33m(\u001b[0m\u001b[1;36m2\u001b[0m\u001b[1;33m)\u001b[0m\u001b[1;33m\u001b[0m\u001b[1;33m\u001b[0m\u001b[0m\n\u001b[0m\u001b[0;32m     11\u001b[0m \u001b[1;33m\u001b[0m\u001b[0m\n\u001b[0;32m     12\u001b[0m \u001b[1;33m\u001b[0m\u001b[0m\n",
      "\u001b[1;31mKeyboardInterrupt\u001b[0m: "
     ]
    }
   ],
   "source": [
    "\n",
    "\n",
    "for title in movie300['영화명']:\n",
    "    xpath = '//*[@id=\"q\"]'\n",
    "    driver.find_element_by_xpath(xpath).send_keys(title)\n",
    "    xpath = '//*[@id=\"daumBtnSearch\"]'\n",
    "    driver.find_element_by_xpath(xpath).click()\n",
    "    xpath = '//*[@id=\"q\"]'\n",
    "    driver.find_element_by_xpath(xpath).clear()\n",
    "    time.sleep(2)\n",
    "\n",
    "\n",
    "\n"
   ]
  },
  {
   "cell_type": "code",
   "execution_count": 36,
   "metadata": {},
   "outputs": [
    {
     "name": "stdout",
     "output_type": "stream",
     "text": [
      "[<a class=\"f_more\" href=\"http://movie.daum.net/moviedb/main?movieId=106307\" onclick=\"smartLog(this,'s=TO&amp;a=M1TO&amp;dc=EM1&amp;pg=1&amp;r=1&amp;p=11&amp;rc=1&amp;d=106307&amp;sub=EM13',event);\" target=\"_blank\">더보기</a>]\n"
     ]
    }
   ],
   "source": [
    "# 닉네임 추출\n",
    "from bs4 import BeautifulSoup\n",
    "\n",
    "name=[]\n",
    "\n",
    "html = driver.page_source # 페이지의 elements모두 가져오기\n",
    "soup = BeautifulSoup(html, 'html.parser') # BeautifulSoup사용하기\n",
    "title = soup.select('#movieTitle > a > b')\n",
    "info = soup.select('#movieEColl > div.coll_cont > div > div.info_movie > div.wrap_cont.type_longtit5 > dl:nth-of-type(4) > dd > a')\n",
    "print(info)\n",
    "\n",
    "\n",
    "\n"
   ]
  },
  {
   "cell_type": "code",
   "execution_count": null,
   "metadata": {},
   "outputs": [],
   "source": [
    "#movieEColl > div.coll_cont > div > div.info_movie > div.wrap_cont.type_longtit5 > dl:nth-of-type(4) > dd > a"
   ]
  },
  {
   "cell_type": "code",
   "execution_count": null,
   "metadata": {},
   "outputs": [],
   "source": []
  }
 ],
 "metadata": {
  "kernelspec": {
   "display_name": "Python 3",
   "language": "python",
   "name": "python3"
  },
  "language_info": {
   "codemirror_mode": {
    "name": "ipython",
    "version": 3
   },
   "file_extension": ".py",
   "mimetype": "text/x-python",
   "name": "python",
   "nbconvert_exporter": "python",
   "pygments_lexer": "ipython3",
   "version": "3.7.2"
  }
 },
 "nbformat": 4,
 "nbformat_minor": 2
}
