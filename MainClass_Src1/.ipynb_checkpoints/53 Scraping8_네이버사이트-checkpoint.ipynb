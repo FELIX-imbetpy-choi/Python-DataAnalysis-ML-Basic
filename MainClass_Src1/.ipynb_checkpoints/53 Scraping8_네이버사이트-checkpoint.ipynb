{
 "cells": [
  {
   "cell_type": "code",
   "execution_count": 1,
   "metadata": {},
   "outputs": [],
   "source": [
    "from selenium import webdriver\n",
    "\n",
    "\n",
    "\n"
   ]
  },
  {
   "cell_type": "code",
   "execution_count": 2,
   "metadata": {},
   "outputs": [],
   "source": [
    "driver = webdriver.Chrome('./chromedriver.exe')\n",
    "#driver.get('https://www.daum.net') -  값이 안나와\n",
    "# https://logins.daum.net/accounts/login.do\n",
    "driver.get('https://nid.naver.com/nidlogin.login?mode=form&url=https%3A%2F%2Fwww.naver.com')\n",
    "\n",
    "\n",
    "\n"
   ]
  },
  {
   "cell_type": "code",
   "execution_count": 5,
   "metadata": {},
   "outputs": [],
   "source": [
    "# 크롬 개발자 도구로  - 아이디와 비밀번호 확인한 후 web page에 자동입력\n",
    "# driver.find.element_by_id('id') 는 함수 - 안된다 숨겨놓은것? - form 에 들어가서 가져와야한다.\n",
    "elm_login = driver.find_element_by_id('id')\n",
    "elm_login.clear()\n",
    "elm_login.send_keys('enter8166')\n",
    "\n",
    "\n",
    "\n"
   ]
  },
  {
   "cell_type": "code",
   "execution_count": 6,
   "metadata": {},
   "outputs": [],
   "source": [
    "# 패스워드 입력\n",
    "elm_login = driver.find_element_by_id('pw')\n",
    "elm_login.clear()\n",
    "elm_login.send_keys('chl645dud')\n",
    "\n",
    "\n",
    "\n"
   ]
  },
  {
   "cell_type": "code",
   "execution_count": 7,
   "metadata": {},
   "outputs": [],
   "source": [
    "# 버튼 클릭하기 - xPath로 로그인 path 가져와야 - select 가 아니라\n",
    "# Chrome 개발자 도구의 copy xpath활용하여 xpath추출 \n",
    "# scraping에서 xPath를 쓰는게 가장 쉬운 방법\n",
    "\n",
    "xpath = '//*[@id=\"frmNIDLogin\"]/fieldset/input'\n",
    "driver.find_element_by_xpath(xpath).click()\n",
    "\n",
    "\n",
    "\n"
   ]
  },
  {
   "cell_type": "code",
   "execution_count": null,
   "metadata": {},
   "outputs": [],
   "source": [
    "# 로그인에서 막힌다!!!\n",
    "\n",
    "\n",
    "\n"
   ]
  },
  {
   "cell_type": "code",
   "execution_count": null,
   "metadata": {},
   "outputs": [],
   "source": []
  }
 ],
 "metadata": {
  "kernelspec": {
   "display_name": "Python 3",
   "language": "python",
   "name": "python3"
  },
  "language_info": {
   "codemirror_mode": {
    "name": "ipython",
    "version": 3
   },
   "file_extension": ".py",
   "mimetype": "text/x-python",
   "name": "python",
   "nbconvert_exporter": "python",
   "pygments_lexer": "ipython3",
   "version": "3.7.1"
  }
 },
 "nbformat": 4,
 "nbformat_minor": 2
}
