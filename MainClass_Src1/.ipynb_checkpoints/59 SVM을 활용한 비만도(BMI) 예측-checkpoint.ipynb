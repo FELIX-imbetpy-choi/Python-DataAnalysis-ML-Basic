{
 "cells": [
  {
   "cell_type": "markdown",
   "metadata": {},
   "source": [
    "# SVM을 활용한 비만도(BMI) 측정 예측\n",
    "BMI = 몸무게(Kg) / (키(m)*키(m))\n",
    "BMI가 18.5 이상과 25 미만이면 표준 몸무게"
   ]
  },
  {
   "cell_type": "markdown",
   "metadata": {},
   "source": [
    "### 데이터를 생성하기 위해 무작위로 2만명의 데이터를 생성\n",
    "### 순서는 키(cm) 몸무게(kg) label(저체중(thin),정상체중(normal),비만(fat))으로 구성된 csv 생성"
   ]
  },
  {
   "cell_type": "code",
   "execution_count": 20,
   "metadata": {},
   "outputs": [
    {
     "name": "stdout",
     "output_type": "stream",
     "text": [
      "ok {'thin': 6427, 'normal': 5946, 'fat': 7627}\n"
     ]
    }
   ],
   "source": [
    "# 데이터를 생성하기 위해 무작위로 2만명의 데이터를 생성\n",
    "# 순서는 키(cm) 몸무게(kg) label(저체중(thin),정상체중(normal),비만(fat))으로 구성된 csv 생성\n",
    "import random\n",
    "\n",
    "def calc_bmi(h,w):\n",
    "    bmi = w / (h / 100) ** 2\n",
    "    if bmi < 18.5 : return 'thin'\n",
    "    if bmi <25 : return 'normal'\n",
    "    return 'fat'\n",
    "\n",
    "# 출력 파일 준비\n",
    "fp = open('./data/bmi.csv','w', encoding='utf-8')\n",
    "fp.write('height,weight,label\\n')\n",
    "\n",
    "# 무작위로 데이터 생성하기\n",
    "    # label 값을 받아서 calc_bmi로 계산하면 thin normal fat 중 하나를 받는다. 그러면 그 레이블에 cnt에 1을 더한다.\n",
    "cnt = {'thin' : 0, 'normal' : 0, 'fat' : 0}\n",
    "for i in range(20000):\n",
    "    h = random.randint(120,200)\n",
    "    w = random.randint(35,80)\n",
    "    label =calc_bmi(h,w)\n",
    "    cnt[label]+=1\n",
    "    fp.write('{0},{1},{2}\\n'.format(h,w,label))\n",
    "fp.close()\n",
    "print(\"ok\",cnt )\n",
    "\n",
    "\n",
    "\n",
    "\n",
    "\n",
    "\n",
    "\n",
    "\n",
    "\n",
    "\n",
    "\n"
   ]
  },
  {
   "cell_type": "code",
   "execution_count": 22,
   "metadata": {},
   "outputs": [
    {
     "name": "stderr",
     "output_type": "stream",
     "text": [
      "C:\\Users\\GSCHOI\\Anaconda3\\lib\\site-packages\\sklearn\\svm\\base.py:196: FutureWarning: The default value of gamma will change from 'auto' to 'scale' in version 0.22 to account better for unscaled features. Set gamma explicitly to 'auto' or 'scale' to avoid this warning.\n",
      "  \"avoid this warning.\", FutureWarning)\n"
     ]
    },
    {
     "name": "stdout",
     "output_type": "stream",
     "text": [
      "정답률 : 0.9972\n"
     ]
    }
   ],
   "source": [
    "# SVM(Support Vector Machine)을 이용한 분류\n",
    "\n",
    "import pandas as pd\n",
    "from sklearn import svm, metrics\n",
    "from sklearn.model_selection import train_test_split # 훈련용데이터와 테스트데이터 분류 해주는 기능\n",
    "\n",
    "# Data 불러오기\n",
    "csv = pd.read_csv('./data/bmi.csv')\n",
    "\n",
    "# Training과 Test 분리하기\n",
    "csv_data = csv[['height','weight']]\n",
    "csv_label = csv['label']\n",
    "train_data, test_data, train_label, test_label = train_test_split(csv_data, csv_label) \n",
    "# csv_data로 train_data, test_data가 나오고 csv_label로 train_label, test_label이 나온다\n",
    "\n",
    "# Training 학습시키기\n",
    "clf = svm.SVC()\n",
    "clf.fit(train_data, train_label)\n",
    "\n",
    "# Test 데이터 예측하기\n",
    "pre = clf.predict(test_data)\n",
    "\n",
    "# 정답률 맞추기\n",
    "ac_score = metrics.accuracy_score(test_label, pre)\n",
    "print('정답률 :', ac_score)\n",
    "\n",
    "\n",
    "\n",
    "\n",
    "\n",
    "\n",
    "\n",
    "\n",
    "\n",
    "\n",
    "\n"
   ]
  },
  {
   "cell_type": "code",
   "execution_count": 23,
   "metadata": {},
   "outputs": [],
   "source": [
    "# 데이터 분포 확인\n",
    "import matplotlib.pyplot as plt\n",
    "import pandas as pd\n",
    "\n",
    "\n",
    "\n"
   ]
  },
  {
   "cell_type": "code",
   "execution_count": 24,
   "metadata": {},
   "outputs": [
    {
     "data": {
      "image/png": "[encoded data removed]",
      "text/plain": [
       "<Figure size 432x288 with 1 Axes>"
      ]
     },
     "metadata": {
      "needs_background": "light"
     },
     "output_type": "display_data"
    }
   ],
   "source": [
    "tbl = pd.read_csv('./data/bmi.csv',index_col=2)\n",
    "fig = plt.figure()\n",
    "ax = fig.add_subplot(1,1,1)\n",
    "\n",
    "def scatter(lbl, color):\n",
    "    b = tbl.loc[lbl]\n",
    "    ax.scatter(b['weight'],b['height'],c=color,label=lbl)\n",
    "    \n",
    "scatter('fat','red')\n",
    "scatter('normal','yellow')\n",
    "scatter('thin','purple')\n",
    "plt.savefig('./data/bmi.png')\n",
    "ax.legend()\n",
    "plt.show()\n",
    "\n",
    "\n",
    "\n",
    "\n",
    "\n",
    "\n",
    "\n"
   ]
  },
  {
   "cell_type": "code",
   "execution_count": null,
   "metadata": {},
   "outputs": [],
   "source": []
  }
 ],
 "metadata": {
  "kernelspec": {
   "display_name": "Python 3",
   "language": "python",
   "name": "python3"
  },
  "language_info": {
   "codemirror_mode": {
    "name": "ipython",
    "version": 3
   },
   "file_extension": ".py",
   "mimetype": "text/x-python",
   "name": "python",
   "nbconvert_exporter": "python",
   "pygments_lexer": "ipython3",
   "version": "3.7.1"
  }
 },
 "nbformat": 4,
 "nbformat_minor": 2
}
