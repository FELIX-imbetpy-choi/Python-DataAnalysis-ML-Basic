{
 "cells": [
  {
   "cell_type": "markdown",
   "metadata": {},
   "source": [
    "# Naver Api 사용하기\n",
    "http://developers.naver.com/docs/map/overview 에서 naverid로 가입"
   ]
  },
  {
   "cell_type": "code",
   "execution_count": 7,
   "metadata": {},
   "outputs": [
    {
     "name": "stdout",
     "output_type": "stream",
     "text": [
      "{\n",
      "    \"result\": {\n",
      "        \"total\": 1,\n",
      "        \"userquery\": \"불정로 6\",\n",
      "        \"items\": [\n",
      "            {\n",
      "                \"address\": \"경기도 성남시 분당구 불정로 6 NAVER그린팩토리\",\n",
      "                \"addrdetail\": {\n",
      "                    \"country\": \"대한민국\",\n",
      "                    \"sido\": \"경기도\",\n",
      "                    \"sigugun\": \"성남시 분당구\",\n",
      "                    \"dongmyun\": \"불정로\",\n",
      "                    \"ri\": \"\",\n",
      "                    \"rest\": \"6 NAVER그린팩토리\"\n",
      "                },\n",
      "                \"isRoadAddress\": true,\n",
      "                \"point\": {\n",
      "                    \"x\": 127.1052133,\n",
      "                    \"y\": 37.3595316\n",
      "                }\n",
      "            }\n",
      "        ]\n",
      "    }\n",
      "}\n"
     ]
    }
   ],
   "source": [
    "# 본 예제는 Python에서 주소좌표변환 api를 호출하는 예제입니다.\n",
    "import os\n",
    "import sys\n",
    "import urllib.request\n",
    "client_id = \"FhouMGJbmgH2XI8LgCYa\"\n",
    "client_secret = \"jqJ0ZpqL8f\"\n",
    "encText = urllib.parse.quote(\"불정로 6\")\n",
    "url = \"https://openapi.naver.com/v1/map/geocode?query=\" + encText # json 결과\n",
    "# url = \"https://openapi.naver.com/v1/map/geocode.xml?query=\" + encText # xml 결과\n",
    "request = urllib.request.Request(url)\n",
    "request.add_header(\"X-Naver-Client-Id\",client_id)\n",
    "request.add_header(\"X-Naver-Client-Secret\",client_secret)\n",
    "response = urllib.request.urlopen(request)\n",
    "rescode = response.getcode()\n",
    "if(rescode==200):\n",
    "    response_body = response.read()\n",
    "    print(response_body.decode('utf-8'))\n",
    "else:\n",
    "    print(\"Error Code:\" + rescode)\n",
    "\n",
    "\n",
    "\n",
    "\n",
    "\n",
    "\n",
    "\n",
    "\n",
    "\n",
    "\n",
    "\n"
   ]
  },
  {
   "cell_type": "code",
   "execution_count": 8,
   "metadata": {},
   "outputs": [
    {
     "name": "stdout",
     "output_type": "stream",
     "text": [
      "{'result': {'total': 1, 'userquery': '불정로 6', 'items': [{'address': '경기도 성남시 분당구 불정로 6 NAVER그린팩토리', 'addrdetail': {'country': '대한민국', 'sido': '경기도', 'sigugun': '성남시 분당구', 'dongmyun': '불정로', 'ri': '', 'rest': '6 NAVER그린팩토리'}, 'isRoadAddress': True, 'point': {'x': 127.1052133, 'y': 37.3595316}}]}}\n"
     ]
    }
   ],
   "source": [
    "# 사용목적에 맞게 수정\n",
    "import os\n",
    "import sys\n",
    "import urllib.request\n",
    "client_id = \"FhouMGJbmgH2XI8LgCYa\"\n",
    "client_secret = \"jqJ0ZpqL8f\"\n",
    "encText = urllib.parse.quote(\"불정로 6\")\n",
    "url = \"https://openapi.naver.com/v1/map/geocode?query=\" + encText # json 결과\n",
    "# url = \"https://openapi.naver.com/v1/map/geocode.xml?query=\" + encText # xml 결과\n",
    "request = urllib.request.Request(url)\n",
    "request.add_header(\"X-Naver-Client-Id\",client_id)\n",
    "request.add_header(\"X-Naver-Client-Secret\",client_secret)\n",
    "response = urllib.request.urlopen(request)\n",
    "rescode = response.getcode()\n",
    "if(rescode==200):\n",
    "    response_body = response.read()\n",
    "    #print(response_body.decode('utf-8'))\n",
    "    entext = response_body.decode('utf-8')\n",
    "else:\n",
    "    print(\"Error Code:\" + rescode)\n",
    "\n",
    "#----------------------------\n",
    "import json\n",
    "data = json.loads(entext)\n",
    "lng = data['result']['items'][0]['point']['x']\n",
    "lat = data['result']['items'][0]['point']['y']\n",
    "\n",
    "\n",
    "\n",
    "\n",
    "\n",
    "\n",
    "\n",
    "\n",
    "\n",
    "\n",
    "\n"
   ]
  },
  {
   "cell_type": "code",
   "execution_count": 9,
   "metadata": {},
   "outputs": [
    {
     "data": {
      "text/plain": [
       "dict"
      ]
     },
     "execution_count": 9,
     "metadata": {},
     "output_type": "execute_result"
    }
   ],
   "source": [
    "type(data)\n",
    "\n",
    "\n",
    "\n"
   ]
  },
  {
   "cell_type": "code",
   "execution_count": 11,
   "metadata": {},
   "outputs": [],
   "source": [
    "# jason을 가지고 자신이 원하는 값의 위치 찾기\n",
    "data_result = data['result']\n",
    "\n",
    "\n",
    "\n"
   ]
  },
  {
   "cell_type": "code",
   "execution_count": 13,
   "metadata": {},
   "outputs": [],
   "source": [
    "data_items = data_result['items']\n",
    "\n",
    "\n",
    "\n"
   ]
  },
  {
   "cell_type": "code",
   "execution_count": 21,
   "metadata": {},
   "outputs": [
    {
     "data": {
      "text/plain": [
       "127.1052133"
      ]
     },
     "execution_count": 21,
     "metadata": {},
     "output_type": "execute_result"
    }
   ],
   "source": [
    "data_items[0]['point']['x']\n",
    "\n",
    "\n",
    "\n"
   ]
  },
  {
   "cell_type": "code",
   "execution_count": 22,
   "metadata": {},
   "outputs": [
    {
     "data": {
      "text/plain": [
       "127.1052133"
      ]
     },
     "execution_count": 22,
     "metadata": {},
     "output_type": "execute_result"
    }
   ],
   "source": [
    "lng = data['result']['items'][0]['point']['x']\n",
    "lng\n",
    "\n",
    "\n",
    "\n"
   ]
  },
  {
   "cell_type": "code",
   "execution_count": 24,
   "metadata": {},
   "outputs": [
    {
     "data": {
      "text/plain": [
       "37.3595316"
      ]
     },
     "execution_count": 24,
     "metadata": {},
     "output_type": "execute_result"
    }
   ],
   "source": [
    "lat = data['result']['items'][0]['point']['y']\n",
    "lat\n",
    "\n",
    "\n",
    "\n"
   ]
  },
  {
   "cell_type": "code",
   "execution_count": null,
   "metadata": {},
   "outputs": [],
   "source": []
  }
 ],
 "metadata": {
  "kernelspec": {
   "display_name": "Python 3",
   "language": "python",
   "name": "python3"
  },
  "language_info": {
   "codemirror_mode": {
    "name": "ipython",
    "version": 3
   },
   "file_extension": ".py",
   "mimetype": "text/x-python",
   "name": "python",
   "nbconvert_exporter": "python",
   "pygments_lexer": "ipython3",
   "version": "3.7.1"
  }
 },
 "nbformat": 4,
 "nbformat_minor": 2
}
