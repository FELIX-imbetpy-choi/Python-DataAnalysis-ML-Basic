{
 "cells": [
  {
   "cell_type": "markdown",
   "metadata": {},
   "source": [
    "# 숫자형"
   ]
  },
  {
   "cell_type": "code",
   "execution_count": 2,
   "metadata": {},
   "outputs": [
    {
     "data": {
      "text/plain": [
       "0"
      ]
     },
     "execution_count": 2,
     "metadata": {},
     "output_type": "execute_result"
    }
   ],
   "source": [
    "# 정수형\n",
    "a = 123\n",
    "a = -17\n",
    "a = 0\n",
    "a\n",
    "\n",
    "\n",
    "\n",
    "\n"
   ]
  },
  {
   "cell_type": "code",
   "execution_count": 3,
   "metadata": {},
   "outputs": [
    {
     "data": {
      "text/plain": [
       "(-12, 34)"
      ]
     },
     "execution_count": 3,
     "metadata": {},
     "output_type": "execute_result"
    }
   ],
   "source": [
    "#실수형\n",
    "a=1,2\n",
    "b=-12,34\n",
    "a\n",
    "b\n",
    "\n",
    "\n",
    "\n",
    "\n"
   ]
  },
  {
   "cell_type": "code",
   "execution_count": 5,
   "metadata": {},
   "outputs": [
    {
     "name": "stdout",
     "output_type": "stream",
     "text": [
      "덧셈 7\n",
      "뺄셈 -1\n",
      "곱셈 12\n",
      "나눗셈 0.75\n",
      "제곱 9\n",
      "나머지 3\n",
      "몫 0\n"
     ]
    }
   ],
   "source": [
    "#연산자\n",
    "a=3\n",
    "b=4\n",
    "print('덧셈',a+b)\n",
    "print('뺄셈',a-b)\n",
    "print('곱셈',a*b)\n",
    "print('나눗셈',a/b)\n",
    "print('제곱',a** 2)\n",
    "print('나머지',a%b)\n",
    "print('몫',a//b)\n",
    "\n",
    "\n",
    "\n",
    "\n"
   ]
  },
  {
   "cell_type": "markdown",
   "metadata": {},
   "source": [
    "# 문자열 자료형"
   ]
  },
  {
   "cell_type": "code",
   "execution_count": 6,
   "metadata": {
    "scrolled": true
   },
   "outputs": [
    {
     "name": "stdout",
     "output_type": "stream",
     "text": [
      "hello world!\n"
     ]
    }
   ],
   "source": [
    "a = \"hello world!\"\n",
    "print(a)\n",
    "\n",
    "\n",
    "\n",
    "\n"
   ]
  },
  {
   "cell_type": "code",
   "execution_count": 8,
   "metadata": {},
   "outputs": [
    {
     "name": "stdout",
     "output_type": "stream",
     "text": [
      "\n",
      "    Hello world!                123\n",
      "    abnc\n",
      "    가나다\n",
      "    123\n",
      "    \n"
     ]
    }
   ],
   "source": [
    "a = \"\"\"\n",
    "    Hello world!                123\n",
    "    abnc\n",
    "    가나다\n",
    "    123\n",
    "    \"\"\"\n",
    "print(a)\n",
    "#문자열을 모두 프린트 되게 할 수 있다. ''' ''',\"\"\" \"\"\" 띄어쓰기도 똑같이 나온다.\n",
    "\n",
    "\n",
    "\n",
    "\n"
   ]
  },
  {
   "cell_type": "code",
   "execution_count": 10,
   "metadata": {},
   "outputs": [
    {
     "name": "stdout",
     "output_type": "stream",
     "text": [
      "My father's wife is my mother\n"
     ]
    }
   ],
   "source": [
    "b = \"My father's wife is my mother\"\n",
    "print(b)\n",
    "#쌍따옴표 안에는 홋따옴표 쓰기 가능,  홋따옴표 안에는 쌍따옴표 쓰기 가능\n",
    "\n",
    "\n",
    "\n",
    "\n"
   ]
  },
  {
   "cell_type": "code",
   "execution_count": 12,
   "metadata": {},
   "outputs": [
    {
     "name": "stdout",
     "output_type": "stream",
     "text": [
      "He says \"I love you\"\n"
     ]
    }
   ],
   "source": [
    "b = 'He says \"I love you\"'\n",
    "print(b)\n",
    "\n",
    "\n",
    "\n",
    "\n"
   ]
  },
  {
   "cell_type": "code",
   "execution_count": 16,
   "metadata": {},
   "outputs": [
    {
     "name": "stdout",
     "output_type": "stream",
     "text": [
      "aaa\n",
      "bbb\n",
      "aaa\tbbb\n"
     ]
    }
   ],
   "source": [
    "c = 'aaa\\nbbb' # \\n은 한줄띄어쓰기 \n",
    "d = 'aaa\\tbbb' # \\t는 tab기능\n",
    "print(c)\n",
    "print(d)\n",
    "\n",
    "\n",
    "\n",
    "\n"
   ]
  },
  {
   "cell_type": "code",
   "execution_count": 18,
   "metadata": {},
   "outputs": [
    {
     "name": "stdout",
     "output_type": "stream",
     "text": [
      "Pythonis fun. \n",
      "Python is fun. \n"
     ]
    }
   ],
   "source": [
    "#문자열 연산하기\n",
    "a = 'Python'\n",
    "b = 'is fun. '\n",
    "print(a+b)\n",
    "print(a,b) #컴마는 알아서 한칸 띄어줌.!\n",
    "\n",
    "\n",
    "\n",
    "\n"
   ]
  },
  {
   "cell_type": "code",
   "execution_count": 22,
   "metadata": {},
   "outputs": [
    {
     "name": "stdout",
     "output_type": "stream",
     "text": [
      "PythonPythonPythonPythonPythonPythonPythonPythonPythonPython\n"
     ]
    }
   ],
   "source": [
    "#문자열 곱하기\n",
    "a = 'Python'\n",
    "print(a*10) #반복해서 표시해준다!\n",
    "\n",
    "\n",
    "\n",
    "\n"
   ]
  },
  {
   "cell_type": "code",
   "execution_count": 34,
   "metadata": {
    "scrolled": true
   },
   "outputs": [
    {
     "name": "stdout",
     "output_type": "stream",
     "text": [
      "====================\n",
      " Python \n",
      "====================\n"
     ]
    }
   ],
   "source": [
    "print('='*20+'\\n Python \\n'+'='*20)  #프린트 한줄로 쓰기 - 파이썬 특징? , 한줄코딩을 많이 생각해야함!1!\n",
    "\n",
    "\n",
    "\n",
    "\n"
   ]
  },
  {
   "cell_type": "markdown",
   "metadata": {},
   "source": [
    "문자열 indexing과 slicing"
   ]
  },
  {
   "cell_type": "code",
   "execution_count": 1,
   "metadata": {},
   "outputs": [
    {
     "name": "stdout",
     "output_type": "stream",
     "text": [
      "abcdefghijklmn\n",
      "a\n",
      "abcde\n",
      "n\n",
      "lm\n",
      "fghijklmn\n",
      "abcde\n",
      "abc\n",
      "fghijkl\n"
     ]
    }
   ],
   "source": [
    "str = 'abcdefghijklmn'\n",
    "print(str)\n",
    "print(str[0]) #배열선언이 필요가 없다?\n",
    "print(str[0:5]) #0번에서 5번까지 넥슬라이쓰!\n",
    "print(str[-1]) #맨 끝자리의 자릿수이다. 파이썬에선 -1이 리스트나 문자열의 마지막부분이다.\n",
    "print(str[-3:-1]) # 순서는 이렇게 찍어야\n",
    "print(str[5:]) #5번째 부터 다 찍어\n",
    "print(str[:5]) #처음부터 5번째까지 찍어\n",
    "print(str[0]+str[1]+str[2])\n",
    "print(str[5:-2])\n",
    "\n",
    "\n",
    "\n",
    "\n"
   ]
  },
  {
   "cell_type": "code",
   "execution_count": 81,
   "metadata": {},
   "outputs": [
    {
     "name": "stdout",
     "output_type": "stream",
     "text": [
      "년도 : 2018 \n",
      "날짜 : 1112 \n",
      "날씨 : 맑음\n"
     ]
    }
   ],
   "source": [
    "a = '20181112맑음'\n",
    "year = a[:4]\n",
    "day = a[4:8]\n",
    "weather = a[8:]\n",
    "\n",
    "print('년도 :',year,'\\n날짜 :',day,'\\n날씨 :',weather) #컨트롤 슬래쉬 하면 모두 주석처리 된다.\n",
    "\n",
    "\n",
    "\n",
    "\n"
   ]
  },
  {
   "cell_type": "code",
   "execution_count": 4,
   "metadata": {},
   "outputs": [
    {
     "name": "stdout",
     "output_type": "stream",
     "text": [
      "abcde\n"
     ]
    }
   ],
   "source": [
    "a = 'abbde'\n",
    "b = a[:2]+'c'+a[3:]\n",
    "print(b)\n",
    "\n",
    "\n",
    "\n",
    "\n"
   ]
  },
  {
   "cell_type": "markdown",
   "metadata": {},
   "source": [
    "# 문자열 Formattiong"
   ]
  },
  {
   "cell_type": "code",
   "execution_count": 6,
   "metadata": {},
   "outputs": [
    {
     "name": "stdout",
     "output_type": "stream",
     "text": [
      "I have 2 apples\n"
     ]
    }
   ],
   "source": [
    "print('I have %d apples'%2) # %d : 정수\n",
    "\n",
    "\n",
    "\n",
    "\n"
   ]
  },
  {
   "cell_type": "code",
   "execution_count": 7,
   "metadata": {
    "scrolled": true
   },
   "outputs": [
    {
     "name": "stdout",
     "output_type": "stream",
     "text": [
      "I have two apples\n"
     ]
    }
   ],
   "source": [
    "print('I have %s apples'%\"two\") # %s : String\n",
    "\n",
    "\n",
    "\n",
    "\n"
   ]
  },
  {
   "cell_type": "code",
   "execution_count": 8,
   "metadata": {},
   "outputs": [
    {
     "name": "stdout",
     "output_type": "stream",
     "text": [
      "I have 2 apples\n"
     ]
    }
   ],
   "source": [
    "number = 2\n",
    "print('I have %d apples'%number)\n",
    "\n",
    "\n",
    "\n",
    "\n"
   ]
  },
  {
   "cell_type": "code",
   "execution_count": 16,
   "metadata": {},
   "outputs": [
    {
     "name": "stdout",
     "output_type": "stream",
     "text": [
      "i have 2 apples.\n"
     ]
    }
   ],
   "source": [
    "number = 2\n",
    "fruit = 'apples'\n",
    "print('i have %d %s.'%(number,fruit)) #%는 앞에 대입해준다는 개념이라 한번에 써야함?\n",
    "\n",
    "\n",
    "\n",
    "\n"
   ]
  },
  {
   "cell_type": "code",
   "execution_count": 11,
   "metadata": {},
   "outputs": [
    {
     "name": "stdout",
     "output_type": "stream",
     "text": [
      "i have 2    apples.\n",
      "i have 2apples    .\n"
     ]
    }
   ],
   "source": [
    "print('i have 2%10s.'%'apples')\n",
    "print('i have 2%-10s.'%'apples') # 띄어쓰기를 앞에둘거냐? 뒤에 둘꺼냐?\n",
    "\n",
    "\n",
    "\n",
    "\n"
   ]
  },
  {
   "cell_type": "code",
   "execution_count": 17,
   "metadata": {
    "scrolled": true
   },
   "outputs": [
    {
     "name": "stdout",
     "output_type": "stream",
     "text": [
      "3.1416\n",
      "    3.1416\n"
     ]
    }
   ],
   "source": [
    "print(\"%0.4f\"%3.14159) \n",
    "print(\"%10.4f\"%3.14159) #총 10자리 소수점이하 4자리 표시 후 반올림? \n",
    "\n",
    "\n",
    "\n",
    "\n"
   ]
  },
  {
   "cell_type": "markdown",
   "metadata": {},
   "source": [
    "---------------------\n",
    "#문자열 관련 함수"
   ]
  },
  {
   "cell_type": "code",
   "execution_count": 1,
   "metadata": {},
   "outputs": [
    {
     "name": "stdout",
     "output_type": "stream",
     "text": [
      "1\n",
      "3\n",
      "15\n"
     ]
    }
   ],
   "source": [
    "#문자 count\n",
    "a = 'i have a dream.'\n",
    "print(a.count(a)) # a 문자열 한덩이\n",
    "print(a.count('a')) # a글자 몇개?\n",
    "print(len(a)) #글자 갯수 - 띄어쓰기가 포함되어 있다.\n",
    "\n",
    "\n",
    "\n",
    "\n"
   ]
  },
  {
   "cell_type": "code",
   "execution_count": 3,
   "metadata": {
    "scrolled": true
   },
   "outputs": [
    {
     "name": "stdout",
     "output_type": "stream",
     "text": [
      "5\n",
      "-1\n"
     ]
    }
   ],
   "source": [
    "#문자 위치 알려주기 -1\n",
    "print(a.find('e')) # 5번째 위치에 e가 있다.\n",
    "print(a.find('x')) # 없는 문자는 -1로 출력된다.\n",
    "\n",
    "\n",
    "\n",
    "\n"
   ]
  },
  {
   "cell_type": "code",
   "execution_count": 1,
   "metadata": {},
   "outputs": [
    {
     "name": "stdout",
     "output_type": "stream",
     "text": [
      "2\n"
     ]
    },
    {
     "ename": "ValueError",
     "evalue": "substring not found",
     "output_type": "error",
     "traceback": [
      "\u001b[1;31m---------------------------------------------------------------------------\u001b[0m",
      "\u001b[1;31mValueError\u001b[0m                                Traceback (most recent call last)",
      "\u001b[1;32m<ipython-input-1-144c4e3a98ff>\u001b[0m in \u001b[0;36m<module>\u001b[1;34m\u001b[0m\n\u001b[0;32m      2\u001b[0m \u001b[0ma\u001b[0m \u001b[1;33m=\u001b[0m \u001b[1;34m'life is too short to be happy.'\u001b[0m\u001b[1;33m\u001b[0m\u001b[1;33m\u001b[0m\u001b[0m\n\u001b[0;32m      3\u001b[0m \u001b[0mprint\u001b[0m\u001b[1;33m(\u001b[0m\u001b[0ma\u001b[0m\u001b[1;33m.\u001b[0m\u001b[0mindex\u001b[0m\u001b[1;33m(\u001b[0m\u001b[1;34m'f'\u001b[0m\u001b[1;33m)\u001b[0m\u001b[1;33m)\u001b[0m \u001b[1;31m# f가 어딨냐\u001b[0m\u001b[1;33m\u001b[0m\u001b[1;33m\u001b[0m\u001b[0m\n\u001b[1;32m----> 4\u001b[1;33m \u001b[0mprint\u001b[0m\u001b[1;33m(\u001b[0m\u001b[0ma\u001b[0m\u001b[1;33m.\u001b[0m\u001b[0mindex\u001b[0m\u001b[1;33m(\u001b[0m\u001b[1;34m'z'\u001b[0m\u001b[1;33m)\u001b[0m\u001b[1;33m)\u001b[0m \u001b[1;31m# 없는 글자는 error가 뜬다. 그래서 기분이 나쁘다 이마리야\u001b[0m\u001b[1;33m\u001b[0m\u001b[1;33m\u001b[0m\u001b[0m\n\u001b[0m\u001b[0;32m      5\u001b[0m \u001b[1;33m\u001b[0m\u001b[0m\n\u001b[0;32m      6\u001b[0m \u001b[1;33m\u001b[0m\u001b[0m\n",
      "\u001b[1;31mValueError\u001b[0m: substring not found"
     ]
    }
   ],
   "source": [
    "#문자 위치 알려주기 -2\n",
    "a = 'life is too short to be happy.'\n",
    "print(a.index('f')) # f가 어딨냐\n",
    "print(a.index('z')) # 없는 글자는 error가 뜬다. 그래서 기분이 나쁘다 이마리야\n",
    "\n",
    "\n",
    "\n",
    "\n"
   ]
  },
  {
   "cell_type": "code",
   "execution_count": 17,
   "metadata": {},
   "outputs": [
    {
     "data": {
      "text/plain": [
       "\"a' ' 'b\""
      ]
     },
     "execution_count": 17,
     "metadata": {},
     "output_type": "execute_result"
    }
   ],
   "source": [
    "#문자열 삽입(join)\n",
    "a = ','\n",
    "b = \"'\"\n",
    "a.join('abcdefg') #알아서 a가 삽입된다?\n",
    "b.join(' a b c d f g h i j k l ') # 띄어쓰기에도 동일하게 삽입된다. 두번띄면?\n",
    "b.join('a  b') # 띄어쓰기마다 1개가 삽입됨\n",
    "\n",
    "\n",
    "\n",
    "\n"
   ]
  },
  {
   "cell_type": "code",
   "execution_count": 36,
   "metadata": {},
   "outputs": [
    {
     "data": {
      "text/plain": [
       "'HI'"
      ]
     },
     "execution_count": 36,
     "metadata": {},
     "output_type": "execute_result"
    }
   ],
   "source": [
    "#소문자를 대문자로 변환하기(upper)\n",
    "a = 'hi'\n",
    "a.upper()\n",
    "\n",
    "\n",
    "\n",
    "\n"
   ]
  },
  {
   "cell_type": "code",
   "execution_count": 38,
   "metadata": {},
   "outputs": [
    {
     "data": {
      "text/plain": [
       "'hi'"
      ]
     },
     "execution_count": 38,
     "metadata": {},
     "output_type": "execute_result"
    }
   ],
   "source": [
    "# 대문자를 소문자로 변환(lower)\n",
    "a = 'HI'\n",
    "a.lower()\n",
    "\n",
    "\n",
    "\n",
    "\n"
   ]
  },
  {
   "cell_type": "code",
   "execution_count": 40,
   "metadata": {},
   "outputs": [
    {
     "data": {
      "text/plain": [
       "'hi'"
      ]
     },
     "execution_count": 40,
     "metadata": {},
     "output_type": "execute_result"
    }
   ],
   "source": [
    "# 왼쪽 공백 지우기(lstrip)\n",
    "a = '                hi               '\n",
    "a.lstrip() \n",
    "\n",
    "\n",
    "\n",
    "\n"
   ]
  },
  {
   "cell_type": "code",
   "execution_count": 43,
   "metadata": {},
   "outputs": [
    {
     "data": {
      "text/plain": [
       "'                hi'"
      ]
     },
     "execution_count": 43,
     "metadata": {},
     "output_type": "execute_result"
    }
   ],
   "source": [
    "# 오른쪽 공백 지우기(rstrip)\n",
    "a = '                hi               '\n",
    "a.rstrip() \n",
    "\n",
    "\n",
    "\n",
    "\n"
   ]
  },
  {
   "cell_type": "code",
   "execution_count": 45,
   "metadata": {},
   "outputs": [
    {
     "data": {
      "text/plain": [
       "'hi'"
      ]
     },
     "execution_count": 45,
     "metadata": {},
     "output_type": "execute_result"
    }
   ],
   "source": [
    "# 공백 지우기(strip) - 데이터 가져올때 많이 쓴다.\n",
    "a = '                hi               '\n",
    "a.strip()\n",
    "\n",
    "\n",
    "\n",
    "\n"
   ]
  },
  {
   "cell_type": "code",
   "execution_count": 19,
   "metadata": {},
   "outputs": [
    {
     "data": {
      "text/plain": [
       "\"'life' 'is' 'too' 'short'  'be' 'happy.'\""
      ]
     },
     "execution_count": 19,
     "metadata": {},
     "output_type": "execute_result"
    }
   ],
   "source": [
    "# 문자열 바꾸기 (replace)*****\n",
    "a = '#life# #is# #too# #short# <br/> #be# #happy.#'\n",
    "b = a.replace('<br/>','')\n",
    "#HTML 테그를 없앨때 많이 쓴다. ('<br/>', '')\n",
    "c = a.replace(\"#\",\"'\")\n",
    "c = c.replace(\"<br/>\",\"\")\n",
    "c\n",
    "\n",
    "\n",
    "\n",
    "\n"
   ]
  },
  {
   "cell_type": "code",
   "execution_count": 49,
   "metadata": {},
   "outputs": [
    {
     "data": {
      "text/plain": [
       "'life is too short <br/> be happy.'"
      ]
     },
     "execution_count": 49,
     "metadata": {},
     "output_type": "execute_result"
    }
   ],
   "source": [
    "a #a를 다시 찍으니 수정 전 값이 나온다.! a의 본래값이 바뀐게 아니다.\n",
    "\n",
    "\n",
    "\n",
    "\n"
   ]
  },
  {
   "cell_type": "code",
   "execution_count": 21,
   "metadata": {},
   "outputs": [
    {
     "name": "stdout",
     "output_type": "stream",
     "text": [
      "Life is too, short to be happy.\n",
      "L\n",
      "['Life is too', ' short to be happy.']\n",
      "Life is too\n"
     ]
    }
   ],
   "source": [
    "# 문자열 나누기 (split)*****\n",
    "a = 'Life is too, short to be happy.'\n",
    "print(a)\n",
    "print(a[0])\n",
    "b = a.split(',') # split() 괄호안은 나누기의 기준이다.\n",
    "print(b)\n",
    "print(b[0])\n",
    "\n",
    "\n",
    "\n",
    "\n"
   ]
  },
  {
   "cell_type": "code",
   "execution_count": 51,
   "metadata": {},
   "outputs": [
    {
     "name": "stdout",
     "output_type": "stream",
     "text": [
      "['a', 'b', 'c', 'd']\n"
     ]
    }
   ],
   "source": [
    "a='a:b:c:d'\n",
    "print(a.split(':'))\n",
    "\n",
    "\n",
    "\n",
    "\n"
   ]
  },
  {
   "cell_type": "code",
   "execution_count": 52,
   "metadata": {},
   "outputs": [
    {
     "name": "stdout",
     "output_type": "stream",
     "text": [
      "['a', 'b', 'c', 'd']\n"
     ]
    }
   ],
   "source": [
    "a='a:b:c:d'\n",
    "print(a.split(':'))\n",
    "\n",
    "\n",
    "\n",
    "\n"
   ]
  },
  {
   "cell_type": "code",
   "execution_count": 50,
   "metadata": {},
   "outputs": [
    {
     "name": "stdout",
     "output_type": "stream",
     "text": [
      "이름 : 홍길동\n",
      "주소 : 서울\n",
      "나이 : 20\n",
      "성별 : 남\n"
     ]
    }
   ],
   "source": [
    "a = '홍길동,서울,20,남'\n",
    "b = a.split(',') # , 기준으로 분리\n",
    "print('이름 :',b[0])\n",
    "print('주소 :',b[1])\n",
    "print('나이 :',b[2])\n",
    "print('성별 :',b[3])\n",
    "\n",
    "\n",
    "\n",
    "\n"
   ]
  },
  {
   "cell_type": "markdown",
   "metadata": {},
   "source": [
    "# 고급 문자열 Formatting"
   ]
  },
  {
   "cell_type": "code",
   "execution_count": 2,
   "metadata": {},
   "outputs": [
    {
     "data": {
      "text/plain": [
       "'I have 3 apples.'"
      ]
     },
     "execution_count": 2,
     "metadata": {},
     "output_type": "execute_result"
    }
   ],
   "source": [
    "# 숫자 바로 대입하기\n",
    "# \"I have 2 apples\"\n",
    "\"I have {0} apples.\".format(3)\n",
    "\n",
    "\n",
    "\n",
    "\n"
   ]
  },
  {
   "cell_type": "code",
   "execution_count": 4,
   "metadata": {},
   "outputs": [
    {
     "data": {
      "text/plain": [
       "'I have three apples'"
      ]
     },
     "execution_count": 4,
     "metadata": {},
     "output_type": "execute_result"
    }
   ],
   "source": [
    "#문자열 바로 대입하기\n",
    "\"I have {0} apples\".format('three')\n",
    "\n",
    "\n",
    "\n",
    "\n"
   ]
  },
  {
   "cell_type": "code",
   "execution_count": 6,
   "metadata": {},
   "outputs": [
    {
     "data": {
      "text/plain": [
       "'I have 10 apples, I will go abroad for three days'"
      ]
     },
     "execution_count": 6,
     "metadata": {},
     "output_type": "execute_result"
    }
   ],
   "source": [
    "#2개 이상의 값 넣기\n",
    "number = 10\n",
    "day = 'three'\n",
    "'I have {0} apples, I will go abroad for {1} days'.format(number, day)\n",
    "\n",
    "\n",
    "\n",
    "\n"
   ]
  },
  {
   "cell_type": "code",
   "execution_count": 8,
   "metadata": {},
   "outputs": [
    {
     "data": {
      "text/plain": [
       "'hi        '"
      ]
     },
     "execution_count": 8,
     "metadata": {},
     "output_type": "execute_result"
    }
   ],
   "source": [
    "# 왼쪽 정렬\n",
    "'{0:<10}'.format('hi') #총 자릿수 10자리 중에 왼쪽 정렬\n",
    "\n",
    "\n",
    "\n",
    "\n"
   ]
  },
  {
   "cell_type": "code",
   "execution_count": 10,
   "metadata": {},
   "outputs": [
    {
     "data": {
      "text/plain": [
       "'        hi'"
      ]
     },
     "execution_count": 10,
     "metadata": {},
     "output_type": "execute_result"
    }
   ],
   "source": [
    "# 오른쪽 정렬\n",
    "'{0:>10}'.format('hi') #총 자릿수 10자리 중에 오른쪽 정렬\n",
    "\n",
    "\n",
    "\n",
    "\n"
   ]
  },
  {
   "cell_type": "code",
   "execution_count": 11,
   "metadata": {},
   "outputs": [
    {
     "data": {
      "text/plain": [
       "'    hi    '"
      ]
     },
     "execution_count": 11,
     "metadata": {},
     "output_type": "execute_result"
    }
   ],
   "source": [
    "# 가운데 정렬\n",
    "'{0:^10}'.format('hi') #총 자릿수 10자리 중에 가운데 정렬\n",
    "\n",
    "\n",
    "\n",
    "\n"
   ]
  },
  {
   "cell_type": "code",
   "execution_count": 13,
   "metadata": {},
   "outputs": [
    {
     "data": {
      "text/plain": [
       "'****hi****'"
      ]
     },
     "execution_count": 13,
     "metadata": {},
     "output_type": "execute_result"
    }
   ],
   "source": [
    "# 공백 채우기\n",
    "'{0:*^10}'.format('hi')\n",
    "\n",
    "\n",
    "\n",
    "\n"
   ]
  }
 ],
 "metadata": {
  "kernelspec": {
   "display_name": "Python 3",
   "language": "python",
   "name": "python3"
  },
  "language_info": {
   "codemirror_mode": {
    "name": "ipython",
    "version": 3
   },
   "file_extension": ".py",
   "mimetype": "text/x-python",
   "name": "python",
   "nbconvert_exporter": "python",
   "pygments_lexer": "ipython3",
   "version": "3.7.1"
  }
 },
 "nbformat": 4,
 "nbformat_minor": 2
}
