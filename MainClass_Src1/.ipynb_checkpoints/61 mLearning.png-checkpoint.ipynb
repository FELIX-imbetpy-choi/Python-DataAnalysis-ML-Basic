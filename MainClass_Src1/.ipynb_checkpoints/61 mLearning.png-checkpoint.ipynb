{
 "cells": [
  {
   "cell_type": "markdown",
   "metadata": {},
   "source": [
    "<img src = './data/mLearning.png'>"
   ]
  },
  {
   "cell_type": "code",
   "execution_count": 1,
   "metadata": {},
   "outputs": [],
   "source": [
    "# <img src = './data/mLearning.png'>\n",
    "\n",
    "\n",
    "\n"
   ]
  },
  {
   "cell_type": "code",
   "execution_count": 2,
   "metadata": {},
   "outputs": [],
   "source": [
    "import pandas as pd\n",
    "\n",
    "# 위의 모든 머신러닝 툴을 불러오자\n",
    "#-----------\n",
    "from sklearn.neighbors import KNeighborsClassifier #Nearist Neighbors\n",
    "from sklearn.svm import SVC # Linear SVM, RBF SVM\n",
    "from sklearn.gaussian_process import GaussianProcessClassifier # Gaussian Process\n",
    "from sklearn.tree import DecisionTreeClassifier # Decision Tree\n",
    "from sklearn.ensemble import RandomForestClassifier, AdaBoostClassifier # RRandomForest , AdaBoost\n",
    "from sklearn.neural_network import  MLPClassifier #Neural Net\n",
    "from sklearn.naive_bayes import  GaussianNB # Naive Bayes\n",
    "from sklearn.discriminant_analysis import  QuadraticDiscriminantAnalysis #QDA\n",
    "#-----------\n",
    "from sklearn.model_selection import train_test_split\n",
    "from sklearn import svm, metrics\n",
    "\n",
    "\n",
    "\n",
    "\n",
    "\n",
    "\n",
    "\n"
   ]
  },
  {
   "cell_type": "code",
   "execution_count": 3,
   "metadata": {},
   "outputs": [],
   "source": [
    "# 붓꽃의 csv 파일 읽기\n",
    "csv = pd.read_csv('./data/iris.csv')\n",
    "# 필요한 열 추출하기\n",
    "csv_data=csv[['SepalLength','SepalWidth','PetalLength','PetalWidth']]\n",
    "csv_label = csv['Name']\n",
    "\n",
    "\n",
    "\n"
   ]
  },
  {
   "cell_type": "code",
   "execution_count": 4,
   "metadata": {},
   "outputs": [],
   "source": [
    "# 학습데이터와 테스트 전용 데이터 나누기\n",
    "train_data, test_data, train_label, test_label = train_test_split(csv_data, csv_label)\n",
    "\n",
    "\n",
    "\n"
   ]
  },
  {
   "cell_type": "markdown",
   "metadata": {},
   "source": [
    "### Nearest Neighbors"
   ]
  },
  {
   "cell_type": "code",
   "execution_count": 5,
   "metadata": {},
   "outputs": [
    {
     "name": "stdout",
     "output_type": "stream",
     "text": [
      "KNeighborsClassifier 정답률 =  0.9736842105263158\n"
     ]
    }
   ],
   "source": [
    "# Nearest Neighbors\n",
    "nn_clf = KNeighborsClassifier(3) #knn 근처값 설정\n",
    "nn_clf.fit(train_data,train_label)\n",
    "nn_pre = nn_clf.predict(test_data)\n",
    "nn_ac_score = metrics.accuracy_score(test_label,nn_pre)\n",
    "print('KNeighborsClassifier 정답률 = ',nn_ac_score)\n",
    "\n",
    "\n",
    "\n"
   ]
  },
  {
   "cell_type": "markdown",
   "metadata": {},
   "source": [
    "### Linear SVM"
   ]
  },
  {
   "cell_type": "code",
   "execution_count": 6,
   "metadata": {},
   "outputs": [
    {
     "name": "stdout",
     "output_type": "stream",
     "text": [
      "Linear SVM 정답률 =  0.9736842105263158\n"
     ]
    }
   ],
   "source": [
    "# Linear SVM\n",
    "lsvm_clf = SVC(kernel='linear') #knn 근처값 설정\n",
    "lsvm_clf.fit(train_data,train_label)\n",
    "lsvm_pre = lsvm_clf.predict(test_data)\n",
    "lsvm_ac_score = metrics.accuracy_score(test_label,lsvm_pre)\n",
    "print('Linear SVM 정답률 = ',lsvm_ac_score)\n",
    "\n",
    "\n",
    "\n"
   ]
  },
  {
   "cell_type": "markdown",
   "metadata": {},
   "source": [
    "### RBF SVM"
   ]
  },
  {
   "cell_type": "code",
   "execution_count": 7,
   "metadata": {
    "scrolled": true
   },
   "outputs": [
    {
     "name": "stdout",
     "output_type": "stream",
     "text": [
      "RBF SVM 정답률 =  0.9736842105263158\n"
     ]
    },
    {
     "name": "stderr",
     "output_type": "stream",
     "text": [
      "C:\\Users\\GSCHOI\\Anaconda3\\lib\\site-packages\\sklearn\\svm\\base.py:196: FutureWarning: The default value of gamma will change from 'auto' to 'scale' in version 0.22 to account better for unscaled features. Set gamma explicitly to 'auto' or 'scale' to avoid this warning.\n",
      "  \"avoid this warning.\", FutureWarning)\n"
     ]
    }
   ],
   "source": [
    "# RBF SVM\n",
    "RBF_clf = SVC() #knn 근처값 설정\n",
    "RBF_clf.fit(train_data,train_label)\n",
    "RBF_pre = RBF_clf.predict(test_data)\n",
    "RBF_ac_score = metrics.accuracy_score(test_label,RBF_pre)\n",
    "print('RBF SVM 정답률 = ',RBF_ac_score)\n",
    "\n",
    "\n",
    "\n"
   ]
  },
  {
   "cell_type": "markdown",
   "metadata": {},
   "source": [
    "### Gaussian Process"
   ]
  },
  {
   "cell_type": "code",
   "execution_count": 8,
   "metadata": {
    "scrolled": true
   },
   "outputs": [
    {
     "name": "stdout",
     "output_type": "stream",
     "text": [
      "Gaussian Process 정답률 =  0.9736842105263158\n"
     ]
    }
   ],
   "source": [
    "# Gaussian Process\n",
    "gp_clf = GaussianProcessClassifier()\n",
    "gp_clf.fit(train_data,train_label)\n",
    "gp_pre = gp_clf.predict(test_data)\n",
    "gp_ac_score = metrics.accuracy_score(test_label,gp_pre)\n",
    "print('Gaussian Process 정답률 = ',gp_ac_score)\n",
    "\n",
    "\n",
    "\n"
   ]
  },
  {
   "cell_type": "markdown",
   "metadata": {},
   "source": [
    "### Decision Tree"
   ]
  },
  {
   "cell_type": "code",
   "execution_count": 9,
   "metadata": {},
   "outputs": [
    {
     "name": "stdout",
     "output_type": "stream",
     "text": [
      "Decision Tree정답률 =  0.9736842105263158\n"
     ]
    }
   ],
   "source": [
    "# Decision Tree\n",
    "dt_clf = DecisionTreeClassifier(max_depth=10)\n",
    "dt_clf.fit(train_data,train_label)\n",
    "dt_pre = dt_clf.predict(test_data)\n",
    "dt_ac_score = metrics.accuracy_score(test_label,dt_pre)\n",
    "print('Decision Tree정답률 = ',dt_ac_score)\n",
    "\n",
    "\n",
    "\n"
   ]
  },
  {
   "cell_type": "markdown",
   "metadata": {},
   "source": [
    "### RRandomForest"
   ]
  },
  {
   "cell_type": "code",
   "execution_count": 10,
   "metadata": {},
   "outputs": [
    {
     "name": "stdout",
     "output_type": "stream",
     "text": [
      "RRandomForest 정답률 =  0.9736842105263158\n"
     ]
    },
    {
     "name": "stderr",
     "output_type": "stream",
     "text": [
      "C:\\Users\\GSCHOI\\Anaconda3\\lib\\site-packages\\sklearn\\ensemble\\forest.py:246: FutureWarning: The default value of n_estimators will change from 10 in version 0.20 to 100 in 0.22.\n",
      "  \"10 in version 0.20 to 100 in 0.22.\", FutureWarning)\n"
     ]
    }
   ],
   "source": [
    "# RRandomForest\n",
    "rf_clf = RandomForestClassifier()\n",
    "rf_clf.fit(train_data,train_label)\n",
    "rf_pre = rf_clf.predict(test_data)\n",
    "rf_ac_score = metrics.accuracy_score(test_label,rf_pre)\n",
    "print('RRandomForest 정답률 = ',rf_ac_score)\n",
    "\n",
    "\n",
    "\n"
   ]
  },
  {
   "cell_type": "markdown",
   "metadata": {},
   "source": [
    "### Neural Net"
   ]
  },
  {
   "cell_type": "code",
   "execution_count": 11,
   "metadata": {},
   "outputs": [
    {
     "name": "stdout",
     "output_type": "stream",
     "text": [
      "Neural Net 정답률 =  0.9736842105263158\n"
     ]
    },
    {
     "name": "stderr",
     "output_type": "stream",
     "text": [
      "C:\\Users\\GSCHOI\\Anaconda3\\lib\\site-packages\\sklearn\\neural_network\\multilayer_perceptron.py:562: ConvergenceWarning: Stochastic Optimizer: Maximum iterations (200) reached and the optimization hasn't converged yet.\n",
      "  % self.max_iter, ConvergenceWarning)\n"
     ]
    }
   ],
   "source": [
    "#Neural Net\n",
    "net_clf = MLPClassifier()\n",
    "net_clf.fit(train_data,train_label)\n",
    "net_pre = net_clf.predict(test_data)\n",
    "net_ac_score = metrics.accuracy_score(test_label,net_pre)\n",
    "print('Neural Net 정답률 = ',net_ac_score)\n",
    "\n",
    "\n",
    "\n"
   ]
  },
  {
   "cell_type": "markdown",
   "metadata": {},
   "source": [
    "### AdaBoost"
   ]
  },
  {
   "cell_type": "code",
   "execution_count": 12,
   "metadata": {},
   "outputs": [
    {
     "name": "stdout",
     "output_type": "stream",
     "text": [
      "AdaBoost 정답률 =  0.9736842105263158\n"
     ]
    }
   ],
   "source": [
    "#AdaBoost\n",
    "ab_clf = AdaBoostClassifier()\n",
    "ab_clf.fit(train_data,train_label)\n",
    "ab_pre = ab_clf.predict(test_data)\n",
    "ab_ac_score = metrics.accuracy_score(test_label,ab_pre)\n",
    "print('AdaBoost 정답률 = ',ab_ac_score)\n",
    "\n",
    "\n",
    "\n"
   ]
  },
  {
   "cell_type": "markdown",
   "metadata": {},
   "source": [
    "### Naive Bayes"
   ]
  },
  {
   "cell_type": "code",
   "execution_count": 13,
   "metadata": {},
   "outputs": [
    {
     "name": "stdout",
     "output_type": "stream",
     "text": [
      "Naive Bayes 정답률 =  0.9736842105263158\n"
     ]
    }
   ],
   "source": [
    "# Naive Bayes\n",
    "nb_clf = GaussianNB()\n",
    "nb_clf.fit(train_data,train_label)\n",
    "nb_pre = nb_clf.predict(test_data)\n",
    "nb_ac_score = metrics.accuracy_score(test_label,nb_pre)\n",
    "print('Naive Bayes 정답률 = ',nb_ac_score)\n",
    "\n",
    "\n",
    "\n"
   ]
  },
  {
   "cell_type": "markdown",
   "metadata": {},
   "source": [
    "### QDA"
   ]
  },
  {
   "cell_type": "code",
   "execution_count": 14,
   "metadata": {},
   "outputs": [
    {
     "name": "stdout",
     "output_type": "stream",
     "text": [
      " QDA 정답률 =  0.9736842105263158\n"
     ]
    }
   ],
   "source": [
    "# QDA\n",
    "qda_clf = QuadraticDiscriminantAnalysis()\n",
    "qda_clf.fit(train_data,train_label)\n",
    "qda_pre = qda_clf.predict(test_data)\n",
    "qda_ac_score = metrics.accuracy_score(test_label,qda_pre)\n",
    "print(' QDA 정답률 = ',qda_ac_score)\n",
    "\n",
    "\n",
    "\n"
   ]
  },
  {
   "cell_type": "code",
   "execution_count": 15,
   "metadata": {},
   "outputs": [
    {
     "name": "stdout",
     "output_type": "stream",
     "text": [
      "KNeighborsClassifier 정답률 =  0.9736842105263158\n",
      "Linear SVM 정답률 =  0.9736842105263158\n",
      "RBF SVM 정답률 =  0.9736842105263158\n",
      "Gaussian Process 정답률 =  0.9736842105263158\n",
      "Decision Tree정답률 =  0.9736842105263158\n",
      "RRandomForest 정답률 =  0.9736842105263158\n",
      "Neural Net 정답률 =  0.9736842105263158\n",
      "AdaBoost 정답률 =  0.9736842105263158\n",
      "Naive Bayes 정답률 =  0.9736842105263158\n",
      " QDA 정답률 =  0.9736842105263158\n"
     ]
    }
   ],
   "source": [
    "print('KNeighborsClassifier 정답률 = ',nn_ac_score)\n",
    "print('Linear SVM 정답률 = ',lsvm_ac_score)\n",
    "print('RBF SVM 정답률 = ',RBF_ac_score)\n",
    "print('Gaussian Process 정답률 = ',gp_ac_score)\n",
    "print('Decision Tree정답률 = ',dt_ac_score)\n",
    "print('RRandomForest 정답률 = ',rf_ac_score)\n",
    "print('Neural Net 정답률 = ',net_ac_score)\n",
    "print('AdaBoost 정답률 = ',ab_ac_score)\n",
    "print('Naive Bayes 정답률 = ',nb_ac_score)\n",
    "print(' QDA 정답률 = ',qda_ac_score)\n",
    "\n",
    "\n",
    "\n",
    "\n",
    "\n",
    "\n",
    "\n"
   ]
  },
  {
   "cell_type": "markdown",
   "metadata": {},
   "source": [
    "---------------------------------\n",
    "# BMI 활용해서 응용해보기"
   ]
  },
  {
   "cell_type": "code",
   "execution_count": 16,
   "metadata": {},
   "outputs": [],
   "source": [
    "# 붓꽃의 csv 파일 읽기\n",
    "csv = pd.read_csv('./data/bmi.csv')\n",
    "# 필요한 열 추출하기\n",
    "csv_data=csv[['height','weight']]\n",
    "csv_label = csv['label']\n",
    "\n",
    "\n",
    "\n"
   ]
  },
  {
   "cell_type": "code",
   "execution_count": 17,
   "metadata": {},
   "outputs": [],
   "source": [
    "# 학습데이터와 테스트 전용 데이터 나누기\n",
    "train_data, test_data, train_label, test_label = train_test_split(csv_data, csv_label)\n",
    "\n",
    "\n",
    "\n"
   ]
  },
  {
   "cell_type": "code",
   "execution_count": 18,
   "metadata": {},
   "outputs": [
    {
     "name": "stdout",
     "output_type": "stream",
     "text": [
      "KNeighborsClassifier 정답률 =  0.9968\n",
      "Linear SVM 정답률 =  0.9836\n"
     ]
    },
    {
     "name": "stderr",
     "output_type": "stream",
     "text": [
      "C:\\Users\\GSCHOI\\Anaconda3\\lib\\site-packages\\sklearn\\svm\\base.py:196: FutureWarning: The default value of gamma will change from 'auto' to 'scale' in version 0.22 to account better for unscaled features. Set gamma explicitly to 'auto' or 'scale' to avoid this warning.\n",
      "  \"avoid this warning.\", FutureWarning)\n"
     ]
    },
    {
     "name": "stdout",
     "output_type": "stream",
     "text": [
      "RBF SVM 정답률 =  0.9988\n",
      "Decision Tree정답률 =  0.9968\n"
     ]
    }
   ],
   "source": [
    "# Nearest Neighbors\n",
    "nn_clf = KNeighborsClassifier(3) #knn 근처값 설정\n",
    "nn_clf.fit(train_data,train_label)\n",
    "nn_pre = nn_clf.predict(test_data)\n",
    "nn_ac_score = metrics.accuracy_score(test_label,nn_pre)\n",
    "print('KNeighborsClassifier 정답률 = ',nn_ac_score)\n",
    "# Linear SVM\n",
    "lsvm_clf = SVC(kernel='linear') #knn 근처값 설정\n",
    "lsvm_clf.fit(train_data,train_label)\n",
    "lsvm_pre = lsvm_clf.predict(test_data)\n",
    "lsvm_ac_score = metrics.accuracy_score(test_label,lsvm_pre)\n",
    "print('Linear SVM 정답률 = ',lsvm_ac_score)\n",
    "# RBF SVM\n",
    "RBF_clf = SVC() #knn 근처값 설정\n",
    "RBF_clf.fit(train_data,train_label)\n",
    "RBF_pre = RBF_clf.predict(test_data)\n",
    "RBF_ac_score = metrics.accuracy_score(test_label,RBF_pre)\n",
    "print('RBF SVM 정답률 = ',RBF_ac_score)\n",
    "# # Gaussian Process\n",
    "# gp_clf = GaussianProcessClassifier()\n",
    "# gp_clf.fit(train_data,train_label)\n",
    "# gp_pre = gp_clf.predict(test_data)\n",
    "# gp_ac_score = metrics.accuracy_score(test_label,gp_pre)\n",
    "# print('Gaussian Process 정답률 = ',gp_ac_score)\n",
    "# Decision Tree\n",
    "dt_clf = DecisionTreeClassifier(max_depth=10)\n",
    "dt_clf.fit(train_data,train_label)\n",
    "dt_pre = dt_clf.predict(test_data)\n",
    "dt_ac_score = metrics.accuracy_score(test_label,dt_pre)\n",
    "print('Decision Tree정답률 = ',dt_ac_score)\n",
    "\n",
    "\n",
    "\n",
    "\n",
    "\n",
    "\n",
    "\n",
    "\n",
    "\n",
    "\n",
    "\n",
    "\n",
    "\n",
    "\n",
    "\n",
    "\n",
    "\n",
    "\n",
    "\n"
   ]
  },
  {
   "cell_type": "code",
   "execution_count": 19,
   "metadata": {},
   "outputs": [
    {
     "name": "stdout",
     "output_type": "stream",
     "text": [
      "RRandomForest 정답률 =  0.9992\n"
     ]
    },
    {
     "name": "stderr",
     "output_type": "stream",
     "text": [
      "C:\\Users\\GSCHOI\\Anaconda3\\lib\\site-packages\\sklearn\\ensemble\\forest.py:246: FutureWarning: The default value of n_estimators will change from 10 in version 0.20 to 100 in 0.22.\n",
      "  \"10 in version 0.20 to 100 in 0.22.\", FutureWarning)\n",
      "C:\\Users\\GSCHOI\\Anaconda3\\lib\\site-packages\\sklearn\\neural_network\\multilayer_perceptron.py:562: ConvergenceWarning: Stochastic Optimizer: Maximum iterations (200) reached and the optimization hasn't converged yet.\n",
      "  % self.max_iter, ConvergenceWarning)\n"
     ]
    },
    {
     "name": "stdout",
     "output_type": "stream",
     "text": [
      "Neural Net 정답률 =  0.9704\n",
      "AdaBoost 정답률 =  0.889\n",
      "Naive Bayes 정답률 =  0.834\n",
      " QDA 정답률 =  0.972\n"
     ]
    }
   ],
   "source": [
    "# RRandomForest\n",
    "rf_clf = RandomForestClassifier()\n",
    "rf_clf.fit(train_data,train_label)\n",
    "rf_pre = rf_clf.predict(test_data)\n",
    "rf_ac_score = metrics.accuracy_score(test_label,rf_pre)\n",
    "print('RRandomForest 정답률 = ',rf_ac_score)\n",
    "#Neural Net\n",
    "net_clf = MLPClassifier()\n",
    "net_clf.fit(train_data,train_label)\n",
    "net_pre = net_clf.predict(test_data)\n",
    "net_ac_score = metrics.accuracy_score(test_label,net_pre)\n",
    "print('Neural Net 정답률 = ',net_ac_score)\n",
    "#AdaBoost\n",
    "ab_clf = AdaBoostClassifier()\n",
    "ab_clf.fit(train_data,train_label)\n",
    "ab_pre = ab_clf.predict(test_data)\n",
    "ab_ac_score = metrics.accuracy_score(test_label,ab_pre)\n",
    "print('AdaBoost 정답률 = ',ab_ac_score)\n",
    "# Naive Bayes\n",
    "nb_clf = GaussianNB()\n",
    "nb_clf.fit(train_data,train_label)\n",
    "nb_pre = nb_clf.predict(test_data)\n",
    "nb_ac_score = metrics.accuracy_score(test_label,nb_pre)\n",
    "print('Naive Bayes 정답률 = ',nb_ac_score)\n",
    "# QDA\n",
    "qda_clf = QuadraticDiscriminantAnalysis()\n",
    "qda_clf.fit(train_data,train_label)\n",
    "qda_pre = qda_clf.predict(test_data)\n",
    "qda_ac_score = metrics.accuracy_score(test_label,qda_pre)\n",
    "print('QDA 정답률 = ',qda_ac_score)\n",
    "\n",
    "\n",
    "\n",
    "\n",
    "\n",
    "\n",
    "\n",
    "\n",
    "\n",
    "\n",
    "\n",
    "\n",
    "\n",
    "\n",
    "\n",
    "\n",
    "\n",
    "\n",
    "\n"
   ]
  },
  {
   "cell_type": "code",
   "execution_count": null,
   "metadata": {},
   "outputs": [],
   "source": []
  }
 ],
 "metadata": {
  "kernelspec": {
   "display_name": "Python 3",
   "language": "python",
   "name": "python3"
  },
  "language_info": {
   "codemirror_mode": {
    "name": "ipython",
    "version": 3
   },
   "file_extension": ".py",
   "mimetype": "text/x-python",
   "name": "python",
   "nbconvert_exporter": "python",
   "pygments_lexer": "ipython3",
   "version": "3.7.1"
  }
 },
 "nbformat": 4,
 "nbformat_minor": 2
}
