{
 "cells": [
  {
   "cell_type": "code",
   "execution_count": 25,
   "metadata": {},
   "outputs": [],
   "source": [
    "import pandas as pd\n",
    "import numpy as np\n"
   ]
  },
  {
   "cell_type": "code",
   "execution_count": 55,
   "metadata": {},
   "outputs": [
    {
     "name": "stdout",
     "output_type": "stream",
     "text": [
      "190001\n",
      "300\n",
      "홍길동\n",
      "300\n",
      "100\n",
      "300\n",
      "100\n",
      "300\n",
      "100\n",
      "300\n",
      "0\n",
      "300\n",
      "190002\n",
      "220\n",
      "임꺽정\n",
      "220\n",
      "100\n",
      "220\n",
      "70\n",
      "220\n",
      "50\n",
      "220\n",
      "0\n",
      "220\n",
      "190003\n",
      "190\n",
      "대장금\n",
      "190\n",
      "50\n",
      "190\n",
      "80\n",
      "190\n",
      "60\n",
      "190\n",
      "0\n",
      "190\n",
      "190004\n",
      "200\n",
      "신선한\n",
      "200\n",
      "90\n",
      "200\n",
      "80\n",
      "200\n",
      "30\n",
      "200\n",
      "0\n",
      "200\n",
      "190005\n",
      "160\n",
      "기발한\n",
      "160\n",
      "70\n",
      "160\n",
      "40\n",
      "160\n",
      "50\n",
      "160\n",
      "0\n",
      "160\n"
     ]
    }
   ],
   "source": [
    "# \n",
    "student_top5 = {\n",
    "    'stcode' : ['190001','190002','190003','190004','190005'],\n",
    "    'stname' : ['홍길동','임꺽정','대장금','신선한','기발한'],\n",
    "    'kor' : ['100','100','50','90','70'],\n",
    "    'eng' : ['100','70','80','80','40'],\n",
    "    'math' : ['100','50','60','30','50'],\n",
    "    'total' : ['0','0','0','0','0']\n",
    "}\n",
    "kk = pd.DataFrame(student_top5)\n",
    "kk.columns = [0,1,2,3,4,5]\n",
    "kk[2] = kk[2].astype('int')\n",
    "kk[3] = kk[3].astype('int')\n",
    "kk[4] = kk[4].astype('int')\n",
    "kk\n",
    "\n",
    "\n",
    "for i in range(0,5):\n",
    "    cut = 0\n",
    "    for k in range(0,6):\n",
    "        print(kk.loc[i,k])\n",
    "        if cut==0:\n",
    "            print(kk[[2,3,4]].sum(axis = 1)[i])\n",
    "        cut += 1"
   ]
  },
  {
   "cell_type": "code",
   "execution_count": 52,
   "metadata": {},
   "outputs": [
    {
     "data": {
      "text/plain": [
       "0    300\n",
       "1    220\n",
       "2    190\n",
       "3    200\n",
       "4    160\n",
       "dtype: int64"
      ]
     },
     "execution_count": 52,
     "metadata": {},
     "output_type": "execute_result"
    }
   ],
   "source": [
    "\n",
    "\n",
    "kk[[2,3,4]].sum(axis = 1)\n"
   ]
  },
  {
   "cell_type": "code",
   "execution_count": 21,
   "metadata": {},
   "outputs": [
    {
     "data": {
      "text/plain": [
       "'190001'"
      ]
     },
     "execution_count": 21,
     "metadata": {},
     "output_type": "execute_result"
    }
   ],
   "source": [
    "kk.loc[0,1]"
   ]
  }
 ],
 "metadata": {
  "kernelspec": {
   "display_name": "Python 3",
   "language": "python",
   "name": "python3"
  },
  "language_info": {
   "codemirror_mode": {
    "name": "ipython",
    "version": 3
   },
   "file_extension": ".py",
   "mimetype": "text/x-python",
   "name": "python",
   "nbconvert_exporter": "python",
   "pygments_lexer": "ipython3",
   "version": "3.7.2"
  }
 },
 "nbformat": 4,
 "nbformat_minor": 2
}
