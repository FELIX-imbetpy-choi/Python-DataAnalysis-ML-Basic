{
 "cells": [
  {
   "cell_type": "markdown",
   "metadata": {},
   "source": [
    "# madang schema에서 book table 불러오기"
   ]
  },
  {
   "cell_type": "code",
   "execution_count": 1,
   "metadata": {},
   "outputs": [],
   "source": [
    "import pymysql\n",
    "\n",
    "\n",
    "\n"
   ]
  },
  {
   "cell_type": "code",
   "execution_count": 2,
   "metadata": {},
   "outputs": [],
   "source": [
    "# mysql Connection\n",
    "conn = pymysql.connect(host = '127.0.0.1',user = 'root',password = '1111',\n",
    "                      db = 'madang',charset = 'utf8')\n",
    "\n",
    "\n",
    "\n"
   ]
  },
  {
   "cell_type": "code",
   "execution_count": 3,
   "metadata": {},
   "outputs": [],
   "source": [
    "#Connection으로 부터 cursor생성 - 테이터 베이스 빈줄에 커서가 깜빡 거리고 있는 것이다.\n",
    "curs = conn.cursor()\n",
    "\n",
    "\n",
    "\n"
   ]
  },
  {
   "cell_type": "code",
   "execution_count": 4,
   "metadata": {},
   "outputs": [
    {
     "data": {
      "text/plain": [
       "10"
      ]
     },
     "execution_count": 4,
     "metadata": {},
     "output_type": "execute_result"
    }
   ],
   "source": [
    "# SQL 문장\n",
    "sql = 'select * from book'\n",
    "curs.execute(sql) # 실행문 - 결과는 데이터가 몇개 있는지 알려준다.\n",
    "\n",
    "\n",
    "\n"
   ]
  },
  {
   "cell_type": "code",
   "execution_count": 5,
   "metadata": {},
   "outputs": [
    {
     "name": "stdout",
     "output_type": "stream",
     "text": [
      "((1, '축구의역사', '굿스포츠', 7000), (2, '축구아는 여자', '나무수', 13000), (3, '축구의 이해', '대한미디어', 22000), (4, '골프 바이블', '대한미디어', 35000), (5, '피겨 교본', '굿스포츠', 6000), (6, '역도 단계별 기술', '굿스포츠', 6000), (7, '야구의 추억', '이상미디어', 20000), (8, '야구를 부탁해', '이상미디어', 13000), (9, '올림픽 이야기', '삼성당', 7500), (10, '올림픽 챔피언', '피어슨', 13000))\n"
     ]
    }
   ],
   "source": [
    "# Data Fetch\n",
    "rows = curs.fetchall()\n",
    "print(rows)\n",
    "\n",
    "\n",
    "\n"
   ]
  },
  {
   "cell_type": "code",
   "execution_count": 6,
   "metadata": {},
   "outputs": [],
   "source": [
    "# 커넥션 끊어주기 - 끊지 않으면 5명이상 들어가지 못하기 때문에 항상 끊어줘야함.\n",
    "conn.close() \n",
    "\n",
    "\n",
    "\n"
   ]
  },
  {
   "cell_type": "code",
   "execution_count": 7,
   "metadata": {},
   "outputs": [
    {
     "data": {
      "text/plain": [
       "(1, '축구의역사', '굿스포츠', 7000)"
      ]
     },
     "execution_count": 7,
     "metadata": {},
     "output_type": "execute_result"
    }
   ],
   "source": [
    "rows[0] # 데이터를 튜플타입으로 데리고옴\n",
    "\n",
    "\n",
    "\n"
   ]
  },
  {
   "cell_type": "code",
   "execution_count": 8,
   "metadata": {},
   "outputs": [],
   "source": [
    "rowList = list(rows) # 리스트 타입으로 변경 시켜줌\n",
    "\n",
    "\n",
    "\n"
   ]
  },
  {
   "cell_type": "code",
   "execution_count": 9,
   "metadata": {},
   "outputs": [
    {
     "name": "stdout",
     "output_type": "stream",
     "text": [
      "[(1, '축구의역사', '굿스포츠', 7000), (2, '축구아는 여자', '나무수', 13000), (3, '축구의 이해', '대한미디어', 22000), (4, '골프 바이블', '대한미디어', 35000), (5, '피겨 교본', '굿스포츠', 6000), (6, '역도 단계별 기술', '굿스포츠', 6000), (7, '야구의 추억', '이상미디어', 20000), (8, '야구를 부탁해', '이상미디어', 13000), (9, '올림픽 이야기', '삼성당', 7500), (10, '올림픽 챔피언', '피어슨', 13000)]\n"
     ]
    }
   ],
   "source": [
    "print(rowList)\n",
    "\n",
    "\n",
    "\n"
   ]
  },
  {
   "cell_type": "code",
   "execution_count": 10,
   "metadata": {},
   "outputs": [
    {
     "name": "stdout",
     "output_type": "stream",
     "text": [
      "축구의역사\n"
     ]
    }
   ],
   "source": [
    "print(rowList[0][1])\n",
    "\n",
    "\n",
    "\n"
   ]
  },
  {
   "cell_type": "code",
   "execution_count": 11,
   "metadata": {},
   "outputs": [
    {
     "name": "stdout",
     "output_type": "stream",
     "text": [
      "축구의역사\n",
      "축구아는 여자\n",
      "축구의 이해\n",
      "골프 바이블\n",
      "피겨 교본\n",
      "역도 단계별 기술\n",
      "야구의 추억\n",
      "야구를 부탁해\n",
      "올림픽 이야기\n",
      "올림픽 챔피언\n"
     ]
    }
   ],
   "source": [
    "for i in rowList:\n",
    "    print(i[1])\n",
    "\n",
    "\n",
    "\n"
   ]
  },
  {
   "cell_type": "code",
   "execution_count": 12,
   "metadata": {},
   "outputs": [
    {
     "name": "stdout",
     "output_type": "stream",
     "text": [
      "[[1, '축구의역사', '굿스포츠', 7000], [2, '축구아는 여자', '나무수', 13000], [3, '축구의 이해', '대한미디어', 22000], [4, '골프 바이블', '대한미디어', 35000], [5, '피겨 교본', '굿스포츠', 6000], [6, '역도 단계별 기술', '굿스포츠', 6000], [7, '야구의 추억', '이상미디어', 20000], [8, '야구를 부탁해', '이상미디어', 13000], [9, '올림픽 이야기', '삼성당', 7500], [10, '올림픽 챔피언', '피어슨', 13000]]\n"
     ]
    }
   ],
   "source": [
    "booklist = []\n",
    "booklist2 = []\n",
    "\n",
    "for i in rowList:\n",
    "    booklist2.append(i)\n",
    "    rowList = list((booklist2[-1]))\n",
    "    booklist.append(rowList)\n",
    "print(booklist)\n",
    "\n",
    "\n",
    "\n"
   ]
  },
  {
   "cell_type": "code",
   "execution_count": 13,
   "metadata": {},
   "outputs": [
    {
     "ename": "TypeError",
     "evalue": "'int' object is not subscriptable",
     "output_type": "error",
     "traceback": [
      "\u001b[1;31m---------------------------------------------------------------------------\u001b[0m",
      "\u001b[1;31mTypeError\u001b[0m                                 Traceback (most recent call last)",
      "\u001b[1;32m<ipython-input-13-8d0cd3cdda55>\u001b[0m in \u001b[0;36m<module>\u001b[1;34m()\u001b[0m\n\u001b[0;32m      1\u001b[0m \u001b[0mbook\u001b[0m \u001b[1;33m=\u001b[0m \u001b[1;33m[\u001b[0m\u001b[1;33m]\u001b[0m\u001b[1;33m\u001b[0m\u001b[0m\n\u001b[0;32m      2\u001b[0m \u001b[1;32mfor\u001b[0m \u001b[0mi\u001b[0m \u001b[1;32min\u001b[0m \u001b[0mrowList\u001b[0m\u001b[1;33m:\u001b[0m\u001b[1;33m\u001b[0m\u001b[0m\n\u001b[1;32m----> 3\u001b[1;33m     \u001b[0mbook\u001b[0m\u001b[1;33m.\u001b[0m\u001b[0mappend\u001b[0m\u001b[1;33m(\u001b[0m\u001b[0mlist\u001b[0m\u001b[1;33m(\u001b[0m\u001b[1;33m(\u001b[0m\u001b[0mi\u001b[0m\u001b[1;33m[\u001b[0m\u001b[1;36m1\u001b[0m\u001b[1;33m]\u001b[0m\u001b[1;33m,\u001b[0m\u001b[0mi\u001b[0m\u001b[1;33m[\u001b[0m\u001b[1;36m2\u001b[0m\u001b[1;33m]\u001b[0m\u001b[1;33m,\u001b[0m\u001b[0mi\u001b[0m\u001b[1;33m[\u001b[0m\u001b[1;36m3\u001b[0m\u001b[1;33m]\u001b[0m\u001b[1;33m)\u001b[0m\u001b[1;33m)\u001b[0m\u001b[1;33m)\u001b[0m\u001b[1;33m\u001b[0m\u001b[0m\n\u001b[0m\u001b[0;32m      4\u001b[0m \u001b[0mprint\u001b[0m\u001b[1;33m(\u001b[0m\u001b[0mbook\u001b[0m\u001b[1;33m)\u001b[0m\u001b[1;33m\u001b[0m\u001b[0m\n",
      "\u001b[1;31mTypeError\u001b[0m: 'int' object is not subscriptable"
     ]
    }
   ],
   "source": [
    "book = []\n",
    "for i in rowList:\n",
    "    book.append(list((i[1],i[2],i[3])))\n",
    "print(book)\n",
    "\n",
    "\n",
    "\n"
   ]
  },
  {
   "cell_type": "code",
   "execution_count": null,
   "metadata": {},
   "outputs": [],
   "source": []
  }
 ],
 "metadata": {
  "kernelspec": {
   "display_name": "Python 3",
   "language": "python",
   "name": "python3"
  },
  "language_info": {
   "codemirror_mode": {
    "name": "ipython",
    "version": 3
   },
   "file_extension": ".py",
   "mimetype": "text/x-python",
   "name": "python",
   "nbconvert_exporter": "python",
   "pygments_lexer": "ipython3",
   "version": "3.7.1"
  }
 },
 "nbformat": 4,
 "nbformat_minor": 2
}
