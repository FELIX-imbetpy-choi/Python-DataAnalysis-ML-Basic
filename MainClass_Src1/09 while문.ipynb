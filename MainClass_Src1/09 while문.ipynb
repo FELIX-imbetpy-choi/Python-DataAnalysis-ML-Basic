{
 "cells": [
  {
   "cell_type": "markdown",
   "metadata": {},
   "source": [
    "#  while문"
   ]
  },
  {
   "cell_type": "raw",
   "metadata": {},
   "source": [
    "while 조건:\n",
    "    문장1\n",
    "    문장2\n",
    "다른문장\n",
    "\n",
    "\n",
    "\n"
   ]
  },
  {
   "cell_type": "code",
   "execution_count": 2,
   "metadata": {},
   "outputs": [
    {
     "name": "stdout",
     "output_type": "stream",
     "text": [
      "나무를 1번 찍었습니다.\n",
      "나무를 2번 찍었습니다.\n",
      "나무를 3번 찍었습니다.\n",
      "나무를 4번 찍었습니다.\n",
      "나무를 5번 찍었습니다.\n",
      "나무를 6번 찍었습니다.\n",
      "나무를 7번 찍었습니다.\n",
      "나무를 8번 찍었습니다.\n",
      "나무를 9번 찍었습니다.\n",
      "나무를 10번 찍었습니다.\n",
      "나무 넘어갑니다.\n"
     ]
    }
   ],
   "source": [
    "#아무리 튼튼한 나무도 10번찍으면 넘어간다.\n",
    "treehit = 0\n",
    "while treehit < 10:\n",
    "    treehit = treehit + 1 #treehit += 1 으로 써도 된다.\n",
    "    print('나무를 %d번 찍었습니다.'%treehit)\n",
    "    if(treehit == 10):\n",
    "        print(\"나무 넘어갑니다.\")\n",
    "        \n",
    "\n",
    "\n"
   ]
  },
  {
   "cell_type": "code",
   "execution_count": 2,
   "metadata": {},
   "outputs": [],
   "source": [
    "prompt = \"\"\"\n",
    "1.덧셈\n",
    "2.곱셈\n",
    "3.나눗셈\n",
    "4.뺄셈\n",
    "5.종료\n",
    "\n",
    "숫자를 입력하세요 :  \n",
    "\"\"\"\n",
    "\n",
    "\n",
    "\n"
   ]
  },
  {
   "cell_type": "code",
   "execution_count": 6,
   "metadata": {},
   "outputs": [
    {
     "name": "stdout",
     "output_type": "stream",
     "text": [
      "\n",
      "1.덧셈\n",
      "2.곱셈\n",
      "3.나눗셈\n",
      "4.뺄셈\n",
      "5.종료\n",
      "\n",
      "숫자를 입력하세요 :  \n",
      "\n"
     ]
    }
   ],
   "source": [
    "print(prompt)\n",
    "\n",
    "\n",
    "\n"
   ]
  },
  {
   "cell_type": "code",
   "execution_count": 3,
   "metadata": {},
   "outputs": [
    {
     "name": "stdout",
     "output_type": "stream",
     "text": [
      "\n",
      "1.덧셈\n",
      "2.곱셈\n",
      "3.나눗셈\n",
      "4.뺄셈\n",
      "5.종료\n",
      "\n",
      "숫자를 입력하세요 :  \n",
      "\n",
      "1\n",
      "\n",
      "1.덧셈\n",
      "2.곱셈\n",
      "3.나눗셈\n",
      "4.뺄셈\n",
      "5.종료\n",
      "\n",
      "숫자를 입력하세요 :  \n",
      "\n",
      "2\n",
      "\n",
      "1.덧셈\n",
      "2.곱셈\n",
      "3.나눗셈\n",
      "4.뺄셈\n",
      "5.종료\n",
      "\n",
      "숫자를 입력하세요 :  \n",
      "\n",
      "5\n"
     ]
    }
   ],
   "source": [
    "number = 0\n",
    "while number != 5:\n",
    "    print(prompt)\n",
    "    number = int(input()) #input 은 사용자에게 입력을 받는다.\n",
    "    \n",
    "\n",
    "\n"
   ]
  },
  {
   "cell_type": "code",
   "execution_count": 5,
   "metadata": {},
   "outputs": [
    {
     "name": "stdout",
     "output_type": "stream",
     "text": [
      "0\n",
      "1\n",
      "2\n",
      "3\n",
      "4\n"
     ]
    }
   ],
   "source": [
    "#while문에서 빠져 나가기\n",
    "a = 0\n",
    "while a < 10:\n",
    "    print(a)\n",
    "    a+=1\n",
    "    if a == 5:\n",
    "        break\n",
    "        \n",
    "\n",
    "\n"
   ]
  },
  {
   "cell_type": "code",
   "execution_count": 6,
   "metadata": {},
   "outputs": [
    {
     "name": "stdout",
     "output_type": "stream",
     "text": [
      "1\n",
      "3\n",
      "5\n",
      "7\n",
      "9\n"
     ]
    }
   ],
   "source": [
    "#continue\n",
    "a = 0\n",
    "while a<10:\n",
    "    a = a+1\n",
    "    if a % 2 == 1:\n",
    "        print(a)\n",
    "        \n",
    "\n",
    "\n"
   ]
  },
  {
   "cell_type": "code",
   "execution_count": 15,
   "metadata": {},
   "outputs": [],
   "source": [
    "a = 0\n",
    "while a < 10:\n",
    "    a = a + 1\n",
    "    if a % 2 == 1:\n",
    "        continue     # continue를 만나면 그 자리에서 바로 다시 와일문 첫번째로 돌아가서 실행됨\n",
    "        print(a)\n",
    "        \n",
    "\n",
    "\n"
   ]
  },
  {
   "cell_type": "code",
   "execution_count": 14,
   "metadata": {},
   "outputs": [
    {
     "data": {
      "text/plain": [
       "10"
      ]
     },
     "execution_count": 14,
     "metadata": {},
     "output_type": "execute_result"
    }
   ],
   "source": [
    "a\n",
    "\n",
    "\n",
    "\n"
   ]
  },
  {
   "cell_type": "code",
   "execution_count": null,
   "metadata": {},
   "outputs": [],
   "source": []
  }
 ],
 "metadata": {
  "kernelspec": {
   "display_name": "Python 3",
   "language": "python",
   "name": "python3"
  },
  "language_info": {
   "codemirror_mode": {
    "name": "ipython",
    "version": 3
   },
   "file_extension": ".py",
   "mimetype": "text/x-python",
   "name": "python",
   "nbconvert_exporter": "python",
   "pygments_lexer": "ipython3",
   "version": "3.7.1"
  }
 },
 "nbformat": 4,
 "nbformat_minor": 2
}
