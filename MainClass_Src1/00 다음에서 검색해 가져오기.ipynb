{
 "cells": [
  {
   "cell_type": "code",
   "execution_count": 13,
   "metadata": {},
   "outputs": [],
   "source": [
    "from selenium import webdriver\n",
    "import time\n",
    "\n",
    "\n",
    "\n"
   ]
  },
  {
   "cell_type": "code",
   "execution_count": 3,
   "metadata": {},
   "outputs": [],
   "source": [
    "driver = webdriver.Chrome('./chromedriver.exe')\n",
    "#driver.get('https://www.daum.net') -  값이 안나와\n",
    "# https://logins.daum.net/accounts/login.do\n",
    "driver.get('https://search.daum.net/search?nil_suggest=btn&w=tot&DA=SBC&q=')\n",
    "\n",
    "\n",
    "\n"
   ]
  },
  {
   "cell_type": "code",
   "execution_count": 14,
   "metadata": {},
   "outputs": [],
   "source": [
    "movie = ['국가부도의날','완벽한타인','리틀포레스트']\n",
    "\n",
    "for title in movie:\n",
    "    xpath = '//*[@id=\"q\"]'\n",
    "    driver.find_element_by_xpath(xpath).send_keys(title)\n",
    "    xpath = '//*[@id=\"daumBtnSearch\"]'\n",
    "    driver.find_element_by_xpath(xpath).click()\n",
    "    xpath = '//*[@id=\"q\"]'\n",
    "    driver.find_element_by_xpath(xpath).clear()\n",
    "    time.sleep(5)\n",
    "\n",
    "\n",
    "\n"
   ]
  },
  {
   "cell_type": "code",
   "execution_count": 36,
   "metadata": {},
   "outputs": [
    {
     "name": "stdout",
     "output_type": "stream",
     "text": [
      "[<a class=\"f_more\" href=\"http://movie.daum.net/moviedb/main?movieId=106307\" onclick=\"smartLog(this,'s=TO&amp;a=M1TO&amp;dc=EM1&amp;pg=1&amp;r=1&amp;p=11&amp;rc=1&amp;d=106307&amp;sub=EM13',event);\" target=\"_blank\">더보기</a>]\n"
     ]
    }
   ],
   "source": [
    "# 닉네임 추출\n",
    "from bs4 import BeautifulSoup\n",
    "\n",
    "name=[]\n",
    "\n",
    "html = driver.page_source # 페이지의 elements모두 가져오기\n",
    "soup = BeautifulSoup(html, 'html.parser') # BeautifulSoup사용하기\n",
    "title = soup.select('#movieTitle > a > b')\n",
    "info = soup.select('#movieEColl > div.coll_cont > div > div.info_movie > div.wrap_cont.type_longtit5 > dl:nth-of-type(4) > dd > a')\n",
    "print(info)\n",
    "\n",
    "\n",
    "\n"
   ]
  },
  {
   "cell_type": "code",
   "execution_count": null,
   "metadata": {},
   "outputs": [],
   "source": [
    "#movieEColl > div.coll_cont > div > div.info_movie > div.wrap_cont.type_longtit5 > dl:nth-of-type(4) > dd > a"
   ]
  },
  {
   "cell_type": "code",
   "execution_count": null,
   "metadata": {},
   "outputs": [],
   "source": []
  }
 ],
 "metadata": {
  "kernelspec": {
   "display_name": "Python 3",
   "language": "python",
   "name": "python3"
  },
  "language_info": {
   "codemirror_mode": {
    "name": "ipython",
    "version": 3
   },
   "file_extension": ".py",
   "mimetype": "text/x-python",
   "name": "python",
   "nbconvert_exporter": "python",
   "pygments_lexer": "ipython3",
   "version": "3.7.2"
  }
 },
 "nbformat": 4,
 "nbformat_minor": 2
}
