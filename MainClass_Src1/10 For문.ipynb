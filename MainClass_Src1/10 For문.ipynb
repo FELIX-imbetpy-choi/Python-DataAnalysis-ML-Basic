{
 "cells": [
  {
   "cell_type": "markdown",
   "metadata": {},
   "source": [
    "# for문"
   ]
  },
  {
   "cell_type": "raw",
   "metadata": {},
   "source": [
    "for 변수 in 리스트(튜플,문자열):\n",
    "    문장1\n",
    "    문장2\n",
    "    \n",
    "    \n",
    "    \n",
    "    \n",
    "    "
   ]
  },
  {
   "cell_type": "code",
   "execution_count": 5,
   "metadata": {},
   "outputs": [
    {
     "name": "stdout",
     "output_type": "stream",
     "text": [
      "one\n",
      "two\n",
      "three\n"
     ]
    }
   ],
   "source": [
    "test_list = ['one','two','three']\n",
    "\n",
    "for i in test_list:\n",
    "    print(i)\n",
    "        \n",
    "    \n",
    "    \n",
    "    \n",
    "    "
   ]
  },
  {
   "cell_type": "code",
   "execution_count": 7,
   "metadata": {},
   "outputs": [
    {
     "name": "stdout",
     "output_type": "stream",
     "text": [
      "1\n",
      "2\n",
      "3\n"
     ]
    }
   ],
   "source": [
    "test_list = [1,2,3]\n",
    "for i in test_list:\n",
    "    print(i)\n",
    "        \n",
    "    \n",
    "    \n",
    "    \n",
    "    "
   ]
  },
  {
   "cell_type": "code",
   "execution_count": 11,
   "metadata": {},
   "outputs": [
    {
     "name": "stdout",
     "output_type": "stream",
     "text": [
      "6\n"
     ]
    }
   ],
   "source": [
    "#test_list의 합계를 for문으로 구하기\n",
    "k = 0\n",
    "for i in test_list:\n",
    "    k = k + i\n",
    "    \n",
    "print(k)\n",
    "    \n",
    "    \n",
    "    \n",
    "    \n",
    "    "
   ]
  },
  {
   "cell_type": "code",
   "execution_count": 16,
   "metadata": {},
   "outputs": [
    {
     "name": "stdout",
     "output_type": "stream",
     "text": [
      "[(1, 2), (3, 4), (5, 6)]\n",
      "(1, 2)\n",
      "1\n",
      "1 : 2\n",
      "3 : 4\n",
      "5 : 6\n"
     ]
    }
   ],
   "source": [
    "a = [(1,2),(3,4),(5,6)]\n",
    "print(a)\n",
    "print(a[0])\n",
    "print(a[0][0])\n",
    "\n",
    "for first,last in a:  #한번에 두개 변수 받기 - 한번에 두개의 값이 날아오니까 a[0]!!!!!!! 튜플에서 변수 두개 받아서 쓰기 기억해!\n",
    "    print(first,\":\",last)\n",
    "        \n",
    "    \n",
    "    \n",
    "    \n",
    "    \n",
    "    \n",
    "    "
   ]
  },
  {
   "cell_type": "code",
   "execution_count": 18,
   "metadata": {},
   "outputs": [
    {
     "name": "stdout",
     "output_type": "stream",
     "text": [
      "3\n",
      "7\n",
      "11\n"
     ]
    }
   ],
   "source": [
    "for first,last in a:\n",
    "    print(first+last)\n",
    "        \n",
    "    \n",
    "    \n",
    "    \n",
    "    "
   ]
  },
  {
   "cell_type": "code",
   "execution_count": 19,
   "metadata": {},
   "outputs": [
    {
     "name": "stdout",
     "output_type": "stream",
     "text": [
      "21\n"
     ]
    }
   ],
   "source": [
    "sum = 0\n",
    "for first,last in a:\n",
    "    sum = sum + first + last\n",
    "print (sum)\n",
    "    \n",
    "    \n",
    "    \n",
    "\n",
    "    \n",
    "    \n",
    "    \n",
    "    "
   ]
  },
  {
   "cell_type": "markdown",
   "metadata": {},
   "source": [
    "총 다섯명의 학생이 시험을 봤는데 시험 점수가 60점을 넘으면 합격이고, \n",
    "그렇지 않으면 불합격이다. \n",
    "합격 불합격 결과 보여주기."
   ]
  },
  {
   "cell_type": "code",
   "execution_count": 38,
   "metadata": {},
   "outputs": [
    {
     "name": "stdout",
     "output_type": "stream",
     "text": [
      "1번 학생은 합격입니다.\n",
      "2번 학생은 불합격입니다.\n",
      "3번 학생은 합격입니다.\n",
      "4번 학생은 불합격입니다.\n",
      "5번 학생은 합격입니다.\n"
     ]
    }
   ],
   "source": [
    "scores = [90,25,67,45,80]\n",
    "number = 1 #1 ~ 5번\n",
    "\n",
    "i = 0\n",
    "while scores:\n",
    " \n",
    "    if(scores[i] > 60):\n",
    "        judg = '합격'\n",
    "    else:\n",
    "        judg = '불합격'\n",
    "    i = i + 1\n",
    "    print('%d번 학생은 %s입니다.'%(i,judg))\n",
    "    \n",
    "    if(i == 5):\n",
    "        break\n",
    "    \n",
    "        \n",
    "        \n",
    "        \n",
    "        \n",
    "    \n",
    "    \n",
    "    \n",
    "    "
   ]
  },
  {
   "cell_type": "code",
   "execution_count": 37,
   "metadata": {},
   "outputs": [
    {
     "name": "stdout",
     "output_type": "stream",
     "text": [
      "1번 학생은 합격입니다.\n",
      "2번 학생은 불합격입니다.\n",
      "3번 학생은 합격입니다.\n",
      "4번 학생은 불합격입니다.\n",
      "5번 학생은 합격입니다.\n"
     ]
    }
   ],
   "source": [
    "k = 0\n",
    "for i in scores:\n",
    "    if(i > 60):\n",
    "        judg = '합격'\n",
    "    else:\n",
    "        judg = '불합격'\n",
    "    \n",
    "    k = k + 1\n",
    "    print('%d번 학생은 %s입니다.'%(k,judg))\n",
    "        \n",
    "        \n",
    "        \n",
    "        \n",
    "    \n",
    "    \n",
    "    \n",
    "    "
   ]
  },
  {
   "cell_type": "code",
   "execution_count": 39,
   "metadata": {},
   "outputs": [
    {
     "name": "stdout",
     "output_type": "stream",
     "text": [
      "1번 학생은 점수가 90이므로 합격입니다.\n",
      "2번 학생은 점수가 25이므로 불합격입니다.\n",
      "3번 학생은 점수가 67이므로 합격입니다.\n",
      "4번 학생은 점수가 45이므로 불합격입니다.\n",
      "5번 학생은 점수가 80이므로 합격입니다.\n"
     ]
    }
   ],
   "source": [
    "i = 0\n",
    "while scores:\n",
    " \n",
    "    if(scores[i] > 60):\n",
    "        judg = '합격'\n",
    "    else:\n",
    "        judg = '불합격'\n",
    "    i = i + 1\n",
    "    print('%d번 학생은 점수가 %d이므로 %s입니다.'%(i,scores[i-1],judg))\n",
    "    \n",
    "    if(i == 5):\n",
    "        break\n",
    "    \n",
    "        \n",
    "    \n",
    "    \n",
    "    \n",
    "    \n",
    "    \n",
    "    "
   ]
  },
  {
   "cell_type": "code",
   "execution_count": 41,
   "metadata": {},
   "outputs": [
    {
     "name": "stdout",
     "output_type": "stream",
     "text": [
      "1번 학생은 점수가90이므로 합격입니다.\n",
      "2번 학생은 점수가25이므로 불합격입니다.\n",
      "3번 학생은 점수가67이므로 합격입니다.\n",
      "4번 학생은 점수가45이므로 불합격입니다.\n",
      "5번 학생은 점수가80이므로 합격입니다.\n"
     ]
    }
   ],
   "source": [
    "k = 0\n",
    "for i in scores:\n",
    "    if(i > 60):\n",
    "        judg = '합격'\n",
    "    else:\n",
    "        judg = '불합격'\n",
    "    \n",
    "    k = k + 1\n",
    "    print('%d번 학생은 점수가%d이므로 %s입니다.'%(k,i,judg))\n",
    "        \n",
    "    \n",
    "    \n",
    "    \n",
    "    \n",
    "    \n",
    "    \n",
    "    \n",
    "    \n",
    "    "
   ]
  },
  {
   "cell_type": "markdown",
   "metadata": {},
   "source": [
    "# 변수에 있어서 변수(number)는 단수로 리스트는 복수로(scores)로 사용하고 변수이름은 의미가 있도록 사용한다."
   ]
  },
  {
   "cell_type": "markdown",
   "metadata": {},
   "source": [
    "학생들 점수의 평균을 구하여 평균 점수보다 낮으면 불합격 평균점수보다 같거나 높으면 합격을 위의 출력과 같이 학생번호 점수 같이 보여주며 출력"
   ]
  },
  {
   "cell_type": "code",
   "execution_count": 58,
   "metadata": {},
   "outputs": [
    {
     "name": "stdout",
     "output_type": "stream",
     "text": [
      "5\n",
      "307\n",
      "61.4\n",
      "61.4\n",
      "1번 학생은 점수가 90점 이므로 평균인 61.4점에 준해 합격 입니다.\n",
      "2번 학생은 점수가 25점 이므로 평균인 61.4점에 준해 불합격 입니다.\n",
      "3번 학생은 점수가 67점 이므로 평균인 61.4점에 준해 합격 입니다.\n",
      "4번 학생은 점수가 45점 이므로 평균인 61.4점에 준해 불합격 입니다.\n",
      "5번 학생은 점수가 80점 이므로 평균인 61.4점에 준해 합격 입니다.\n"
     ]
    }
   ],
   "source": [
    "scores = [90,25,67,45,80]\n",
    "number = 1 #1 ~ 5번\n",
    "\n",
    "sum = 0\n",
    "pop = 0\n",
    "\n",
    "# 총점 구하기\n",
    "for sco in scores:\n",
    "    pop = pop + 1\n",
    "    sum = sum + sco\n",
    "    \n",
    "avr = sum / pop\n",
    "avr1 = sum /len(scores) ####len써서 구하는 것  기억해!\n",
    "print(pop)\n",
    "print(sum)\n",
    "print(avr)\n",
    "print(avr1)\n",
    "    \n",
    "#평균 구하기\n",
    "\n",
    "#합격 여부 출력하기\n",
    "\n",
    "k = 0\n",
    "for i in scores:\n",
    "    if(i > avr):\n",
    "        judg = '합격'\n",
    "    else:\n",
    "        judg = '불합격'\n",
    "    \n",
    "    k = k + 1\n",
    "    print('%d번 학생은 점수가 %d점 이므로 평균인 %3.1f점에 준해 %s 입니다.'%(k,i,avr,judg))\n",
    "    \n",
    "    \n",
    "    \n",
    "    \n",
    "    \n",
    "    \n",
    "    \n",
    "    \n",
    "    \n",
    "    \n",
    "    "
   ]
  },
  {
   "cell_type": "code",
   "execution_count": 67,
   "metadata": {},
   "outputs": [
    {
     "name": "stdout",
     "output_type": "stream",
     "text": [
      "1번 학생은 점수가 90점 이므로 합격 입니다.\n",
      "3번 학생은 점수가 67점 이므로 합격 입니다.\n",
      "5번 학생은 점수가 80점 이므로 합격 입니다.\n"
     ]
    }
   ],
   "source": [
    "# 60점을 넘으면 합격 아니면 불합격이다. 합격인 학생만 출력하라.  ***continue는 쓰인 곳에서 바로 다시 반복문 상위로 돌아간다. \n",
    "k = 0\n",
    "for i in scores:\n",
    "    if(i > 60):\n",
    "        k = k + 1\n",
    "        print('%d번 학생은 점수가 %d점 이므로 합격 입니다.'%(k,i))\n",
    "    else:\n",
    "        k = k + 1\n",
    "        continue\n",
    "    \n",
    "    \n",
    " \n",
    "    \n",
    "    \n",
    "    \n",
    "       \n",
    "    \n",
    "    "
   ]
  },
  {
   "cell_type": "code",
   "execution_count": 80,
   "metadata": {},
   "outputs": [
    {
     "name": "stdout",
     "output_type": "stream",
     "text": [
      "합격자 번호\n",
      "--------------------\n",
      "\t1\n",
      "\t3\n",
      "\t5\n"
     ]
    }
   ],
   "source": [
    "# 합격인 학생들의 번호만 리스트로 담아서 출력하기  ==== 리스트 추가 할 땐 append쓰기!!\n",
    "k = 0\n",
    "hap = []\n",
    "for i in scores:\n",
    "    if(i > 60):\n",
    "        k = k + 1\n",
    "        hap.append(k)\n",
    "    else:\n",
    "        k = k + 1\n",
    "        continue\n",
    "\n",
    "print('합격자 번호')\n",
    "print('-'*20)\n",
    "for i in hap: \n",
    "    print('\\t%d'%i)             ##문자형과 숫자형을 같이 쓰기 위해선 %를 활용하라.!\n",
    "        \n",
    "    \n",
    "    \n",
    "  \n",
    "    \n",
    "    \n",
    "    \n",
    "      \n",
    "    "
   ]
  },
  {
   "cell_type": "markdown",
   "metadata": {},
   "source": [
    "# range함수\n",
    "format : range(시작숫자, 끝숫자) --> 시작숫자부터 끝숫자 전까지의 범위를 출력"
   ]
  },
  {
   "cell_type": "code",
   "execution_count": 82,
   "metadata": {},
   "outputs": [
    {
     "data": {
      "text/plain": [
       "range(1, 11)"
      ]
     },
     "execution_count": 82,
     "metadata": {},
     "output_type": "execute_result"
    }
   ],
   "source": [
    "a = range(1,11)\n",
    "a\n",
    "    \n",
    "    \n",
    "    \n",
    "    \n",
    "    "
   ]
  },
  {
   "cell_type": "code",
   "execution_count": 86,
   "metadata": {},
   "outputs": [
    {
     "data": {
      "text/plain": [
       "10"
      ]
     },
     "execution_count": 86,
     "metadata": {},
     "output_type": "execute_result"
    }
   ],
   "source": [
    "a[9]\n",
    "    \n",
    "    \n",
    "    \n",
    "    \n",
    "    "
   ]
  },
  {
   "cell_type": "code",
   "execution_count": 89,
   "metadata": {},
   "outputs": [
    {
     "name": "stdout",
     "output_type": "stream",
     "text": [
      "1\n",
      "------\n",
      "3\n",
      "------\n",
      "5\n",
      "------\n",
      "7\n",
      "------\n",
      "9\n",
      "------\n",
      "25\n"
     ]
    }
   ],
   "source": [
    "# 1부터 10까지의 합\n",
    "sum = 0\n",
    "for i in range(1,11,2): #1개 쓰면 0부터 쓴 숫자까지 2개 쓰면 시작숫자 , 끝숫자 3개 쓰면 시작 끝 증가치\n",
    "    print(i)\n",
    "    sum += i\n",
    "    print('------')\n",
    "    \n",
    "print(sum)    \n",
    "  \n",
    "    \n",
    "    \n",
    "    \n",
    "    \n",
    "    \n",
    "    "
   ]
  },
  {
   "cell_type": "code",
   "execution_count": 2,
   "metadata": {},
   "outputs": [
    {
     "name": "stdout",
     "output_type": "stream",
     "text": [
      "90\n",
      "0번 학생은 합격 입니다.\n",
      "25\n",
      "1번 학생은 불합격 입니다.\n",
      "67\n",
      "2번 학생은 합격 입니다.\n",
      "45\n",
      "3번 학생은 불합격 입니다.\n",
      "80\n",
      "4번 학생은 합격 입니다.\n"
     ]
    }
   ],
   "source": [
    "scores = [90,25,67,45,80]\n",
    "number = 1\n",
    "\n",
    "for score in range(len(scores)):  #리스트 value를 가져오지 않는다. 0 1 2 3 4 를 가지고 오는것\n",
    "    print(scores[score])\n",
    "    if scores[score] < 60:\n",
    "        print('%d번 학생은 불합격 입니다.'%score)\n",
    "    else:\n",
    "        print('%d번 학생은 합격 입니다.'%score)\n",
    "            \n",
    "  \n",
    "\n",
    "\n",
    "    \n",
    "    \n",
    "    "
   ]
  },
  {
   "cell_type": "markdown",
   "metadata": {},
   "source": [
    "# 구구단 출력"
   ]
  },
  {
   "cell_type": "code",
   "execution_count": 104,
   "metadata": {
    "scrolled": true
   },
   "outputs": [
    {
     "name": "stdout",
     "output_type": "stream",
     "text": [
      "┌----------┐\n",
      "│9 X 1 =  9│\n",
      "│9 X 2 = 18│\n",
      "│9 X 3 = 27│\n",
      "│9 X 4 = 36│\n",
      "│9 X 5 = 45│\n",
      "│9 X 6 = 54│\n",
      "│9 X 7 = 63│\n",
      "│9 X 8 = 72│\n",
      "│9 X 9 = 81│\n",
      "└----------┘\n"
     ]
    }
   ],
   "source": [
    "#리스트 value를 가져오지 않는다. 0 1 2 3 4 를 가지고 오는\n",
    "gop = 1\n",
    "print('┌----------┐')\n",
    "for goo in range(1,10):\n",
    "    gop = 9*goo\n",
    "    print('│9 X %d = %2d│'%(goo,gop))\n",
    "print('└----------┘')\n",
    "    \n",
    "    \n",
    "    \n",
    "    \n",
    "    "
   ]
  },
  {
   "cell_type": "code",
   "execution_count": 105,
   "metadata": {},
   "outputs": [
    {
     "name": "stdout",
     "output_type": "stream",
     "text": [
      "12345"
     ]
    }
   ],
   "source": [
    "for i in range(1,6):     ## 옆으로 출력하기!!\n",
    "    print (i, end='')\n",
    "        \n",
    "    \n",
    "    \n",
    "    \n",
    "    "
   ]
  },
  {
   "cell_type": "code",
   "execution_count": 124,
   "metadata": {},
   "outputs": [
    {
     "name": "stdout",
     "output_type": "stream",
     "text": [
      "  2   4   6   8  10  12  14  16  18 \n",
      "  3   6   9  12  15  18  21  24  27 \n",
      "  4   8  12  16  20  24  28  32  36 \n",
      "  5  10  15  20  25  30  35  40  45 \n",
      "  6  12  18  24  30  36  42  48  54 \n",
      "  7  14  21  28  35  42  49  56  63 \n",
      "  8  16  24  32  40  48  56  64  72 \n",
      "  9  18  27  36  45  54  63  72  81 \n"
     ]
    }
   ],
   "source": [
    "#구구단 결과만 출력하기 \n",
    "gop = 1\n",
    "for i in range(2,10):\n",
    "    for k in range(1,10):\n",
    "        gop = i * k \n",
    "        print('%3d '%gop, end='') #end 안에 컴마 쓸 수 있음\n",
    "    print('')    \n",
    "    \n",
    "    \n",
    "    \n",
    "    \n",
    "    \n",
    "    "
   ]
  },
  {
   "cell_type": "code",
   "execution_count": 126,
   "metadata": {},
   "outputs": [
    {
     "name": "stdout",
     "output_type": "stream",
     "text": [
      "[5, 10, 15, 20]\n"
     ]
    }
   ],
   "source": [
    "a = [1,2,3,4]\n",
    "b = []\n",
    "# a의 각 요소값에 5를 곱하여 b List 만들기\n",
    "for i in range(len(a)): # a의 값이 바로 들어갈 수 있도록 a를 써주는게 더 좋다.\n",
    "    b.append(a[i]*5)\n",
    "    \n",
    "print(b)\n",
    "    \n",
    "    \n",
    "    \n",
    "    \n",
    "    "
   ]
  },
  {
   "cell_type": "markdown",
   "metadata": {},
   "source": [
    "위의 소스를 파이썬 답게 사용하세요"
   ]
  },
  {
   "cell_type": "code",
   "execution_count": 127,
   "metadata": {},
   "outputs": [
    {
     "data": {
      "text/plain": [
       "[5, 10, 15, 20]"
      ]
     },
     "execution_count": 127,
     "metadata": {},
     "output_type": "execute_result"
    }
   ],
   "source": [
    "b = [i*5 for i in a]   #for문 if문 모두 들어갈 수 있다. - 결과값 조건식 순으로 !\n",
    "b\n",
    "    \n",
    "    \n",
    "    \n",
    "    \n",
    "    "
   ]
  },
  {
   "cell_type": "code",
   "execution_count": 138,
   "metadata": {},
   "outputs": [
    {
     "data": {
      "text/plain": [
       "[10, 20]"
      ]
     },
     "execution_count": 138,
     "metadata": {},
     "output_type": "execute_result"
    }
   ],
   "source": [
    "#짝수인 경우에만 5를 곱하여 리스트 만들기\n",
    "c = [i*5 for i in a if(i%2==0)]\n",
    "c\n",
    "    \n",
    "    \n",
    "    \n",
    "    \n",
    "    "
   ]
  },
  {
   "cell_type": "code",
   "execution_count": 150,
   "metadata": {},
   "outputs": [
    {
     "name": "stdout",
     "output_type": "stream",
     "text": [
      "[2, 4, 6, 8, 10, 12, 14, 16, 18, 3, 6, 9, 12, 15, 18, 21, 24, 27, 4, 8, 12, 16, 20, 24, 28, 32, 36, 5, 10, 15, 20, 25, 30, 35, 40, 45, 6, 12, 18, 24, 30, 36, 42, 48, 54, 7, 14, 21, 28, 35, 42, 49, 56, 63, 8, 16, 24, 32, 40, 48, 56, 64, 72, 9, 18, 27, 36, 45, 54, 63, 72, 81]\n"
     ]
    }
   ],
   "source": [
    "#위의 소스처럼 구구단 결과를 리스트로 만들기(2단9단)\n",
    "d = [i*k for i in range(2,10) for k in ra\n",
    "     nge(1,10) ]\n",
    "print(d)\n",
    "    \n",
    "    \n",
    "    \n",
    "    \n",
    "    "
   ]
  },
  {
   "cell_type": "code",
   "execution_count": null,
   "metadata": {},
   "outputs": [],
   "source": []
  }
 ],
 "metadata": {
  "kernelspec": {
   "display_name": "Python 3",
   "language": "python",
   "name": "python3"
  },
  "language_info": {
   "codemirror_mode": {
    "name": "ipython",
    "version": 3
   },
   "file_extension": ".py",
   "mimetype": "text/x-python",
   "name": "python",
   "nbconvert_exporter": "python",
   "pygments_lexer": "ipython3",
   "version": "3.7.1"
  }
 },
 "nbformat": 4,
 "nbformat_minor": 2
}
