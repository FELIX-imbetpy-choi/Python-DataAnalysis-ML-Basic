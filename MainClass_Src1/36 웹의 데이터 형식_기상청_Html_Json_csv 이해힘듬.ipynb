{
 "cells": [
  {
   "cell_type": "markdown",
   "metadata": {},
   "source": [
    "# 웹의 다양한 데이터 형식\n",
    "------------\n",
    "# 텍스트 데이터와 바이너리 데이터\n",
    "텍스트 데이터\n",
    "-  일반적으로 텍스트 에디터(메모장)로 편집할 수 있는 포멧\n",
    "- ex : txt, xml, json, csv, tsv, ssv...\n",
    "- 가독성이 좋으나 data용량을 많이 차지한다\n",
    "\n",
    "바이너리 데이터\n",
    "- 텍스트 데이터를 제외한 데이터 \n",
    "- 일반적인 텍스트 에디터로 열면 사람이 시각적으로 확인되도 의미를 알 수 없음\n",
    "- 텍스트 데이터에 비해 데이터 용량은많이 차지 하지 않지만, 가독성이 없음"
   ]
  },
  {
   "cell_type": "markdown",
   "metadata": {},
   "source": [
    "-------------------\n",
    "# 텍스트 테이터의 주의점\n",
    "- 인코딩 문제가 발생\n",
    "- 한글의 경우는 euc-kr, utf-8 의 인코딩을 사용"
   ]
  },
  {
   "cell_type": "markdown",
   "metadata": {},
   "source": [
    "# xml\n",
    "- 텍스트 데이터를 기반으로 하는 형식\n",
    "- Xml(eXtensible Markup Language)\n",
    "- W3C(웹표준협회)에 의해 표준 정의\n",
    "- 데이터를 계층형 구조로 표현\n",
    "- <요소속성 = '속성값'>내용</요소>"
   ]
  },
  {
   "cell_type": "markdown",
   "metadata": {},
   "source": [
    "# 기상청 전국 날씨\n",
    "http://www.kma.go.kr/weather/forecast/mid-term-rss3.jsp?stnId=108"
   ]
  },
  {
   "cell_type": "code",
   "execution_count": 1,
   "metadata": {},
   "outputs": [],
   "source": [
    "from bs4 import BeautifulSoup\n",
    "import urllib.request as req # 인터넷에 연결되서 데이터를 가져오는 \n",
    "import os.path # 현 디렉토리가 어디인지 알려줌\n",
    "\n",
    "\n",
    "\n"
   ]
  },
  {
   "cell_type": "code",
   "execution_count": 2,
   "metadata": {},
   "outputs": [
    {
     "name": "stdout",
     "output_type": "stream",
     "text": [
      "+ 구름조금\n",
      "|-- 서울 : -3 ~ 5\n",
      "|-- 인천 : -2 ~ 5\n",
      "|-- 수원 : -4 ~ 6\n",
      "|-- 파주 : -8 ~ 5\n",
      "|-- 춘천 : -6 ~ 5\n",
      "|-- 원주 : -5 ~ 6\n",
      "|-- 강릉 : 0 ~ 7\n",
      "|-- 대전 : -2 ~ 7\n",
      "|-- 세종 : -4 ~ 6\n",
      "|-- 홍성 : -4 ~ 7\n",
      "|-- 청주 : -4 ~ 7\n",
      "|-- 전주 : -2 ~ 7\n",
      "|-- 군산 : -2 ~ 7\n",
      "|-- 부산 : 2 ~ 11\n",
      "|-- 울산 : 1 ~ 10\n",
      "|-- 창원 : 1 ~ 10\n",
      "|-- 대구 : -1 ~ 8\n",
      "|-- 안동 : -4 ~ 7\n",
      "|-- 포항 : 0 ~ 9\n",
      "|-- 제주 : 8 ~ 13\n",
      "|-- 서귀포 : 9 ~ 14\n",
      "+ 구름많음\n",
      "|-- 광주 : 0 ~ 9\n",
      "|-- 목포 : 3 ~ 9\n",
      "|-- 여수 : 3 ~ 10\n"
     ]
    }
   ],
   "source": [
    "# 인터넷에 얻을 데이터가 있다면 이런식으로 데이터를 가지고 온다.\n",
    "\n",
    "#1단계 - 모두 가져온다.\n",
    "url = 'http://www.kma.go.kr/weather/forecast/mid-term-rss3.jsp?stnId=108'\n",
    "savename = 'forecast.xml'\n",
    "\n",
    "# 현재 해당 파일의 존재 여부 확인 - 이부분은 매일 새로운 데이터를 받으려면 없어야 한다 - forecast.xml이 없으면 가져와라는 뜻!\n",
    "if not os.path.exists(savename):\n",
    "    req.urlretrieve(url, savename)\n",
    "\n",
    "#2단계 - 데이터를 잘래낸다\n",
    "# BeautifulSoup로 분석하기\n",
    "xml = open(savename,'r',encoding='utf-8').read()\n",
    "soup = BeautifulSoup(xml,'html.parser')\n",
    "\n",
    "# 각지역 확인하기\n",
    "info = {}\n",
    "for location in soup.find_all('location'):\n",
    "    name = location.find('city').getText()\n",
    "    weather = location.find('wf').getText()\n",
    "    low = location.find('tmn').getText()\n",
    "    high = location.find('tmx').getText()\n",
    "    if not (weather in info):\n",
    "        info[weather]=[]\n",
    "    info[weather].append(name+' : '+low+' ~ '+high)\n",
    "\n",
    "\n",
    "# 각 지역의 날씨를 구분하여 출력하기\n",
    "for weather in info.keys():\n",
    "    print('+', weather)\n",
    "    for name in info[weather]:\n",
    "        print('|--',name)\n",
    "\n",
    "\n",
    "\n",
    "\n",
    "\n",
    "\n",
    "\n",
    "\n",
    "\n",
    "\n",
    "\n",
    "\n",
    "\n",
    "\n",
    "\n",
    "\n",
    "        "
   ]
  },
  {
   "cell_type": "markdown",
   "metadata": {},
   "source": [
    "---------------------\n",
    "# JSON : (JavaScript object natation)\n",
    "- Text Data를 기반으로 하는가변운 데이터 형식\n",
    "- 구조가 단순하다는 장점\n",
    "- 거의 대부분의 웹API들이 JSON형식으로 데이터를 제공한다.\n",
    "\n",
    "# JSON 구조\n",
    "1. JSON 데이터는 이름과 값의 쌍으로 이루어집니다.\n",
    "2. JSON 데이터는 쉼표로 나열됩니다.\n",
    "3. 객체는 중괄호{}로 둘러쌓아 표현한다.\n",
    "4. 배열은 대괄호[]로 둘러쌓아 표현한다."
   ]
  },
  {
   "cell_type": "markdown",
   "metadata": {},
   "source": [
    "# https://api.github.com/repositories"
   ]
  },
  {
   "cell_type": "code",
   "execution_count": 3,
   "metadata": {},
   "outputs": [],
   "source": [
    "import urllib.request as req\n",
    "import os.path\n",
    "import json\n",
    "\n",
    "\n",
    "\n"
   ]
  },
  {
   "cell_type": "code",
   "execution_count": 48,
   "metadata": {},
   "outputs": [
    {
     "name": "stdout",
     "output_type": "stream",
     "text": [
      "grit-mojombo\n",
      "merb-core-wycats\n",
      "rubinius-rubinius\n",
      "god-mojombo\n",
      "jsawesome-vanpelt\n",
      "jspec-wycats\n",
      "exception_logger-defunkt\n",
      "ambition-defunkt\n",
      "restful-authentication-technoweenie\n",
      "attachment_fu-technoweenie\n",
      "microsis-Caged\n",
      "s3-anotherjesse\n",
      "taboo-anotherjesse\n",
      "foxtracs-anotherjesse\n",
      "fotomatic-anotherjesse\n",
      "glowstick-mojombo\n",
      "starling-defunkt\n",
      "merb-more-wycats\n",
      "thin-macournoyer\n",
      "resource_controller-jamesgolick\n",
      "markaby-jamesgolick\n",
      "enum_field-jamesgolick\n",
      "subtlety-defunkt\n",
      "zippy-defunkt\n",
      "cache_fu-defunkt\n",
      "phosphor-KirinDave\n",
      "sinatra-bmizerany\n",
      "gsa-prototype-jnewland\n",
      "duplikate-technoweenie\n",
      "lazy_record-jnewland\n",
      "gsa-feeds-jnewland\n",
      "votigoto-jnewland\n",
      "mofo-defunkt\n",
      "xhtmlize-jnewland\n",
      "ruby-git-ruby-git\n",
      "bmhsearch-ezmobius\n",
      "mofo-uggedal\n",
      "simply_versioned-mmower\n",
      "gchart-abhay\n",
      "schemr-benburkert\n",
      "calais-abhay\n",
      "chronic-mojombo\n",
      "git-wiki-sr\n",
      "signal-wiki-queso\n",
      "ruby-on-rails-tmbundle-drnic\n",
      "low-pro-for-jquery-danwrong\n",
      "merb-core-wayneeseguin\n",
      "dst-sr\n",
      "yaws-mojombo\n",
      "yaws-KirinDave\n",
      "tasks-sr\n",
      "ruby-on-rails-tmbundle-mattetti\n",
      "amazon-ec2-grempe\n",
      "merblogger-wayneeseguin\n",
      "merbtastic-wayneeseguin\n",
      "alogr-wayneeseguin\n",
      "autozest-wayneeseguin\n",
      "rnginx-wayneeseguin\n",
      "sequel-wayneeseguin\n",
      "simply_versioned-bmizerany\n",
      "switchpipe-peterc\n",
      "arc-hornbeck\n",
      "ebay4r-up_the_irons\n",
      "merb-plugins-wycats\n",
      "ram-up_the_irons\n",
      "ambitious_activeldap-defunkt\n",
      "fitter_happier-atmos\n",
      "oebfare-brosner\n",
      "credit_card_tools-up_the_irons\n",
      "rorem-jnicklas\n",
      "braid-cristibalan\n",
      "uploadcolumn-jnicklas\n",
      "ruby-on-rails-tmbundle-simonjefford\n",
      "rack-mirror-chneukirchen\n",
      "coset-mirror-chneukirchen\n",
      "javascript-unittest-tmbundle-drnic\n",
      "eycap-engineyard\n",
      "gitsum-chneukirchen\n",
      "sequel-model-wayneeseguin\n",
      "god-kevinclark\n",
      "blerb-core-hornbeck\n",
      "django-mptt-brosner\n",
      "bus-scheme-technomancy\n",
      "javascript-bits-Caged\n",
      "groomlake-Caged\n",
      "forgery-sevenwire\n",
      "ambitious-sphinx-technicalpickles\n",
      "soup-lazyatom\n",
      "rails-josh\n",
      "backpacking-cdcarter\n",
      "capsize-jnewland\n",
      "starling-bs\n",
      "ape-sr\n",
      "awesomeness-collectiveidea\n",
      "audited-collectiveidea\n",
      "acts_as_geocodable-collectiveidea\n",
      "acts_as_money-collectiveidea\n",
      "calendar_builder-collectiveidea\n",
      "clear_empty_attributes-collectiveidea\n",
      "css_naked_day-collectiveidea\n"
     ]
    }
   ],
   "source": [
    "# Json 데이터 내려받기\n",
    "url = 'https://api.github.com/repositories'\n",
    "savename = 'repo.json'\n",
    "\n",
    "if not os.path.exists(savename):\n",
    "    req.urlretrieve(url, savename)\n",
    "    \n",
    "# JSON 파일 분석하기\n",
    "s = open(savename, 'r', encoding='utf-8').read()\n",
    "items = json.loads(s)\n",
    "\n",
    "for item in items:\n",
    "    print(item['name']+ '-' + item['owner']['login'])\n",
    "\n",
    "\n",
    "\n",
    "\n",
    "\n",
    "\n",
    "\n"
   ]
  },
  {
   "cell_type": "markdown",
   "metadata": {},
   "source": [
    "--------------------------------------------\n",
    "# 콤마CSV(comma seperatec value), 탭TSV(Tab seperated value), 스페이스바SSV(space Seperated Value)\n",
    "- 웹에서 가장 많이 사용\n",
    "- 구조가 단순하다, 엑셀로도 쉽게 제작 가능\n",
    "- csv는 각 필드를 쉼표로 구분한다.\n",
    "- tsc는 각 필드를 탭으로 구분한다.\n",
    "- ssv는 각 필드를 스페이스바로 구분한다.\n",
    "- 사용할 때 인코딩 타입을 반드시 확인\n",
    "- 큰따옴표를 써도 되고 쓰지 않아도 되지만, 각 필드에 쉼표나 줄바꿈 등등이 있을 경우 큰 따옴표 사용해야함! (1,000원 일때 \"1,000원\")"
   ]
  },
  {
   "cell_type": "code",
   "execution_count": 49,
   "metadata": {},
   "outputs": [],
   "source": [
    "import codecs # 코덱들을 정리해 놓은 모듈 - utf8 등\n",
    "\n",
    "\n",
    "\n"
   ]
  },
  {
   "cell_type": "code",
   "execution_count": null,
   "metadata": {},
   "outputs": [],
   "source": [
    "# euc_kr로 저장된 csv 파일 읽기\n",
    "\n",
    "\n",
    "\n"
   ]
  },
  {
   "cell_type": "code",
   "execution_count": 50,
   "metadata": {},
   "outputs": [],
   "source": [
    "filename = './data/list-euckr.csv'\n",
    "csv = codecs.open(filename,'r','euc_kr').read()\n",
    "\n",
    "\n",
    "\n"
   ]
  },
  {
   "cell_type": "code",
   "execution_count": 55,
   "metadata": {},
   "outputs": [
    {
     "name": "stdout",
     "output_type": "stream",
     "text": [
      "ID 이름 가격\n",
      "1000 비누 300\n",
      "1001 장갑 150\n",
      "1002 마스크 230\n"
     ]
    }
   ],
   "source": [
    "# csv를 파이썬 리스트로 변환하기\n",
    "data = []\n",
    "rows = csv.split('\\r\\n') # ''는 빈줄이 있기 때문에 생긴다.\n",
    "for row in rows:\n",
    "    if row == '':continue # '' 비어있는 데이터는 컨티뉴로 넘어가고 - rows 길이때문에 알아서 멈춤\n",
    "    cells = row.split(',')\n",
    "    data.append(cells)\n",
    "\n",
    "#결과 출력하기\n",
    "for c in data:\n",
    "    print(c[0],c[1],c[2])\n",
    "\n",
    "\n",
    "\n",
    "\n",
    "\n",
    "\n",
    "\n"
   ]
  },
  {
   "cell_type": "code",
   "execution_count": 58,
   "metadata": {},
   "outputs": [
    {
     "data": {
      "text/plain": [
       "['ID,이름,가격', '1000,비누,300', '1001,장갑,150', '1002,마스크,230', '']"
      ]
     },
     "execution_count": 58,
     "metadata": {},
     "output_type": "execute_result"
    }
   ],
   "source": [
    "rows\n",
    "\n",
    "\n",
    "\n"
   ]
  },
  {
   "cell_type": "code",
   "execution_count": 59,
   "metadata": {},
   "outputs": [],
   "source": [
    "import pandas as pd\n",
    "\n",
    "\n",
    "\n"
   ]
  },
  {
   "cell_type": "code",
   "execution_count": 60,
   "metadata": {},
   "outputs": [
    {
     "data": {
      "text/html": [
       "<div>\n",
       "<style scoped>\n",
       "    .dataframe tbody tr th:only-of-type {\n",
       "        vertical-align: middle;\n",
       "    }\n",
       "\n",
       "    .dataframe tbody tr th {\n",
       "        vertical-align: top;\n",
       "    }\n",
       "\n",
       "    .dataframe thead th {\n",
       "        text-align: right;\n",
       "    }\n",
       "</style>\n",
       "<table border=\"1\" class=\"dataframe\">\n",
       "  <thead>\n",
       "    <tr style=\"text-align: right;\">\n",
       "      <th></th>\n",
       "      <th>ID</th>\n",
       "      <th>이름</th>\n",
       "      <th>가격</th>\n",
       "    </tr>\n",
       "  </thead>\n",
       "  <tbody>\n",
       "    <tr>\n",
       "      <th>0</th>\n",
       "      <td>1000</td>\n",
       "      <td>비누</td>\n",
       "      <td>300</td>\n",
       "    </tr>\n",
       "    <tr>\n",
       "      <th>1</th>\n",
       "      <td>1001</td>\n",
       "      <td>장갑</td>\n",
       "      <td>150</td>\n",
       "    </tr>\n",
       "    <tr>\n",
       "      <th>2</th>\n",
       "      <td>1002</td>\n",
       "      <td>마스크</td>\n",
       "      <td>230</td>\n",
       "    </tr>\n",
       "  </tbody>\n",
       "</table>\n",
       "</div>"
      ],
      "text/plain": [
       "     ID   이름   가격\n",
       "0  1000   비누  300\n",
       "1  1001   장갑  150\n",
       "2  1002  마스크  230"
      ]
     },
     "execution_count": 60,
     "metadata": {},
     "output_type": "execute_result"
    }
   ],
   "source": [
    "# 이렇게 불러오기 때문에 pandas 쓰면 편하게 쓸 수 있다.\n",
    "aaa = pd.read_csv('./data/list-euckr.csv', encoding='euc_kr')\n",
    "aaa\n",
    "\n",
    "\n",
    "\n"
   ]
  },
  {
   "cell_type": "markdown",
   "metadata": {},
   "source": [
    "# Excel Data - pandas에서 불러올 수 있다. 이따가 보여줄께\n",
    "# http://www.index.go.kr/main.do - 국가 지표 체계"
   ]
  },
  {
   "cell_type": "code",
   "execution_count": null,
   "metadata": {},
   "outputs": [],
   "source": [
    "# pandas에서는 xls 를 읽어 올 수 없다. - 숫자값으로 변환해서 가져와야 한다. - excel 통합문서로 저장"
   ]
  },
  {
   "cell_type": "code",
   "execution_count": 62,
   "metadata": {},
   "outputs": [],
   "source": [
    "import openpyxl\n",
    "\n",
    "\n",
    "\n",
    "\n"
   ]
  },
  {
   "cell_type": "code",
   "execution_count": 72,
   "metadata": {},
   "outputs": [
    {
     "data": {
      "text/plain": [
       "[['', 2017],\n",
       " ['계', 51778],\n",
       " ['서울', 9857],\n",
       " ['부산', 3470],\n",
       " ['대구', 2475],\n",
       " ['인천', 2948],\n",
       " ['광주', 1463],\n",
       " ['대전', 1502],\n",
       " ['울산', 1165],\n",
       " ['세종', 280],\n",
       " ['경기', 12873],\n",
       " ['강원', 1550],\n",
       " ['충북', 1594],\n",
       " ['충남', 2116],\n",
       " ['전북', 1854],\n",
       " ['전남', 1896],\n",
       " ['경북', 2691],\n",
       " ['경남', 3380],\n",
       " ['제주', 657]]"
      ]
     },
     "execution_count": 72,
     "metadata": {},
     "output_type": "execute_result"
    }
   ],
   "source": [
    "filename = './data/stat_104102.xlsx'\n",
    "book = openpyxl.load_workbook(filename)\n",
    "\n",
    "# excel은 mdi방식이라 sheet를 지정해줘야\n",
    "# 맨 앞의 sheet  추출하기\n",
    "sheet = book.worksheets[0]\n",
    "# 시트의 각 행을 순서대로 추출하기\n",
    "data = []\n",
    "for row in sheet.rows:\n",
    "    data.append(\n",
    "        [\n",
    "        row[0].value,\n",
    "        row[10].value\n",
    "        ]\n",
    "    )\n",
    "data\n",
    "\n",
    "\n",
    "\n",
    "\n",
    "\n",
    "\n",
    "\n"
   ]
  },
  {
   "cell_type": "code",
   "execution_count": 73,
   "metadata": {},
   "outputs": [
    {
     "data": {
      "text/plain": [
       "[['서울', 9857],\n",
       " ['부산', 3470],\n",
       " ['대구', 2475],\n",
       " ['인천', 2948],\n",
       " ['광주', 1463],\n",
       " ['대전', 1502],\n",
       " ['울산', 1165],\n",
       " ['세종', 280],\n",
       " ['경기', 12873],\n",
       " ['강원', 1550],\n",
       " ['충북', 1594],\n",
       " ['충남', 2116],\n",
       " ['전북', 1854],\n",
       " ['전남', 1896],\n",
       " ['경북', 2691],\n",
       " ['경남', 3380],\n",
       " ['제주', 657]]"
      ]
     },
     "execution_count": 73,
     "metadata": {},
     "output_type": "execute_result"
    }
   ],
   "source": [
    "del data[0]\n",
    "del data[0]\n",
    "data\n",
    "\n",
    "\n",
    "\n"
   ]
  },
  {
   "cell_type": "code",
   "execution_count": 89,
   "metadata": {},
   "outputs": [],
   "source": [
    "# 데이터를 인구 순서대로 정렬\n",
    "data1 = sorted(data,key=lambda x:x[1])\n",
    "\n",
    "#data2=data1[0]\n",
    "#data2[1] lambda에 있는 x는 데이터 한줄 그중에 [1]이니까 숫자값\n",
    "\n",
    "\n",
    "\n"
   ]
  },
  {
   "cell_type": "code",
   "execution_count": 90,
   "metadata": {},
   "outputs": [
    {
     "name": "stdout",
     "output_type": "stream",
     "text": [
      "1 세종 280\n",
      "2 제주 657\n",
      "3 울산 1165\n",
      "4 광주 1463\n",
      "5 대전 1502\n"
     ]
    }
   ],
   "source": [
    "# 하위 5위를 출력\n",
    "for i, a in enumerate(data1):\n",
    "    if(i>=5):break\n",
    "    print(i+1,a[0],a[1])\n",
    "\n",
    "\n",
    "\n"
   ]
  },
  {
   "cell_type": "code",
   "execution_count": 99,
   "metadata": {},
   "outputs": [
    {
     "data": {
      "text/plain": [
       "280"
      ]
     },
     "execution_count": 99,
     "metadata": {},
     "output_type": "execute_result"
    }
   ],
   "source": [
    "data2=data1[0]\n",
    "data2[1]\n",
    "\n",
    "\n",
    "\n"
   ]
  },
  {
   "cell_type": "code",
   "execution_count": 100,
   "metadata": {},
   "outputs": [
    {
     "data": {
      "text/plain": [
       "계     51778\n",
       "서울     9857\n",
       "부산     3470\n",
       "대구     2475\n",
       "인천     2948\n",
       "광주     1463\n",
       "대전     1502\n",
       "울산     1165\n",
       "세종      280\n",
       "경기    12873\n",
       "강원     1550\n",
       "충북     1594\n",
       "충남     2116\n",
       "전북     1854\n",
       "전남     1896\n",
       "경북     2691\n",
       "경남     3380\n",
       "제주      657\n",
       "Name: 2017, dtype: int64"
      ]
     },
     "execution_count": 100,
     "metadata": {},
     "output_type": "execute_result"
    }
   ],
   "source": [
    "# pandas에서는 쉽게 불러들일 수 있다.\n",
    "aaa = pd.read_excel('./data/stat_104102.xlsx')\n",
    "aaa[2017]\n",
    "\n",
    "\n",
    "\n"
   ]
  },
  {
   "cell_type": "code",
   "execution_count": 101,
   "metadata": {},
   "outputs": [],
   "source": [
    "def add_prop(agg_df):\n",
    "    agg_births = agg_df['births']\n",
    "    agg_df['prop'] = agg_births/ agg_births.sum()\n",
    "    return aggdf\n",
    "\n",
    "\n",
    "\n"
   ]
  },
  {
   "cell_type": "code",
   "execution_count": 102,
   "metadata": {},
   "outputs": [
    {
     "ename": "NameError",
     "evalue": "name 'names' is not defined",
     "output_type": "error",
     "traceback": [
      "\u001b[1;31m---------------------------------------------------------------------------\u001b[0m",
      "\u001b[1;31mNameError\u001b[0m                                 Traceback (most recent call last)",
      "\u001b[1;32m<ipython-input-102-7cf16d81dcae>\u001b[0m in \u001b[0;36m<module>\u001b[1;34m\u001b[0m\n\u001b[1;32m----> 1\u001b[1;33m \u001b[0mnames_with_prop\u001b[0m \u001b[1;33m=\u001b[0m \u001b[0mnames\u001b[0m\u001b[1;33m.\u001b[0m\u001b[0mgroupby\u001b[0m\u001b[1;33m(\u001b[0m\u001b[1;33m[\u001b[0m\u001b[1;34m'year'\u001b[0m\u001b[1;33m,\u001b[0m\u001b[1;34m'gender'\u001b[0m\u001b[1;33m]\u001b[0m\u001b[1;33m)\u001b[0m\u001b[1;33m.\u001b[0m\u001b[0mapply\u001b[0m\u001b[1;33m(\u001b[0m\u001b[0madd_prop\u001b[0m\u001b[1;33m)\u001b[0m\u001b[1;33m\u001b[0m\u001b[1;33m\u001b[0m\u001b[0m\n\u001b[0m",
      "\u001b[1;31mNameError\u001b[0m: name 'names' is not defined"
     ]
    }
   ],
   "source": [
    "names_with_prop = names.groupby(['year','gender']).apply(add_prop)\n",
    "\n",
    "\n",
    "\n"
   ]
  },
  {
   "cell_type": "code",
   "execution_count": null,
   "metadata": {},
   "outputs": [],
   "source": []
  }
 ],
 "metadata": {
  "kernelspec": {
   "display_name": "Python 3",
   "language": "python",
   "name": "python3"
  },
  "language_info": {
   "codemirror_mode": {
    "name": "ipython",
    "version": 3
   },
   "file_extension": ".py",
   "mimetype": "text/x-python",
   "name": "python",
   "nbconvert_exporter": "python",
   "pygments_lexer": "ipython3",
   "version": "3.7.1"
  }
 },
 "nbformat": 4,
 "nbformat_minor": 2
}
