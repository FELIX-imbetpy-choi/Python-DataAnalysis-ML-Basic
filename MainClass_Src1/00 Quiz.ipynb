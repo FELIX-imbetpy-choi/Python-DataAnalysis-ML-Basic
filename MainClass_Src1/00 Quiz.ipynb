{
 "cells": [
  {
   "cell_type": "raw",
   "metadata": {},
   "source": [
    "1) a라는 변수에 ‘hello world’라는 문자열이 바인딩돼있다고 했을 때 a의 값을 'hi world‘로 변경해 보세요\n",
    "\n",
    "\n",
    "\n"
   ]
  },
  {
   "cell_type": "code",
   "execution_count": 1,
   "metadata": {},
   "outputs": [
    {
     "data": {
      "text/plain": [
       "'hi world'"
      ]
     },
     "execution_count": 1,
     "metadata": {},
     "output_type": "execute_result"
    }
   ],
   "source": [
    "a = 'hello world'\n",
    "a = 'hi world'\n",
    "a\n",
    "\n",
    "\n",
    "\n"
   ]
  },
  {
   "cell_type": "raw",
   "metadata": {},
   "source": [
    "2) 아래와 같은 패턴의 별(*)을 출력하는 프로그램을 작성해 보세요\n",
    "*\n",
    "**\n",
    "***\n",
    "****\n",
    "*****\n",
    "\n",
    "\n",
    "\n"
   ]
  },
  {
   "cell_type": "code",
   "execution_count": 2,
   "metadata": {},
   "outputs": [
    {
     "name": "stdout",
     "output_type": "stream",
     "text": [
      "*\n",
      "**\n",
      "***\n",
      "****\n",
      "*****\n"
     ]
    }
   ],
   "source": [
    "for i in range(1,6):\n",
    "    print('*'*i)\n",
    "\n",
    "\n",
    "\n"
   ]
  },
  {
   "cell_type": "code",
   "execution_count": 3,
   "metadata": {},
   "outputs": [
    {
     "name": "stdout",
     "output_type": "stream",
     "text": [
      "*\n",
      "**\n",
      "***\n",
      "****\n",
      "*****\n"
     ]
    }
   ],
   "source": [
    "for i in range(1,6):\n",
    "    for j in range(1,i+1):\n",
    "        print('*', end = '')\n",
    "    print('')\n",
    "\n",
    "\n",
    "\n"
   ]
  },
  {
   "cell_type": "raw",
   "metadata": {},
   "source": [
    "3) 두개의 정수를 받아 두 값의 평균을 구하는 함수를 작성하세요\n",
    "\n",
    "\n",
    "\n"
   ]
  },
  {
   "cell_type": "code",
   "execution_count": 4,
   "metadata": {},
   "outputs": [
    {
     "name": "stdout",
     "output_type": "stream",
     "text": [
      "2\n",
      "4\n"
     ]
    },
    {
     "data": {
      "text/plain": [
       "3.0"
      ]
     },
     "execution_count": 4,
     "metadata": {},
     "output_type": "execute_result"
    }
   ],
   "source": [
    "def myaverage(a,b):\n",
    "    return (a+b)/2\n",
    "\n",
    "num1 = int(input())\n",
    "num2 = int(input())\n",
    "myaverage(num1,num2)\n",
    "\n",
    "\n",
    "\n"
   ]
  },
  {
   "cell_type": "raw",
   "metadata": {},
   "source": [
    " 4) 사용자로부터 키와 몸무게를 입력받은후 BMI값과 BMI 값에 따른 체형정보를 화면에 \n",
    "    출력하는 프로그램을 작성해보세요\n",
    "    키와 몸무게를 입력받은 후 BMI 및 체형 정보를 출력해야합니다.\n",
    "\n",
    "\n",
    "\n"
   ]
  },
  {
   "cell_type": "code",
   "execution_count": 5,
   "metadata": {},
   "outputs": [
    {
     "name": "stdout",
     "output_type": "stream",
     "text": [
      "키를 입력해주세요 :180\n",
      "몸무게를 입력해주세요 :80\n",
      "BMI지수는 24.69,정상입니다.\n"
     ]
    }
   ],
   "source": [
    "def BMI(a,b):\n",
    "    d = (a/100)*(a/100)\n",
    "    c = b/d\n",
    "    if(c<20):\n",
    "        result = print('BMI지수는 %3.2f,저체중입니다.'%c)\n",
    "    elif(20<=c<=25):\n",
    "        result = print('BMI지수는 %3.2f,정상입니다.'%c)\n",
    "    elif(25<c<29.9):\n",
    "        result = print('BMI지수는 %3.2f,과체중입니다.'%c)\n",
    "    elif(30<c<40):\n",
    "        result = print('BMI지수는 %3.2f,비만입니다.'%c)\n",
    "    elif(40<=c):\n",
    "        result = print('BMI지수는 %3.2f,고도비만입니다.'%c)\n",
    "    else:\n",
    "        result = print(c)\n",
    "    return result\n",
    "\n",
    "ki = int(input('키를 입력해주세요 :'))\n",
    "w = int(input('몸무게를 입력해주세요 :'))\n",
    "\n",
    "BMI(ki,w)\n",
    "\n",
    "\n",
    "\n",
    "\n",
    "\n",
    "\n",
    "\n",
    "\n",
    "\n",
    "\n",
    "\n"
   ]
  },
  {
   "cell_type": "raw",
   "metadata": {},
   "source": [
    " 5) 구구단을 출력하는 프로그램을 작성하시오\n",
    "    단, 각 단별 구분이 되게 작성하시오\n",
    "    \n",
    "    예) ----- 2단 -----\n",
    "              :\n",
    "              :\n",
    "        ----- 3단 -----\n",
    "\n",
    "\n",
    "\n"
   ]
  },
  {
   "cell_type": "code",
   "execution_count": 6,
   "metadata": {},
   "outputs": [
    {
     "name": "stdout",
     "output_type": "stream",
     "text": [
      "----- 2단 -----\n",
      " 2 X 1 =  2\n",
      " 2 X 2 =  4\n",
      " 2 X 3 =  6\n",
      " 2 X 4 =  8\n",
      " 2 X 5 = 10\n",
      " 2 X 6 = 12\n",
      " 2 X 7 = 14\n",
      " 2 X 8 = 16\n",
      " 2 X 9 = 18\n",
      "----- 3단 -----\n",
      " 3 X 1 =  3\n",
      " 3 X 2 =  6\n",
      " 3 X 3 =  9\n",
      " 3 X 4 = 12\n",
      " 3 X 5 = 15\n",
      " 3 X 6 = 18\n",
      " 3 X 7 = 21\n",
      " 3 X 8 = 24\n",
      " 3 X 9 = 27\n",
      "----- 4단 -----\n",
      " 4 X 1 =  4\n",
      " 4 X 2 =  8\n",
      " 4 X 3 = 12\n",
      " 4 X 4 = 16\n",
      " 4 X 5 = 20\n",
      " 4 X 6 = 24\n",
      " 4 X 7 = 28\n",
      " 4 X 8 = 32\n",
      " 4 X 9 = 36\n",
      "----- 5단 -----\n",
      " 5 X 1 =  5\n",
      " 5 X 2 = 10\n",
      " 5 X 3 = 15\n",
      " 5 X 4 = 20\n",
      " 5 X 5 = 25\n",
      " 5 X 6 = 30\n",
      " 5 X 7 = 35\n",
      " 5 X 8 = 40\n",
      " 5 X 9 = 45\n",
      "----- 6단 -----\n",
      " 6 X 1 =  6\n",
      " 6 X 2 = 12\n",
      " 6 X 3 = 18\n",
      " 6 X 4 = 24\n",
      " 6 X 5 = 30\n",
      " 6 X 6 = 36\n",
      " 6 X 7 = 42\n",
      " 6 X 8 = 48\n",
      " 6 X 9 = 54\n",
      "----- 7단 -----\n",
      " 7 X 1 =  7\n",
      " 7 X 2 = 14\n",
      " 7 X 3 = 21\n",
      " 7 X 4 = 28\n",
      " 7 X 5 = 35\n",
      " 7 X 6 = 42\n",
      " 7 X 7 = 49\n",
      " 7 X 8 = 56\n",
      " 7 X 9 = 63\n",
      "----- 8단 -----\n",
      " 8 X 1 =  8\n",
      " 8 X 2 = 16\n",
      " 8 X 3 = 24\n",
      " 8 X 4 = 32\n",
      " 8 X 5 = 40\n",
      " 8 X 6 = 48\n",
      " 8 X 7 = 56\n",
      " 8 X 8 = 64\n",
      " 8 X 9 = 72\n",
      "----- 9단 -----\n",
      " 9 X 1 =  9\n",
      " 9 X 2 = 18\n",
      " 9 X 3 = 27\n",
      " 9 X 4 = 36\n",
      " 9 X 5 = 45\n",
      " 9 X 6 = 54\n",
      " 9 X 7 = 63\n",
      " 9 X 8 = 72\n",
      " 9 X 9 = 81\n"
     ]
    }
   ],
   "source": [
    "for i in range(2,10):\n",
    "    print('-'*5+' %d단 '%i+'-'*5)\n",
    "    for j in range(1,10):\n",
    "        print(' %d X %d = %2d'%(i,j,i*j))\n",
    "\n",
    "\n",
    "\n"
   ]
  },
  {
   "cell_type": "raw",
   "metadata": {},
   "source": [
    "6)\n",
    "*\n",
    "**\n",
    "***\n",
    "****\n",
    "*****\n",
    "****\n",
    "***\n",
    "**\n",
    "*\n",
    "\n",
    "\n",
    "\n"
   ]
  },
  {
   "cell_type": "code",
   "execution_count": 8,
   "metadata": {},
   "outputs": [
    {
     "name": "stdout",
     "output_type": "stream",
     "text": [
      "Input your decimal no.3\n",
      "*\n",
      "**\n",
      "***\n",
      "****\n",
      "*****\n",
      "-----\n",
      "----\n",
      "---\n",
      "--\n",
      "-\n",
      "\n",
      "-\n",
      "--\n",
      "---\n",
      "----\n"
     ]
    }
   ],
   "source": [
    "num = int(input('Input your decimal no.'))\n",
    "\n",
    "for i in range(1,(num*2)):\n",
    "    print('*'*i)\n",
    "    \n",
    "for k in range(-5,5):\n",
    "    print('-'*(abs(k)))\n",
    "\n",
    "\n",
    "\n"
   ]
  },
  {
   "cell_type": "code",
   "execution_count": null,
   "metadata": {},
   "outputs": [],
   "source": [
    "num = int(input('Input your decimal no.'))\n",
    "for i in range(1,(num*2)):\n",
    "    if(num<i):\n",
    "        print('*'*(num*2-i))\n",
    "    else:\n",
    "        print('*'*i)\n",
    "\n",
    "\n",
    "\n"
   ]
  },
  {
   "cell_type": "raw",
   "metadata": {},
   "source": [
    "7)  10^0=            1\n",
    "    10^1=           10\n",
    "    10^2=          100\n",
    "    10^3=         1000\n",
    "    10^4=        10000\n",
    "    10^5=       100000\n",
    "    10^6=      1000000\n",
    "    10^7=     10000000\n",
    "    10^8=    100000000\n",
    "    10^9=   1000000000\n",
    "    10^10= 10000000000\n",
    "\n",
    "\n",
    "\n"
   ]
  },
  {
   "cell_type": "code",
   "execution_count": 8,
   "metadata": {},
   "outputs": [
    {
     "name": "stdout",
     "output_type": "stream",
     "text": [
      "10^ 0 =            1\n",
      "10^ 1 =           10\n",
      "10^ 2 =          100\n",
      "10^ 3 =         1000\n",
      "10^ 4 =        10000\n",
      "10^ 5 =       100000\n",
      "10^ 6 =      1000000\n",
      "10^ 7 =     10000000\n",
      "10^ 8 =    100000000\n",
      "10^ 9 =   1000000000\n",
      "10^10 =  10000000000\n"
     ]
    }
   ],
   "source": [
    "for i in range(0,11):\n",
    "    print('10^%2d = %12d'%(i,pow(10,i)))\n",
    "\n",
    "\n",
    "\n"
   ]
  },
  {
   "cell_type": "raw",
   "metadata": {},
   "source": [
    "8)\n",
    "입력한 수의 factorial 구하기 (예: 4!=4*3*2*1*)\n",
    "Input your decimal no. : 4\n",
    "4`s factorial value = 24\n",
    "\n",
    "\n",
    "\n"
   ]
  },
  {
   "cell_type": "code",
   "execution_count": 9,
   "metadata": {},
   "outputs": [
    {
     "name": "stdout",
     "output_type": "stream",
     "text": [
      "Input your decimal no. : 5\n",
      "5`s factorial value = 120\n"
     ]
    }
   ],
   "source": [
    "num = int(input('Input your decimal no. : '))\n",
    "tot=1\n",
    "for i in range(1,num+1):\n",
    "    tot*=i\n",
    "print('%d`s factorial value = %d'%(i,tot))\n",
    "\n",
    "\n",
    "\n"
   ]
  },
  {
   "cell_type": "raw",
   "metadata": {},
   "source": [
    "9)\n",
    "입력한 숫자부터 4개를 증가하여 화면 가로로 구구단을 표시하기\n",
    "\n",
    "\n",
    "\n"
   ]
  },
  {
   "cell_type": "code",
   "execution_count": 10,
   "metadata": {},
   "outputs": [
    {
     "name": "stdout",
     "output_type": "stream",
     "text": [
      "Input your number :4\n",
      "4 X 1 =   4\t5 X 1 =   5\t6 X 1 =   6\t7 X 1 =   7\t\n",
      "4 X 2 =   8\t5 X 2 =  10\t6 X 2 =  12\t7 X 2 =  14\t\n",
      "4 X 3 =  12\t5 X 3 =  15\t6 X 3 =  18\t7 X 3 =  21\t\n",
      "4 X 4 =  16\t5 X 4 =  20\t6 X 4 =  24\t7 X 4 =  28\t\n",
      "4 X 5 =  20\t5 X 5 =  25\t6 X 5 =  30\t7 X 5 =  35\t\n",
      "4 X 6 =  24\t5 X 6 =  30\t6 X 6 =  36\t7 X 6 =  42\t\n",
      "4 X 7 =  28\t5 X 7 =  35\t6 X 7 =  42\t7 X 7 =  49\t\n",
      "4 X 8 =  32\t5 X 8 =  40\t6 X 8 =  48\t7 X 8 =  56\t\n",
      "4 X 9 =  36\t5 X 9 =  45\t6 X 9 =  54\t7 X 9 =  63\t\n"
     ]
    }
   ],
   "source": [
    "num = int(input('Input your number :'))\n",
    "for i in range(1,10):\n",
    "    for j in range(num,num+4):\n",
    "        print('%d X %d = %3d'%(j,i,j*i), end='\\t')\n",
    "    print()\n",
    "\n",
    "\n",
    "\n"
   ]
  },
  {
   "cell_type": "raw",
   "metadata": {},
   "source": [
    "10)\n",
    "입력한 한 자릿수 정수의 합을 구하는 프로그램을 작성하라.\n",
    "Enter an integer(0~9) : 12345678\n",
    "Sum of digits = 36\n",
    "\n",
    "\n",
    "\n"
   ]
  },
  {
   "cell_type": "code",
   "execution_count": 11,
   "metadata": {},
   "outputs": [
    {
     "name": "stdout",
     "output_type": "stream",
     "text": [
      "Input your number :12345678\n",
      "Sum of digits = 36\n"
     ]
    }
   ],
   "source": [
    "num = input('Enter an integer(0~9) :')\n",
    "tot = 0\n",
    "nu = list(num)\n",
    "for i in num:\n",
    "    k=int(nu.pop())\n",
    "    tot+=k\n",
    "print('Sum of digits = %d'%tot)\n",
    "\n",
    "\n",
    "\n"
   ]
  },
  {
   "cell_type": "raw",
   "metadata": {},
   "source": [
    "11)\n",
    "더하기 할 숫자들의 개수를 정한 후 숫자를 입력 받아서\n",
    "입력한 숫자의 합을 구하는 프로그램 작성.\n",
    "\n",
    "\n",
    "\n"
   ]
  },
  {
   "cell_type": "code",
   "execution_count": 12,
   "metadata": {},
   "outputs": [
    {
     "name": "stdout",
     "output_type": "stream",
     "text": [
      "몇개의 숫자를 더할까요? :4\n",
      "4개의 숫자를 입력하세요\n",
      "1\n",
      "2\n",
      "3\n",
      "4\n",
      "입력한 숫자의 합은 10 입니다.\n"
     ]
    }
   ],
   "source": [
    "num = int(input('몇개의 숫자를 더할까요? :'))\n",
    "print('%d개의 숫자를 입력하세요'%num)\n",
    "tot=0\n",
    "for i in range(1,(num+1)):\n",
    "    nb = int(input())\n",
    "    tot+=nb\n",
    "print('입력한 숫자의 합은 %d 입니다.'%tot)\n",
    "\n",
    "\n",
    "\n"
   ]
  },
  {
   "cell_type": "code",
   "execution_count": null,
   "metadata": {},
   "outputs": [],
   "source": []
  }
 ],
 "metadata": {
  "kernelspec": {
   "display_name": "Python 3",
   "language": "python",
   "name": "python3"
  },
  "language_info": {
   "codemirror_mode": {
    "name": "ipython",
    "version": 3
   },
   "file_extension": ".py",
   "mimetype": "text/x-python",
   "name": "python",
   "nbconvert_exporter": "python",
   "pygments_lexer": "ipython3",
   "version": "3.7.1"
  }
 },
 "nbformat": 4,
 "nbformat_minor": 2
}
